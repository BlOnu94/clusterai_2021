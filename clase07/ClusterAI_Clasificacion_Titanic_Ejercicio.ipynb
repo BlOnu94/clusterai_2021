{
 "cells": [
  {
   "cell_type": "raw",
   "id": "derived-interview",
   "metadata": {},
   "source": [
    "Universidad Tecnologica Nacional Buenos Aires\n",
    "Cátedra de Ciencia de Datos - Curso I5521 - Turno sabado mañana\n",
    "Ejercicio de Clasificación \n",
    "Autor: Santiago Chas\n"
   ]
  },
  {
   "cell_type": "markdown",
   "id": "double-concentrate",
   "metadata": {},
   "source": [
    "# Ejercicio Práctico de Clasificación "
   ]
  },
  {
   "cell_type": "code",
   "execution_count": null,
   "id": "medical-document",
   "metadata": {},
   "outputs": [],
   "source": [
    "#Importamos librerias\n",
    "\n",
    "# Data Manipulation\n",
    "import numpy as np\n",
    "import pandas as pd\n",
    "\n",
    "# Visualization\n",
    "import matplotlib.pyplot as plt\n",
    "import seaborn as sns\n",
    "plt.style.use('seaborn-whitegrid')\n",
    "\n",
    "# Model\n",
    "from sklearn import preprocessing\n",
    "from sklearn import svm\n",
    "from sklearn.svm import SVC\n",
    "from sklearn.model_selection import train_test_split\n",
    "from sklearn.metrics import accuracy_score\n",
    "from sklearn.model_selection import cross_val_score\n",
    "from sklearn.metrics import roc_curve, auc\n",
    "from sklearn.metrics import precision_recall_curve, auc\n",
    "from sklearn import metrics\n",
    "from sklearn.model_selection import RandomizedSearchCV\n",
    "from sklearn.model_selection import GridSearchCV\n",
    "from sklearn.metrics import confusion_matrix\n",
    "from sklearn.neighbors import KNeighborsClassifier\n",
    "from sklearn.linear_model import LogisticRegression\n",
    "from sklearn.metrics import average_precision_score\n",
    "from sklearn.preprocessing import MinMaxScaler\n",
    "from sklearn.ensemble import RandomForestClassifier"
   ]
  },
  {
   "cell_type": "markdown",
   "id": "civic-police",
   "metadata": {},
   "source": [
    "## Lineas para GoogleColab"
   ]
  },
  {
   "cell_type": "code",
   "execution_count": null,
   "id": "medieval-muscle",
   "metadata": {},
   "outputs": [],
   "source": [
    "#from google.colab import files"
   ]
  },
  {
   "cell_type": "code",
   "execution_count": null,
   "id": "applicable-watts",
   "metadata": {},
   "outputs": [],
   "source": [
    "#uploaded = files.upload()\n",
    "#titanic = pd.read_csv(\"\")"
   ]
  },
  {
   "cell_type": "code",
   "execution_count": null,
   "id": "public-track",
   "metadata": {},
   "outputs": [],
   "source": [
    "#titanic = pd.read_csv(\"train.csv\")"
   ]
  },
  {
   "cell_type": "markdown",
   "id": "interesting-incident",
   "metadata": {},
   "source": [
    "## Para trabajar en local"
   ]
  },
  {
   "cell_type": "code",
   "execution_count": null,
   "id": "treated-singapore",
   "metadata": {},
   "outputs": [],
   "source": [
    "titanic = pd.read_csv(r\"C:\\Users\\santi\\OneDrive\\Documentos\\Santi Documentos\\Facultad UTN\\5° Año\\Ciencia de datos\\db_titanic.csv\",delimiter=',')"
   ]
  },
  {
   "cell_type": "code",
   "execution_count": null,
   "id": "joint-chest",
   "metadata": {},
   "outputs": [],
   "source": [
    "#Imprimir las primeras lineas del dataset para corroborar que se cargó correctamente\n",
    "\n",
    "#code"
   ]
  },
  {
   "cell_type": "code",
   "execution_count": null,
   "id": "sticky-boutique",
   "metadata": {},
   "outputs": [],
   "source": [
    "titanic.shape"
   ]
  },
  {
   "cell_type": "code",
   "execution_count": null,
   "id": "temporal-malaysia",
   "metadata": {},
   "outputs": [],
   "source": [
    "#Ver la distribución de la variable objetivo de manera muy sencilla\n",
    "\n",
    "#code\n",
    "\n",
    "# Que podemos decir al respecto?"
   ]
  },
  {
   "cell_type": "code",
   "execution_count": null,
   "id": "fifty-booth",
   "metadata": {},
   "outputs": [],
   "source": [
    "#Obtener varias metricas de estadistica descriptiva sobre las variables numéricas\n",
    "\n",
    "#code"
   ]
  },
  {
   "cell_type": "code",
   "execution_count": null,
   "id": "whole-consideration",
   "metadata": {},
   "outputs": [],
   "source": [
    "#Renombramos las variables de Pclass para que sea más facil de interpretar\n",
    "titanic['Pclass'] = titanic['Pclass'].map({1 : 'Primera Clase' ,2 : 'Segunda Clase', 3: \"Tercera Clase\"})"
   ]
  },
  {
   "cell_type": "code",
   "execution_count": null,
   "id": "muslim-import",
   "metadata": {},
   "outputs": [],
   "source": [
    "# Imprimir las columnas del dataframe\n",
    "\n",
    "#code\n",
    "\n",
    "print('_'*50)\n",
    "\n",
    "#Mostrar informacion basica de las columnas ( tipo de datos, cantidad de registros entre otros)\n",
    "\n",
    "#code"
   ]
  },
  {
   "cell_type": "code",
   "execution_count": null,
   "id": "positive-charger",
   "metadata": {},
   "outputs": [],
   "source": [
    "survivors = titanic[titanic['Survived'] == 1]\n",
    "print('The total number of survivors is: ' + str(len(survivors)))\n",
    "drowned = titanic[titanic['Survived'] == 0]\n",
    "print('The total number of deaths is: ' + str(len(drowned)))"
   ]
  },
  {
   "cell_type": "code",
   "execution_count": null,
   "id": "destroyed-chamber",
   "metadata": {},
   "outputs": [],
   "source": [
    "print(survivors['Sex'].value_counts())\n",
    "print(drowned['Sex'].value_counts())"
   ]
  },
  {
   "cell_type": "code",
   "execution_count": null,
   "id": "accomplished-exhibition",
   "metadata": {},
   "outputs": [],
   "source": [
    "#Obtener la media de la edad por sexo utilizando groupby\n",
    "\n",
    "#code\n",
    "#code"
   ]
  },
  {
   "cell_type": "code",
   "execution_count": null,
   "id": "sophisticated-google",
   "metadata": {},
   "outputs": [],
   "source": [
    "#Eliminar la variable Cabin ya que contiene demasiados nulos\n",
    "\n",
    "#code"
   ]
  },
  {
   "cell_type": "code",
   "execution_count": null,
   "id": "numerous-laptop",
   "metadata": {},
   "outputs": [],
   "source": [
    "#Imputar missings\n",
    "\n",
    "#Imputar los missings de la variable \"Age\" con su media\n",
    "\n",
    "#code\n",
    "\n",
    "#Imputar los missings de la variable \"Embarked\" con \"S\"\n",
    "\n",
    "#code"
   ]
  },
  {
   "cell_type": "code",
   "execution_count": null,
   "id": "proud-light",
   "metadata": {},
   "outputs": [],
   "source": [
    "#Corroborar que se realizó correctamente\n",
    "\n",
    "#code"
   ]
  },
  {
   "cell_type": "code",
   "execution_count": null,
   "id": "skilled-durham",
   "metadata": {},
   "outputs": [],
   "source": [
    "#Imprimimos la matriz de correlación para ver si existen variables correlacioandas\n",
    "corr = titanic.corr()\n",
    "print(corr)\n",
    "sns.heatmap(corr)"
   ]
  },
  {
   "cell_type": "code",
   "execution_count": null,
   "id": "younger-reviewer",
   "metadata": {},
   "outputs": [],
   "source": [
    "#Histograma por edad\n",
    "fig_dims = (10, 8)\n",
    "fig, ax = plt.subplots(figsize=fig_dims)\n",
    "age=sns.histplot(titanic, x=\"Age\", bins = 10,hue=\"Survived\", kde=\"True\", alpha=0.2, linewidth=0.1)\n",
    "plt.xlabel(\"Age\")\n",
    "plt.ylabel(\"Count\")\n",
    "plt.title(\"Histograma por edad\")\n",
    "plt.show(age)"
   ]
  },
  {
   "cell_type": "code",
   "execution_count": null,
   "id": "veterinary-monte",
   "metadata": {},
   "outputs": [],
   "source": [
    "#Utilizar un boxplot para ver como se distribuye la edad en función de las clases.\n",
    "\n",
    "#code\n",
    "#code\n",
    "#code"
   ]
  },
  {
   "cell_type": "code",
   "execution_count": null,
   "id": "composed-butler",
   "metadata": {},
   "outputs": [],
   "source": [
    "# Eliminamos variables que no aportan información\n",
    "titanic = titanic.drop(['PassengerId',\"Name\", \"Ticket\"], 1)"
   ]
  },
  {
   "cell_type": "code",
   "execution_count": null,
   "id": "daily-genesis",
   "metadata": {},
   "outputs": [],
   "source": [
    "titanic.columns"
   ]
  },
  {
   "cell_type": "code",
   "execution_count": null,
   "id": "cathedral-tradition",
   "metadata": {},
   "outputs": [],
   "source": [
    "#Dividir el dataset en las variables independiete y dependiente\n",
    "\n",
    "#code\n",
    "#code"
   ]
  },
  {
   "cell_type": "code",
   "execution_count": null,
   "id": "chief-probe",
   "metadata": {},
   "outputs": [],
   "source": [
    "#Aplicamos LabelEncoder\n",
    "\n",
    "le = preprocessing.LabelEncoder()\n",
    "y=le.fit_transform(y)"
   ]
  },
  {
   "cell_type": "code",
   "execution_count": null,
   "id": "religious-maria",
   "metadata": {},
   "outputs": [],
   "source": [
    "#obtener dummies para las variables categoricas de X\n",
    "\n",
    "#code"
   ]
  },
  {
   "cell_type": "code",
   "execution_count": null,
   "id": "quality-default",
   "metadata": {},
   "outputs": [],
   "source": [
    "x.head()"
   ]
  },
  {
   "cell_type": "code",
   "execution_count": null,
   "id": "statistical-printer",
   "metadata": {},
   "outputs": [],
   "source": [
    "#Inicializamos el train test split\n",
    "X_train, X_test, y_train, y_test = train_test_split(x,y,test_size=0.2,random_state=27, stratify=y)"
   ]
  },
  {
   "cell_type": "code",
   "execution_count": null,
   "id": "actual-headquarters",
   "metadata": {},
   "outputs": [],
   "source": [
    "#Normalizamos las variables\n",
    "norm = MinMaxScaler().fit(X_train)\n",
    "X_train_norm = norm.transform(X_train)\n",
    "X_test_norm = norm.transform(X_test)"
   ]
  },
  {
   "cell_type": "markdown",
   "id": "stuck-scheduling",
   "metadata": {},
   "source": [
    "## Logistic Regression"
   ]
  },
  {
   "cell_type": "code",
   "execution_count": null,
   "id": "cutting-bleeding",
   "metadata": {},
   "outputs": [],
   "source": [
    "param_lr = {'C':[1, 10, 100, 1000], \"penalty\": (\"l1\", \"l2\"), \"solver\":(\"lbfgs\", \"liblinear\")}\n",
    "lr = LogisticRegression()"
   ]
  },
  {
   "cell_type": "code",
   "execution_count": null,
   "id": "champion-greensboro",
   "metadata": {},
   "outputs": [],
   "source": [
    "#Inicializar GridSearchCV con los paramentros dados y cv=3\n",
    "\n",
    "#code"
   ]
  },
  {
   "cell_type": "code",
   "execution_count": null,
   "id": "announced-senate",
   "metadata": {},
   "outputs": [],
   "source": [
    "clf_lr.fit(X_train_norm, y_train.ravel())"
   ]
  },
  {
   "cell_type": "code",
   "execution_count": null,
   "id": "metric-angola",
   "metadata": {},
   "outputs": [],
   "source": [
    "scores = clf_lr.cv_results_"
   ]
  },
  {
   "cell_type": "code",
   "execution_count": null,
   "id": "serial-loading",
   "metadata": {},
   "outputs": [],
   "source": [
    "print(\"Los mejores paramentros son %s con un score de %0.2f\" % (clf_lr.best_params_, clf_lr.best_score_))"
   ]
  },
  {
   "cell_type": "markdown",
   "id": "other-wesley",
   "metadata": {},
   "source": [
    "## KNN"
   ]
  },
  {
   "cell_type": "code",
   "execution_count": null,
   "id": "engaged-relaxation",
   "metadata": {},
   "outputs": [],
   "source": [
    "neigh = KNeighborsClassifier()"
   ]
  },
  {
   "cell_type": "code",
   "execution_count": null,
   "id": "mature-twist",
   "metadata": {},
   "outputs": [],
   "source": [
    "param_neigh = {'n_neighbors':[1, 10, 100, 200]}"
   ]
  },
  {
   "cell_type": "code",
   "execution_count": null,
   "id": "bacterial-exchange",
   "metadata": {},
   "outputs": [],
   "source": [
    "#Inicializar GridSearchCV con los paramentros dados y cv=3\n",
    "\n",
    "#code\n",
    "\n",
    "#Entrenar al el set de entrenamiento con el GridSearchCV que inicializamos\n",
    "\n",
    "#code"
   ]
  },
  {
   "cell_type": "code",
   "execution_count": null,
   "id": "engaged-reduction",
   "metadata": {},
   "outputs": [],
   "source": [
    "#mostrar los resultados\n",
    "\n",
    "#code"
   ]
  },
  {
   "cell_type": "code",
   "execution_count": null,
   "id": "brutal-stage",
   "metadata": {},
   "outputs": [],
   "source": [
    "print(\"Los mejores paramentros son %s con un score de %0.2f\" % (clf.best_params_, clf.best_score_))"
   ]
  },
  {
   "cell_type": "markdown",
   "id": "quantitative-tender",
   "metadata": {},
   "source": [
    "## SVM"
   ]
  },
  {
   "cell_type": "code",
   "execution_count": null,
   "id": "touched-august",
   "metadata": {},
   "outputs": [],
   "source": [
    "param_svc = {'kernel':('linear', 'rbf'), 'C':[1, 10, 100, 1000], 'gamma':[0.0001,0.001, 0.01, 0.1,1, 10,100]}"
   ]
  },
  {
   "cell_type": "code",
   "execution_count": null,
   "id": "handed-minnesota",
   "metadata": {},
   "outputs": [],
   "source": [
    "#Inicializar el SVM y guardarlo bajo el nombre \"svc\"\n",
    "\n",
    "#code"
   ]
  },
  {
   "cell_type": "code",
   "execution_count": null,
   "id": "fatal-interpretation",
   "metadata": {},
   "outputs": [],
   "source": [
    "clf_svm = GridSearchCV(svc, param_grid = param_svc, refit = True, cv = 3)"
   ]
  },
  {
   "cell_type": "code",
   "execution_count": null,
   "id": "lyric-luxury",
   "metadata": {},
   "outputs": [],
   "source": [
    "#Entrenar al el set de entrenamiento con el GridSearchCV que inicializamos\n",
    "\n",
    "#code"
   ]
  },
  {
   "cell_type": "code",
   "execution_count": null,
   "id": "honey-intensity",
   "metadata": {},
   "outputs": [],
   "source": [
    "scores = clf_svm.cv_results_"
   ]
  },
  {
   "cell_type": "code",
   "execution_count": null,
   "id": "derived-bahrain",
   "metadata": {},
   "outputs": [],
   "source": [
    "print(\"Los mejores paramentros son %s con un score de %0.2f\" % (clf_svm.best_params_, clf_svm.best_score_))"
   ]
  },
  {
   "cell_type": "markdown",
   "id": "civic-boston",
   "metadata": {},
   "source": [
    "## Random Forest"
   ]
  },
  {
   "cell_type": "code",
   "execution_count": null,
   "id": "developing-reducing",
   "metadata": {},
   "outputs": [],
   "source": [
    "rf= RandomForestClassifier(class_weight='balanced', random_state=1)"
   ]
  },
  {
   "cell_type": "code",
   "execution_count": null,
   "id": "verified-housing",
   "metadata": {},
   "outputs": [],
   "source": [
    "param_trees = {'n_estimators': [50, 100, 200], \n",
    "               'max_features': [1, 5, 8], \n",
    "               'max_depth': [5, 20, 50, 70], \n",
    "               'min_samples_leaf':[1, 5, 8, 10]}"
   ]
  },
  {
   "cell_type": "code",
   "execution_count": null,
   "id": "heard-nirvana",
   "metadata": {},
   "outputs": [],
   "source": [
    "clf_rf = GridSearchCV(rf, param_grid = param_trees,scoring= 'accuracy', refit = True, cv = 3)\n",
    "clf_rf.fit(X_train_norm, y_train.ravel())"
   ]
  },
  {
   "cell_type": "code",
   "execution_count": null,
   "id": "executed-champion",
   "metadata": {},
   "outputs": [],
   "source": [
    "scores = clf_rf.cv_results_"
   ]
  },
  {
   "cell_type": "code",
   "execution_count": null,
   "id": "military-tractor",
   "metadata": {},
   "outputs": [],
   "source": [
    "print(\"Los mejores paramentros son %s con un score de %0.2f\" % (clf_rf.best_params_, clf_rf.best_score_))"
   ]
  },
  {
   "cell_type": "markdown",
   "id": "disabled-lesbian",
   "metadata": {},
   "source": [
    "## Evaluamos el mejor Modelo"
   ]
  },
  {
   "cell_type": "code",
   "execution_count": null,
   "id": "unusual-shakespeare",
   "metadata": {},
   "outputs": [],
   "source": [
    "#En función a los scores que obtuvimos vamos a inicializar dicho modelo con sus respectivos hiperparámetros\n",
    "\n",
    "#code"
   ]
  },
  {
   "cell_type": "code",
   "execution_count": null,
   "id": "exterior-practitioner",
   "metadata": {},
   "outputs": [],
   "source": [
    "#entrenamos el modelo con los set de entrenamiento\n",
    "\n",
    "#code"
   ]
  },
  {
   "cell_type": "code",
   "execution_count": null,
   "id": "superior-toolbox",
   "metadata": {},
   "outputs": [],
   "source": [
    "#Hago las predicciones para el set de test\n",
    "\n",
    "ypred = rf2.predict(X_test_norm)"
   ]
  },
  {
   "cell_type": "code",
   "execution_count": null,
   "id": "capital-thailand",
   "metadata": {},
   "outputs": [],
   "source": [
    "# Computo el accuracy (comparar ytest vs ypred)\n",
    "test_acc = accuracy_score(y_test, ypred)\n",
    "print(\"El accuracy es \" + str(test_acc))"
   ]
  },
  {
   "cell_type": "code",
   "execution_count": null,
   "id": "armed-constraint",
   "metadata": {},
   "outputs": [],
   "source": [
    "#compute and plot AUC\n",
    "yproba = rf2.predict_proba(X_test_norm)\n",
    "fpr1, tpr1, thresholds = roc_curve(y_test.astype('int'), yproba[:,1], drop_intermediate = False)\n",
    "auc = metrics.auc(fpr1, tpr1)\n",
    "print(\"El AUC es = \" + str(auc)"
   ]
  },
  {
   "cell_type": "code",
   "execution_count": null,
   "id": "minute-oliver",
   "metadata": {},
   "outputs": [],
   "source": [
    "plt.plot(fpr1, tpr1, lw=2, alpha=0.7 , label = 'ROC curve', color = 'b')\n",
    "plt.plot([0, 1], [0, 1], linestyle='--', lw=1, color='r',label='Luck', alpha=.8)\n",
    "plt.xlabel('False Positive Rate')\n",
    "plt.ylabel('True Positive Rate')\n",
    "plt.grid(False)\n",
    "plt.legend(loc=\"lower right\")\n",
    "plt.title('ROC curve with KNN')\n",
    "plt.show()"
   ]
  },
  {
   "cell_type": "code",
   "execution_count": null,
   "id": "undefined-validity",
   "metadata": {},
   "outputs": [],
   "source": [
    "# Compute confusion Matrix\n",
    "cm = confusion_matrix(y_test, ypred)\n",
    "cm"
   ]
  },
  {
   "cell_type": "code",
   "execution_count": null,
   "id": "brutal-douglas",
   "metadata": {},
   "outputs": [],
   "source": [
    "# Computo también la matriz de confusión\n",
    "\n",
    "df_cm = pd.DataFrame(cm, index = ['No sobrevivió', 'Sobrevivió'], columns = ['No sobrevivió', \"Sobreviviente\"])\n",
    "plt.figure(figsize = (6,4))\n",
    "sns.heatmap(df_cm, annot=True)\n",
    "plt.title('Classification Confusion matrix')\n",
    "plt.show()"
   ]
  }
 ],
 "metadata": {
  "kernelspec": {
   "display_name": "Python 3",
   "language": "python",
   "name": "python3"
  },
  "language_info": {
   "codemirror_mode": {
    "name": "ipython",
    "version": 3
   },
   "file_extension": ".py",
   "mimetype": "text/x-python",
   "name": "python",
   "nbconvert_exporter": "python",
   "pygments_lexer": "ipython3",
   "version": "3.7.10"
  }
 },
 "nbformat": 4,
 "nbformat_minor": 5
}
