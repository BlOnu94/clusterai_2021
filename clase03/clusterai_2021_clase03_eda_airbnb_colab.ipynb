{
 "cells": [
  {
   "cell_type": "markdown",
   "metadata": {
    "id": "QuBcbBdybLZR"
   },
   "source": [
    "____\n",
    "__Universidad Tecnológica Nacional, Buenos Aires__<br/>\n",
    "__Ingeniería Industrial__<br/>\n",
    "__Cátedra de Ciencia de Datos - Curso I5521 - Turno sabado mañana__<br/>\n",
    "__Elaborado por: Nicolas Aguirre__\n",
    "____"
   ]
  },
  {
   "cell_type": "markdown",
   "metadata": {
    "id": "nP84DR6FiNDw"
   },
   "source": [
    "# Clase_03: Analisis Exploratorio de los Datos\n",
    "## Airbnb & Google Colaboratory"
   ]
  },
  {
   "cell_type": "markdown",
   "metadata": {
    "id": "EtSj3GImiNDz"
   },
   "source": [
    "# Librerias"
   ]
  },
  {
   "cell_type": "code",
   "execution_count": null,
   "metadata": {
    "id": "E3LVbuOgJYwc"
   },
   "outputs": [],
   "source": [
    "#Importar paquetes de herramientas:\n",
    "#Datos\n",
    "import pandas as pd\n",
    "import numpy as np\n",
    "#Graficos \n",
    "import matplotlib.pyplot as plt\n",
    "import seaborn as sns\n",
    "#Otros \n",
    "import warnings\n",
    "warnings.filterwarnings('ignore')"
   ]
  },
  {
   "cell_type": "markdown",
   "metadata": {
    "id": "3lDZd9TZiN0z"
   },
   "source": [
    "# Google Drive"
   ]
  },
  {
   "cell_type": "markdown",
   "metadata": {
    "id": "dsncMXeAH9ax"
   },
   "source": [
    "Cuando trabajamos en el entorno de Google Colaboratory, tenemos a disposicion una Virtual Machine (VM). El iniciar la VM no tenemos acceso a nuestro Google Drive, por lo cual debemos primero que nada 'montar' nuestros archivos."
   ]
  },
  {
   "cell_type": "code",
   "execution_count": null,
   "metadata": {
    "id": "ol8c7HxYHtW4"
   },
   "outputs": [],
   "source": [
    "from google.colab import drive\n",
    "drive.mount('/content/gdrive',force_remount=True)"
   ]
  },
  {
   "cell_type": "markdown",
   "metadata": {
    "id": "bZRobdqaIaDJ"
   },
   "source": [
    "Una buena practica es definir los 'path' o direcciones hacia la carpeta en la cual estamos trabajando en variables."
   ]
  },
  {
   "cell_type": "code",
   "execution_count": null,
   "metadata": {
    "id": "JBZ1DXniHzrC"
   },
   "outputs": [],
   "source": [
    "# Direccion root donde está la jupyter-notebook\n",
    "root_path = \"/content/gdrive/My Drive/Colab Notebooks/ClusterAI/Airbnb/\"\n",
    "# Direccion donde guardaremos las imagenes\n",
    "plot_path = root_path + \"figures/\" "
   ]
  },
  {
   "cell_type": "markdown",
   "metadata": {
    "id": "S4is8DFSaTb2"
   },
   "source": [
    "# Dataset"
   ]
  },
  {
   "cell_type": "markdown",
   "metadata": {
    "id": "h1PnV0TKaTb3"
   },
   "source": [
    "El dataset  que usaremos se encuentra en:\n",
    "  \n",
    "https://www.kaggle.com/dgomonov/new-york-city-airbnb-open-data\n",
    "\n",
    "* Descargar e importarlo\n",
    "\n",
    "\n",
    "* Verificar que se haya cargado bien el dataset\n",
    "\n",
    "\n",
    "* Dimension del dataset"
   ]
  },
  {
   "cell_type": "code",
   "execution_count": null,
   "metadata": {
    "id": "Jh-ZGb5CJbWM"
   },
   "outputs": [],
   "source": [
    "df = pd.read_csv(root_path+\"AB_NYC_2019.csv\",index_col=\"id\")"
   ]
  },
  {
   "cell_type": "code",
   "execution_count": null,
   "metadata": {
    "id": "RZzJCEGJiND5",
    "scrolled": false
   },
   "outputs": [],
   "source": [
    "print(f'Shape: {np.shape(df)}')\n",
    "df.head(3)"
   ]
  },
  {
   "cell_type": "markdown",
   "metadata": {
    "id": "IORawbMDaTcI"
   },
   "source": [
    "# Limpieza"
   ]
  },
  {
   "cell_type": "markdown",
   "metadata": {
    "id": "uRi9cYCkaTcJ"
   },
   "source": [
    "* **Duplicados**\n",
    "\n",
    "\n",
    "* **Cantidad** y **% de NaN** por columna\n",
    "\n",
    "\n",
    "* Luego de quitarlos, devolver shape del df"
   ]
  },
  {
   "cell_type": "code",
   "execution_count": null,
   "metadata": {
    "id": "E9mPT-aEaTcJ"
   },
   "outputs": [],
   "source": [
    "df.drop_duplicates(inplace=True,keep='first')"
   ]
  },
  {
   "cell_type": "code",
   "execution_count": null,
   "metadata": {
    "id": "QnbUk2EYaTcP"
   },
   "outputs": [],
   "source": [
    "cant_NaN = df.isnull().sum()\n",
    "print(cant_NaN,'\\r\\n')"
   ]
  },
  {
   "cell_type": "code",
   "execution_count": null,
   "metadata": {
    "id": "Ssn7oGRZJgxn"
   },
   "outputs": [],
   "source": [
    "total = df.isnull().sum().sort_values(ascending=False)\n",
    "percent = (df.isnull().sum()/df.isnull().count()).sort_values(ascending=False)\n",
    "missing_data = pd.concat([total, percent], axis=1, keys=['Total', 'Percent'])\n",
    "missing_data.head(6)"
   ]
  },
  {
   "cell_type": "code",
   "execution_count": null,
   "metadata": {
    "id": "3jNAZYrJJiBQ"
   },
   "outputs": [],
   "source": [
    "#Limpiamos registros\n",
    "df.dropna(how ='any', inplace = True)"
   ]
  },
  {
   "cell_type": "code",
   "execution_count": null,
   "metadata": {
    "id": "cFAVSErSiNEQ",
    "scrolled": true
   },
   "outputs": [],
   "source": [
    "# Verificamos como quedo el data-set\n",
    "print(f'Nos quedamos con un df de {df.shape[0]} filas x{df.shape[1]} columnas')"
   ]
  },
  {
   "cell_type": "markdown",
   "metadata": {
    "id": "JWMXM8DuaTcb"
   },
   "source": [
    "# Practica!"
   ]
  },
  {
   "cell_type": "markdown",
   "metadata": {
    "id": "6RxXPCBiaTcc"
   },
   "source": [
    "1. Crear columna $\\log(precio)$. Grafico de la distribucion de precio y de $log(precio)$\n",
    "\n",
    "\n",
    "2. En base al que mejor se ajuste, comparar los precios segun los distintos *neighbourhood_group* (boxplot)\n",
    "\n",
    "\n",
    "3. Mediana, Limite inferior y superior del *neighbourhood_group* con mayor y menor precio.\n",
    "\n",
    "\n",
    "4. Crear una nueva columa llamada *Brand*, con 7 categorias de precios. \n",
    "        \n",
    "    Bandas = [0, 50, 75, 100, 150, 200, 250]\n",
    "\n",
    "\n",
    "5. Boxplot de *Brand* vs $\\log(Reviews)$\n",
    "\n",
    "\n",
    "6. Scatter plot de Longitud y Latitud donde se distinga *neighbourhood_group*\n",
    "\n",
    "\n",
    "7. Scatter plot de Longitud y Latitud donde se distingan las brands\n",
    "\n",
    "\n",
    "8. Cantidad de barrios\n",
    "\n",
    "\n",
    "9. Comparacion de la cantidad de hospedajes para los 10 barrios mas populares (barras)\n",
    "\n",
    "\n",
    "10. Cantidad de hospedajes para los 10 barrios mas populares, segregados por brands (pivot_table)\n"
   ]
  },
  {
   "cell_type": "markdown",
   "metadata": {
    "id": "issfAeU7HCjp"
   },
   "source": [
    "## Log de precio y dist. estimada"
   ]
  },
  {
   "cell_type": "code",
   "execution_count": null,
   "metadata": {
    "id": "aJiaARmyaTcd",
    "scrolled": true
   },
   "outputs": [],
   "source": [
    "#Columna log precios\n",
    "df['log_price'] = np.log(1+df['price'])\n",
    "\n",
    "#Plot Precio: Vamos a crear esta vez un 'plot' que contenga dos figuras.\n",
    "# Formalmente, lo que crearemos sera una unica figura, divivida en\n",
    "# filas x columna = 1 ,2\n",
    "fig, (ax1, ax2) = plt.subplots(nrows=1, ncols=2,\n",
    "                               figsize=(15,5))\n",
    "\n",
    "# Seaborn, al ser una libreria construida sobre Matplotlib, permite\n",
    "# que le pasemos el argumento \"ax=\".\n",
    "sns.kdeplot(df.price, color=\"b\", shade = True,ax=ax1)\n",
    "ax1.set_xlabel(\"Price\")\n",
    "# Este es el titulo del axis numero 2\n",
    "ax1.set_title(\"KDE\")\n",
    "\n",
    "#Plot Log-Precio\n",
    "sns.distplot(np.log(1+df['price']),color='b',ax=ax2)\n",
    "ax2.set_xlabel(\"Price\")\n",
    "\n",
    "# Este es el titulo del axis numero 2\n",
    "ax2.set_title(\"Log-KDE\")\n",
    "\n",
    "# Mientras que el titulo 'general', lo asignamos\n",
    "# a la figure.\n",
    "fig.suptitle('Distribucion de Precio',size = 20)\n",
    "\n",
    "#####################\n",
    "# Guardar Plots!\n",
    "#####################\n",
    "# Siempre debemos guardar el plot ANTES del mostrarlo (plt.show())\n",
    "# Nombre del plot\n",
    "plot_name = str(plot_path+'dist_price')\n",
    "plot_format = \".png\"\n",
    "plt.savefig(plot_name+plot_format)\n",
    "\n",
    "# Por ultimo, mostramos todo lo que hayamos ploteado hasta el momento\n",
    "plt.show()"
   ]
  },
  {
   "cell_type": "markdown",
   "metadata": {
    "id": "Lh_xpzoZHCjq"
   },
   "source": [
    "## Box plot *neighbourhood_group*"
   ]
  },
  {
   "cell_type": "code",
   "execution_count": null,
   "metadata": {
    "id": "44khpOiTaTci",
    "scrolled": true
   },
   "outputs": [],
   "source": [
    "# Comparar los precios segun los distintos \"neighbourhood_group\" (boxplot)\n",
    "g = sns.catplot(x='neighbourhood_group',y='log_price',data=df,\n",
    "                kind=\"box\", height = 5 ,aspect=3, palette = \"muted\")\n",
    "g.despine(left=True) # Para quitar la linea del eje Y\n",
    "g.set_xticklabels(rotation=45) # Rotamos los labels del eje X\n",
    "plt.xlabel(\"Barrios\",size = 18)\n",
    "plt.ylabel(\"Log_Precio\",size = 18)\n",
    "plt.title('Plot de log_price vs Barrio',size = 24)\n",
    "\n",
    "# esto ajusta la imagen que se va a guardar a los bordes del\n",
    "# la figure\n",
    "plt.tight_layout()\n",
    "\n",
    "plot_name = str(plot_path+'log_price_barrio')\n",
    "plot_format = \".png\"\n",
    "plt.savefig(plot_name+plot_format)\n",
    "plt.show()"
   ]
  },
  {
   "cell_type": "markdown",
   "metadata": {
    "id": "-5cB_iX1HCjq"
   },
   "source": [
    "## Mediana, Lim. Inferior y Sup."
   ]
  },
  {
   "cell_type": "markdown",
   "metadata": {
    "id": "Jwy4VgaH0xND"
   },
   "source": [
    "### enumrate( zip() )"
   ]
  },
  {
   "cell_type": "code",
   "execution_count": null,
   "metadata": {
    "id": "qyjngqfEz6N4"
   },
   "outputs": [],
   "source": [
    "list_x = ['a','b','c','d','e']\n",
    "list_y = [1,2,3,4,5]\n",
    "list_z = ['a',2,'c',4,'e']\n",
    "# La funcion zip() empaqueta objetos y los va devolviendo de a conjuntos.\n",
    "for (x_i,y_i,z_i) in zip(list_x,list_y,list_z):\n",
    "  print('lista_x:',x_i,'lista_y:',y_i,'lista_z:',z_i)"
   ]
  },
  {
   "cell_type": "code",
   "execution_count": null,
   "metadata": {
    "id": "njCBMJW58IAi"
   },
   "outputs": [],
   "source": [
    "# La fucion enumrate() nos devuelve un \"objeto iterable\" que devuelve\n",
    "# indices + \"datos\"\n",
    "# Combinando estas dos funciones vamos a obtener:\n",
    "for i, (x_i,y_i,z_i) in enumerate(zip(list_x,list_y,list_z)):\n",
    "  print('Indice:',i,'lista_x:',x_i,'lista_y:',y_i,'lista_z:',z_i)"
   ]
  },
  {
   "cell_type": "code",
   "execution_count": null,
   "metadata": {
    "id": "ECsepSfMaTcp",
    "scrolled": false
   },
   "outputs": [],
   "source": [
    "# Mediana, Limite inferior y superior del 'neighbourhood_group'\n",
    "# con mayor y menor precio.\n",
    "\n",
    "# Creemos un DF vacio con el nombre de columnas asignado donde guardaremos\n",
    "# resultados\n",
    "column_names = [\"Mediana\", \"Lim. Inferior\", \"Lim. Superior\"]\n",
    "df2delet = pd.DataFrame(columns = column_names)\n",
    "\n",
    "# Barrios sobre los que queremos \"iterar\"\n",
    "barrio_list = [\"Manhattan\", \"Bronx\"]\n",
    "# Creemos subplots y veamos que es lo que nos esta devolviendo\n",
    "fig, axs = plt.subplots(nrows=1, ncols=2,figsize=(10,5))\n",
    "print(\"El objeto type de axs es: {}, y tiene un shape de {}\".format(\n",
    "    type(axs),np.shape(axs)))\n",
    "\n",
    "# Vamos a iterar sobre cada Axis y barrio_list\n",
    "for i ,(ax_i,barrio_i) in enumerate(zip(axs,barrio_list)):\n",
    "  print(i,type(ax_i),barrio_i)\n",
    "  df_pivot= df[df['neighbourhood_group']==barrio_i]\n",
    "  A = ax_i.boxplot(df_pivot['log_price'])\n",
    "  ax1.set_title(barrio_i)\n",
    "  #Med.\n",
    "  medians = [median.get_ydata() for median in A[\"medians\"]]\n",
    "  #whiskers\n",
    "  whiskers = [whiskers.get_ydata() for whiskers in A[\"whiskers\"]]\n",
    "  # df que vamos agregar a df2delet\n",
    "  df_i = pd.DataFrame({'Mediana': medians[0][0],\n",
    "                              'Lim. Inferior': whiskers[0][0],\n",
    "                              'Lim. Superior': whiskers[1][1]},index=[barrio_i])\n",
    "  # agregamos df\n",
    "  df2delet = df2delet.append(df_i)\n",
    "\n",
    "plt.show()\n",
    "\n",
    "df2delet"
   ]
  },
  {
   "cell_type": "markdown",
   "metadata": {
    "id": "WG8I2yVJHCjr"
   },
   "source": [
    "## Brands"
   ]
  },
  {
   "cell_type": "code",
   "execution_count": null,
   "metadata": {
    "id": "5DCB_pXpaTcs"
   },
   "outputs": [],
   "source": [
    "#Definimos y creamos las bandas:\n",
    "\n",
    "df.loc[(df['price'] >= 0) & (df['price'] <= 50), 'Banda'] = 1\n",
    "df.loc[(df['price'] > 50) & (df['price'] <= 75), 'Banda']   = 2\n",
    "df.loc[(df['price'] > 75) & (df['price'] <= 100), 'Banda']   = 3\n",
    "df.loc[(df['price'] > 100) & (df['price'] <= 150), 'Banda']   = 4\n",
    "df.loc[(df['price'] > 150) & (df['price'] <= 200), 'Banda']   = 5\n",
    "df.loc[(df['price'] > 200) & (df['price'] <= 250), 'Banda']   = 6\n",
    "df.loc[(df['price'] > 250), 'Banda']  = 7\n",
    "df['Banda'] = df['Banda'].astype(int)"
   ]
  },
  {
   "cell_type": "markdown",
   "metadata": {
    "id": "9YuoYTOhHCjr"
   },
   "source": [
    "## Brand vs $\\log(Reviews)$"
   ]
  },
  {
   "cell_type": "code",
   "execution_count": null,
   "metadata": {
    "id": "x0ZmhEqcaTcw"
   },
   "outputs": [],
   "source": [
    "#Boxplot de \"Banda\" vs log(Reviews)\n",
    "df['log_review'] = np.log(1+df['number_of_reviews'])\n",
    "\n",
    "g = sns.catplot(x=\"Banda\",y='log_review',data=df, kind=\"box\", height = 5,aspect=3 ,palette = \"muted\")\n",
    "g.despine(left=True)\n",
    "g.set_xticklabels(rotation=90)\n",
    "g = g.set_ylabels(\"log_Reviews\")\n",
    "plt.title('Boxen plot Bandas VS Reviews',size = 20)\n",
    "plt.tight_layout()\n",
    "plot_name = str(plot_path+'brands_reviews')\n",
    "plot_format = \".png\"\n",
    "plt.savefig(plot_name+plot_format)\n",
    "plt.show()"
   ]
  },
  {
   "cell_type": "markdown",
   "metadata": {
    "id": "RlXLFTdAHCjs"
   },
   "source": [
    "## Scatter Plot: *neighbourhood_group*"
   ]
  },
  {
   "cell_type": "code",
   "execution_count": null,
   "metadata": {
    "id": "p2M8EFLHHCjs"
   },
   "outputs": [],
   "source": [
    "plt.figure(figsize=(10,8))\n",
    "sns.scatterplot(df['longitude'],df['latitude'],hue=df['neighbourhood_group'],palette='muted')\n",
    "plt.show()"
   ]
  },
  {
   "cell_type": "markdown",
   "metadata": {
    "id": "Lg3vc1oYHCjs"
   },
   "source": [
    "## Scatter Plot: Brands"
   ]
  },
  {
   "cell_type": "code",
   "execution_count": null,
   "metadata": {
    "id": "lQNcCxSab0uU"
   },
   "outputs": [],
   "source": [
    "plt.figure(figsize=(10,8))\n",
    "sns.scatterplot(df['longitude'],df['latitude'],hue=df['Banda'], # Datos\n",
    "                edgecolor= \"none\", # color de los bordes de los puntos \n",
    "                alpha=0.5, # transparencia\n",
    "                palette='viridis') # mapa de colores\n",
    "plt.show()"
   ]
  },
  {
   "cell_type": "markdown",
   "metadata": {
    "id": "U2VD6Q0vHCjs"
   },
   "source": [
    "## Qty de barrios"
   ]
  },
  {
   "cell_type": "code",
   "execution_count": null,
   "metadata": {
    "id": "c-9KpN5QaTc3",
    "scrolled": true
   },
   "outputs": [],
   "source": [
    "q_barrios = len(df['neighbourhood'].unique())\n",
    "print(f'En total hay {q_barrios} barrios\\r\\n')"
   ]
  },
  {
   "cell_type": "markdown",
   "metadata": {
    "id": "Y44qDqLZHCjt"
   },
   "source": [
    "## Hospedajes para los 10 barrios mas populares"
   ]
  },
  {
   "cell_type": "code",
   "execution_count": null,
   "metadata": {
    "id": "ToNO2thVaTc5",
    "scrolled": true
   },
   "outputs": [],
   "source": [
    "top_neighbourhood = df['neighbourhood'].value_counts().index[0:10]\n",
    "\n",
    "\n",
    "plt.figure(figsize=(15,5))\n",
    "g = sns.countplot(x='neighbourhood',data=df, palette = \"muted\",order=top_neighbourhood)\n",
    "g.set_xticklabels(g.get_xticklabels(), rotation=45, ha=\"right\")\n",
    "plt.title('Cuenta por Barrio',size = 20)\n",
    "plt.xlabel(\"Barrio\")\n",
    "plt.ylabel(\"Count\")\n",
    "plt.tight_layout()\n",
    "plot_name = str(plot_path+'top_neighbourhood')\n",
    "plot_format = \".png\"\n",
    "plt.savefig(plot_name+plot_format)\n",
    "plt.show()"
   ]
  },
  {
   "cell_type": "markdown",
   "metadata": {
    "id": "AP19_Sd3HCjt"
   },
   "source": [
    "## Cantidad de hospedajes para los 10 barrios mas populares, segregados por brands "
   ]
  },
  {
   "cell_type": "markdown",
   "metadata": {
    "id": "krby8lmeHCjt"
   },
   "source": [
    "### Pivot Table"
   ]
  },
  {
   "cell_type": "code",
   "execution_count": null,
   "metadata": {
    "id": "X6nYQnm6HCjt"
   },
   "outputs": [],
   "source": [
    "df2delete = pd.DataFrame({\n",
    "    \"A\": [\"foo\", \"foo\", \"foo\", \"foo\", \"foo\",\"bar\", \"bar\", \"bar\", \"bar\"],\n",
    "    \"B\": [\"one\", \"one\", \"one\", \"two\", \"two\",\"one\", \"one\", \"two\", \"two\"],\n",
    "    \"C\": [\"small\", \"large\", \"large\", \"small\",\"small\", \"large\", \"small\", \"small\",\"large\"],\n",
    "    \"D\": [1, 2, 2, 3, 3, 4, 5, 6, 7],\n",
    "    \"E\": [2, 4, 5, 5, 6, 6, 8, 9, 9]\n",
    "    })\n",
    "df2delete"
   ]
  },
  {
   "cell_type": "code",
   "execution_count": null,
   "metadata": {
    "id": "poanU9Q8Y5Ou"
   },
   "outputs": [],
   "source": [
    "table = pd.pivot_table(df2delete, #Datos\n",
    "                       values=['D'], #valores que van a aparecer dentro de la tabla\n",
    "                       index=['A', 'B'], #Los indices que ve a tener\n",
    "                       columns=['C'], # La columna que va a tener\n",
    "                       aggfunc=np.sum) # Que se aplicara a los valores\n",
    "table"
   ]
  },
  {
   "cell_type": "code",
   "execution_count": null,
   "metadata": {
    "id": "aRxNwnIfHCjt",
    "scrolled": false
   },
   "outputs": [],
   "source": [
    "table = pd.pivot_table(df2delete,\n",
    "                       # Multiples valores\n",
    "                       values=['D', 'E'],\n",
    "                       index=['A'],\n",
    "                       # Tambien por columna\n",
    "                       columns=['C'],\n",
    "                       # Y con multiples funciones para cada uno de los valores\n",
    "                       aggfunc={'D': np.mean,\n",
    "                                'E': [min, max, np.mean]})\n",
    "table"
   ]
  },
  {
   "cell_type": "code",
   "execution_count": null,
   "metadata": {
    "id": "bgoseZn-aTc8",
    "scrolled": false
   },
   "outputs": [],
   "source": [
    "table = pd.pivot_table(\n",
    "    # Datframe\n",
    "    df[df['neighbourhood'].isin(top_neighbourhood)],\n",
    "    # Filas\n",
    "    index='neighbourhood',\n",
    "    # Columnas\n",
    "    columns = 'Banda',\n",
    "    # Quiero ver los precios\n",
    "    values='price' ,\n",
    "    # Si hay NaN, pongo un cero \n",
    "    fill_value=0,\n",
    "    # Que funcion aplico?\n",
    "    aggfunc = 'count')\n",
    "table"
   ]
  },
  {
   "cell_type": "markdown",
   "metadata": {
    "id": "d1GgL02q2W39"
   },
   "source": [
    "# Consultas?"
   ]
  },
  {
   "cell_type": "code",
   "execution_count": null,
   "metadata": {
    "id": "uiRXy8um2YXt"
   },
   "outputs": [],
   "source": []
  }
 ],
 "metadata": {
  "colab": {
   "authorship_tag": "ABX9TyMwhMx6jKS68Kfy7h6weDep",
   "collapsed_sections": [],
   "name": "clusterai_2021_clase03_eda_airbnb_colab.ipynb",
   "provenance": [],
   "toc_visible": true
  },
  "kernelspec": {
   "display_name": "Python 3 (ipykernel)",
   "language": "python",
   "name": "python3"
  },
  "language_info": {
   "codemirror_mode": {
    "name": "ipython",
    "version": 3
   },
   "file_extension": ".py",
   "mimetype": "text/x-python",
   "name": "python",
   "nbconvert_exporter": "python",
   "pygments_lexer": "ipython3",
   "version": "3.9.6"
  },
  "toc": {
   "base_numbering": 1,
   "nav_menu": {},
   "number_sections": true,
   "sideBar": true,
   "skip_h1_title": false,
   "title_cell": "Table of Contents",
   "title_sidebar": "Contents",
   "toc_cell": false,
   "toc_position": {},
   "toc_section_display": true,
   "toc_window_display": false
  }
 },
 "nbformat": 4,
 "nbformat_minor": 1
}
