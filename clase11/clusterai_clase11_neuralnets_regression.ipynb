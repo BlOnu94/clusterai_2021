{
  "nbformat": 4,
  "nbformat_minor": 0,
  "metadata": {
    "kernelspec": {
      "display_name": "Python 3",
      "language": "python",
      "name": "python3"
    },
    "language_info": {
      "codemirror_mode": {
        "name": "ipython",
        "version": 3
      },
      "file_extension": ".py",
      "mimetype": "text/x-python",
      "name": "python",
      "nbconvert_exporter": "python",
      "pygments_lexer": "ipython3",
      "version": "3.6.8"
    },
    "colab": {
      "name": "clusterai_clase11_neuralnets_regression.ipynb",
      "provenance": [],
      "collapsed_sections": []
    }
  },
  "cells": [
    {
      "cell_type": "markdown",
      "metadata": {
        "id": "nxHN6VgLDnku"
      },
      "source": [
        "____\n",
        "__Universidad Tecnologica Nacional Buenos Aires__<br/>\n",
        "__Ingenieria Industrial__<br/>\n",
        "__Ciencia de Datos - Curso I5521 - Turno Sabado Mañana__<br/>\n",
        "__Docente: Martin Palazzo__<br/>\n",
        "__source: https://github.com/clusterai/clusterai_2021/__<br/>\n",
        "__Tema: Regresion con redes neuronales__\n",
        "____"
      ]
    },
    {
      "cell_type": "code",
      "metadata": {
        "id": "4vNmHU3Z82Bj"
      },
      "source": [
        "# importamos librerias\n",
        "import numpy as np\n",
        "import pandas as pd\n",
        "import matplotlib.pyplot as plt\n",
        "import seaborn as sns\n",
        "\n",
        "# libs de sklearn\n",
        "from sklearn.datasets import load_boston\n",
        "from sklearn.model_selection import train_test_split\n",
        "from sklearn.preprocessing import StandardScaler\n",
        "from sklearn.linear_model import Ridge\n",
        "from sklearn.metrics import mean_squared_error\n",
        "from sklearn.linear_model import LinearRegression\n",
        "\n",
        "# libs de tensorflow-keras\n",
        "import tensorflow as tf\n",
        "from tensorflow.keras.layers import Activation\n",
        "from tensorflow.keras.layers import BatchNormalization\n",
        "from tensorflow.keras import models\n",
        "from tensorflow.keras import layers\n",
        "from tensorflow.keras.layers import Input, Dense\n",
        "from tensorflow.keras.models import Model\n",
        "from tensorflow.keras import regularizers\n",
        "from tensorflow.keras.layers import Dropout\n",
        "from tensorflow.keras import optimizers"
      ],
      "execution_count": 1,
      "outputs": []
    },
    {
      "cell_type": "code",
      "metadata": {
        "colab": {
          "base_uri": "https://localhost:8080/"
        },
        "id": "wGvnnY1582Bp",
        "outputId": "636f9ed6-6fdd-4d04-e8d2-ca84a2764f96"
      },
      "source": [
        "# observamos la version de tensorflow instalada\n",
        "print(tf.__version__)"
      ],
      "execution_count": 4,
      "outputs": [
        {
          "output_type": "stream",
          "name": "stdout",
          "text": [
            "2.7.0\n"
          ]
        }
      ]
    },
    {
      "cell_type": "markdown",
      "metadata": {
        "id": "bBwro8CqD81o"
      },
      "source": [
        "## **Carga y EDA dataset**\n",
        "el dataset utilizado ya esta pre-cargado en sklearn: boston house prices dataset\n",
        "\n",
        "https://scikit-learn.org/stable/modules/generated/sklearn.datasets.load_boston.html"
      ]
    },
    {
      "cell_type": "code",
      "metadata": {
        "colab": {
          "base_uri": "https://localhost:8080/"
        },
        "id": "zqt4w7nO82Bq",
        "outputId": "363d79a8-332e-4e29-d30d-f1378f767527"
      },
      "source": [
        "# obtenemos el dataset precargado de sklearn \"boston\" con precios de casas\n",
        "boston = load_boston()\n",
        "\n",
        "\n",
        "# define the independient variables\n",
        "x = boston.data\n",
        "# define the dependen variables (labels)\n",
        "y = boston.target\n",
        "\n",
        "\n",
        "# visualization of the first 20 values of y\n",
        "y[:20]"
      ],
      "execution_count": 112,
      "outputs": [
        {
          "output_type": "execute_result",
          "data": {
            "text/plain": [
              "array([24. , 21.6, 34.7, 33.4, 36.2, 28.7, 22.9, 27.1, 16.5, 18.9, 15. ,\n",
              "       18.9, 21.7, 20.4, 18.2, 19.9, 23.1, 17.5, 20.2, 18.2])"
            ]
          },
          "metadata": {},
          "execution_count": 112
        }
      ]
    },
    {
      "cell_type": "code",
      "metadata": {
        "colab": {
          "base_uri": "https://localhost:8080/",
          "height": 334
        },
        "id": "eypvieOV82Bq",
        "outputId": "6ceaf08e-36e8-48ae-bcc7-88754b1f83d9"
      },
      "source": [
        "\n",
        "# distplot of label distribution\n",
        "sns.distplot(y)\n",
        "plt.xlabel('Etiqueta (precios hogares)')\n",
        "plt.show()"
      ],
      "execution_count": 113,
      "outputs": [
        {
          "output_type": "stream",
          "name": "stderr",
          "text": [
            "/usr/local/lib/python3.7/dist-packages/seaborn/distributions.py:2619: FutureWarning: `distplot` is a deprecated function and will be removed in a future version. Please adapt your code to use either `displot` (a figure-level function with similar flexibility) or `histplot` (an axes-level function for histograms).\n",
            "  warnings.warn(msg, FutureWarning)\n"
          ]
        },
        {
          "output_type": "display_data",
          "data": {
            "image/png": "[encoded data removed]",
            "text/plain": [
              "<Figure size 432x288 with 1 Axes>"
            ]
          },
          "metadata": {
            "needs_background": "light"
          }
        }
      ]
    },
    {
      "cell_type": "code",
      "metadata": {
        "colab": {
          "base_uri": "https://localhost:8080/"
        },
        "id": "8RN-K8f982Br",
        "outputId": "022d03cd-96b1-4f3c-8e39-f54f7d641f88"
      },
      "source": [
        "# check the dimensionality and samples of the dataset\n",
        "np.shape(x)"
      ],
      "execution_count": 7,
      "outputs": [
        {
          "output_type": "execute_result",
          "data": {
            "text/plain": [
              "(506, 13)"
            ]
          },
          "metadata": {},
          "execution_count": 7
        }
      ]
    },
    {
      "cell_type": "code",
      "metadata": {
        "colab": {
          "base_uri": "https://localhost:8080/",
          "height": 295
        },
        "id": "m2ecNmim82Bs",
        "outputId": "87bcff74-4144-44e5-b924-349f9347450c"
      },
      "source": [
        "\n",
        "# print the x matrix\n",
        "sns.heatmap(x)\n",
        "plt.title('Raw data')\n",
        "plt.xlabel('Features')\n",
        "plt.ylabel('Samples')\n",
        "plt.show()"
      ],
      "execution_count": 8,
      "outputs": [
        {
          "output_type": "display_data",
          "data": {
            "image/png": "[encoded data removed]",
            "text/plain": [
              "<Figure size 432x288 with 2 Axes>"
            ]
          },
          "metadata": {
            "needs_background": "light"
          }
        }
      ]
    },
    {
      "cell_type": "code",
      "metadata": {
        "colab": {
          "base_uri": "https://localhost:8080/",
          "height": 269
        },
        "id": "zpajof4X82Bt",
        "outputId": "9deb15e1-6921-4aaf-cb81-8a6a5ccd7a9c"
      },
      "source": [
        "# Feature pairwise linear correlation\n",
        "sns.heatmap(pd.DataFrame(x).corr())\n",
        "plt.show()\n"
      ],
      "execution_count": 9,
      "outputs": [
        {
          "output_type": "display_data",
          "data": {
            "image/png": "[encoded data removed]",
            "text/plain": [
              "<Figure size 432x288 with 2 Axes>"
            ]
          },
          "metadata": {
            "needs_background": "light"
          }
        }
      ]
    },
    {
      "cell_type": "code",
      "metadata": {
        "id": "3UyelMbs82Bu"
      },
      "source": [
        ""
      ],
      "execution_count": 9,
      "outputs": []
    },
    {
      "cell_type": "markdown",
      "metadata": {
        "id": "4tUDkS4nEbAJ"
      },
      "source": [
        "## **Preprocesamiento de datos**"
      ]
    },
    {
      "cell_type": "code",
      "metadata": {
        "id": "WM3_OlfB82Bu"
      },
      "source": [
        "# train test split\n",
        "xtr0, xte0, ytr, yte = train_test_split(x,y,test_size=0.3, random_state = 10)"
      ],
      "execution_count": 10,
      "outputs": []
    },
    {
      "cell_type": "code",
      "metadata": {
        "id": "00DQFI7S82Bu"
      },
      "source": [
        "scaler = StandardScaler()"
      ],
      "execution_count": 11,
      "outputs": []
    },
    {
      "cell_type": "code",
      "metadata": {
        "colab": {
          "base_uri": "https://localhost:8080/"
        },
        "id": "Jip08nUE82Bv",
        "outputId": "14d00cb9-d421-4546-8498-6f457a25e96a"
      },
      "source": [
        "# get the mean and standard deviation of every feature\n",
        "scaler.fit(xtr0)\n"
      ],
      "execution_count": 12,
      "outputs": [
        {
          "output_type": "execute_result",
          "data": {
            "text/plain": [
              "StandardScaler(copy=True, with_mean=True, with_std=True)"
            ]
          },
          "metadata": {},
          "execution_count": 12
        }
      ]
    },
    {
      "cell_type": "code",
      "metadata": {
        "id": "acUKNyVK82Bv"
      },
      "source": [
        "# scale each feature using the mean and std-dev in the previous step\n",
        "xtr = scaler.transform(xtr0)\n",
        "xte = scaler.transform(xte0)"
      ],
      "execution_count": 13,
      "outputs": []
    },
    {
      "cell_type": "code",
      "metadata": {
        "colab": {
          "base_uri": "https://localhost:8080/",
          "height": 287
        },
        "id": "KNE-D7r_82Bw",
        "outputId": "b7835054-9725-4095-c966-b21c34281986"
      },
      "source": [
        "# print the x matrix\n",
        "sns.heatmap(xtr)"
      ],
      "execution_count": 14,
      "outputs": [
        {
          "output_type": "execute_result",
          "data": {
            "text/plain": [
              "<matplotlib.axes._subplots.AxesSubplot at 0x7f2be0a81f90>"
            ]
          },
          "metadata": {},
          "execution_count": 14
        },
        {
          "output_type": "display_data",
          "data": {
            "image/png": "[encoded data removed]",
            "text/plain": [
              "<Figure size 432x288 with 2 Axes>"
            ]
          },
          "metadata": {
            "needs_background": "light"
          }
        }
      ]
    },
    {
      "cell_type": "markdown",
      "metadata": {
        "id": "5kQAHIaJ9wzt"
      },
      "source": [
        "## **Regresion con ridge regression**"
      ]
    },
    {
      "cell_type": "code",
      "metadata": {
        "id": "XmQ9mk1K9wPt"
      },
      "source": [
        "# definimos modelo\n",
        "ridge_reg = Ridge(alpha=1.0)\n",
        "# entrenamos modelo\n",
        "ridge_reg.fit(xtr, ytr)\n",
        "# realizamos prediccion con el modelo entrenado en datos nuevos\n",
        "yte_hat_ridge = ridge_reg.predict(xte)"
      ],
      "execution_count": 52,
      "outputs": []
    },
    {
      "cell_type": "markdown",
      "metadata": {
        "id": "qEJbICHtBMMl"
      },
      "source": [
        "## **Regresion con linear regression**"
      ]
    },
    {
      "cell_type": "code",
      "metadata": {
        "id": "ei4e9lgO9wSH"
      },
      "source": [
        "# definimos modelo\n",
        "lin_reg = LinearRegression()\n",
        "# entrenamos modelo\n",
        "lin_reg.fit(xtr, ytr)\n",
        "# realizamos prediccion con el modelo entrenado en datos nuevos\n",
        "yte_hat_lin = lin_reg.predict(xte)"
      ],
      "execution_count": 96,
      "outputs": []
    },
    {
      "cell_type": "markdown",
      "metadata": {
        "id": "H4t0aiP39rU8"
      },
      "source": [
        "## **Regresion con redes neuronales**"
      ]
    },
    {
      "cell_type": "code",
      "metadata": {
        "id": "3UV_kwV882Bw"
      },
      "source": [
        "# definimos los hiperparametros de entrenamiento de la NN\n",
        "l2_reg = 0.01\n",
        "lrate = 0.001\n",
        "epochs = 50\n",
        "bachs = 8"
      ],
      "execution_count": 74,
      "outputs": []
    },
    {
      "cell_type": "markdown",
      "metadata": {
        "id": "bTUp-0KfE0_O"
      },
      "source": [
        "### **Definimos la arquitectura del modelo**"
      ]
    },
    {
      "cell_type": "code",
      "metadata": {
        "colab": {
          "base_uri": "https://localhost:8080/"
        },
        "id": "3zi2j0Ap82Bw",
        "outputId": "e14aaa40-3035-4272-ede2-700b9fa916c2"
      },
      "source": [
        "################### Optimizer ###################\n",
        "optim = tf.keras.optimizers.Adam(learning_rate= lrate)\n",
        "\n",
        "################### MODEL ARCHITECTURE ###############\n",
        "\n",
        "# 00) INPUT\n",
        "inputdim = Input(shape=(xtr.shape[1],))\n",
        "\n",
        "# 01) DENSE LAYER\n",
        "hl_1 = Dense(5, kernel_regularizer=regularizers.l2(l2_reg), activation = 'relu')(inputdim)\n",
        "\n",
        "# 02) BATCH NORM\n",
        "#bn_i = BatchNormalization()(encode_i)\n",
        "\n",
        "# 03) DENSE LAYER\n",
        "hl_2 = Dense(2, activation = 'linear')(hl_1)\n",
        "\n",
        "reg_layer = Dense(1)(hl_2)\n",
        "\n",
        "# 06) AUTOENCODER\n",
        "nn_regressor = Model(inputdim, reg_layer)\n",
        "nn_regressor.summary()\n",
        "nn_regressor.compile(optimizer= optim, loss='mse')"
      ],
      "execution_count": 75,
      "outputs": [
        {
          "output_type": "stream",
          "name": "stdout",
          "text": [
            "Model: \"model_6\"\n",
            "_________________________________________________________________\n",
            " Layer (type)                Output Shape              Param #   \n",
            "=================================================================\n",
            " input_7 (InputLayer)        [(None, 13)]              0         \n",
            "                                                                 \n",
            " dense_18 (Dense)            (None, 5)                 70        \n",
            "                                                                 \n",
            " dense_19 (Dense)            (None, 2)                 12        \n",
            "                                                                 \n",
            " dense_20 (Dense)            (None, 1)                 3         \n",
            "                                                                 \n",
            "=================================================================\n",
            "Total params: 85\n",
            "Trainable params: 85\n",
            "Non-trainable params: 0\n",
            "_________________________________________________________________\n"
          ]
        }
      ]
    },
    {
      "cell_type": "markdown",
      "metadata": {
        "id": "h0SzprICE5X0"
      },
      "source": [
        "### **Visualizamos el modelo resultante**"
      ]
    },
    {
      "cell_type": "code",
      "metadata": {
        "colab": {
          "base_uri": "https://localhost:8080/",
          "height": 369
        },
        "id": "OXXenJY9Evg5",
        "outputId": "56e39200-d8ba-41d7-b272-5b5d28c05ebe"
      },
      "source": [
        "tf.keras.utils.plot_model(nn_regressor)"
      ],
      "execution_count": 114,
      "outputs": [
        {
          "output_type": "execute_result",
          "data": {
            "image/png": "[encoded data removed]",
            "text/plain": [
              "<IPython.core.display.Image object>"
            ]
          },
          "metadata": {},
          "execution_count": 114
        }
      ]
    },
    {
      "cell_type": "markdown",
      "metadata": {
        "id": "64xjOVriE-YO"
      },
      "source": [
        "#### **Entrenamos la red neuronal**"
      ]
    },
    {
      "cell_type": "code",
      "metadata": {
        "colab": {
          "base_uri": "https://localhost:8080/"
        },
        "id": "XgXWMq4a82Bx",
        "outputId": "5c9e52ba-59f8-4956-e2ea-c90d2e113cf7"
      },
      "source": [
        "nn_regressor.fit(xtr, ytr,epochs=epochs, batch_size=bachs,  shuffle=True,  validation_data=(xte, yte))"
      ],
      "execution_count": 76,
      "outputs": [
        {
          "output_type": "stream",
          "name": "stdout",
          "text": [
            "Epoch 1/50\n",
            "45/45 [==============================] - 1s 10ms/step - loss: 544.8828 - val_loss: 643.9844\n",
            "Epoch 2/50\n",
            "45/45 [==============================] - 0s 2ms/step - loss: 531.1964 - val_loss: 626.1860\n",
            "Epoch 3/50\n",
            "45/45 [==============================] - 0s 2ms/step - loss: 513.0030 - val_loss: 601.9466\n",
            "Epoch 4/50\n",
            "45/45 [==============================] - 0s 2ms/step - loss: 488.5502 - val_loss: 568.5989\n",
            "Epoch 5/50\n",
            "45/45 [==============================] - 0s 2ms/step - loss: 458.3084 - val_loss: 529.9375\n",
            "Epoch 6/50\n",
            "45/45 [==============================] - 0s 2ms/step - loss: 423.2677 - val_loss: 479.8230\n",
            "Epoch 7/50\n",
            "45/45 [==============================] - 0s 2ms/step - loss: 380.6318 - val_loss: 428.6771\n",
            "Epoch 8/50\n",
            "45/45 [==============================] - 0s 2ms/step - loss: 336.8353 - val_loss: 374.6212\n",
            "Epoch 9/50\n",
            "45/45 [==============================] - 0s 2ms/step - loss: 294.0070 - val_loss: 324.2834\n",
            "Epoch 10/50\n",
            "45/45 [==============================] - 0s 2ms/step - loss: 256.8001 - val_loss: 279.2153\n",
            "Epoch 11/50\n",
            "45/45 [==============================] - 0s 2ms/step - loss: 226.8807 - val_loss: 243.2201\n",
            "Epoch 12/50\n",
            "45/45 [==============================] - 0s 2ms/step - loss: 203.4588 - val_loss: 215.5496\n",
            "Epoch 13/50\n",
            "45/45 [==============================] - 0s 2ms/step - loss: 185.5550 - val_loss: 191.5392\n",
            "Epoch 14/50\n",
            "45/45 [==============================] - 0s 2ms/step - loss: 172.3918 - val_loss: 175.6173\n",
            "Epoch 15/50\n",
            "45/45 [==============================] - 0s 2ms/step - loss: 161.7047 - val_loss: 161.2802\n",
            "Epoch 16/50\n",
            "45/45 [==============================] - 0s 2ms/step - loss: 151.7106 - val_loss: 148.5681\n",
            "Epoch 17/50\n",
            "45/45 [==============================] - 0s 2ms/step - loss: 142.5175 - val_loss: 136.7524\n",
            "Epoch 18/50\n",
            "45/45 [==============================] - 0s 2ms/step - loss: 133.1904 - val_loss: 125.9389\n",
            "Epoch 19/50\n",
            "45/45 [==============================] - 0s 2ms/step - loss: 122.9304 - val_loss: 113.1002\n",
            "Epoch 20/50\n",
            "45/45 [==============================] - 0s 2ms/step - loss: 109.4489 - val_loss: 96.5158\n",
            "Epoch 21/50\n",
            "45/45 [==============================] - 0s 2ms/step - loss: 89.3985 - val_loss: 76.8405\n",
            "Epoch 22/50\n",
            "45/45 [==============================] - 0s 2ms/step - loss: 67.5093 - val_loss: 59.4277\n",
            "Epoch 23/50\n",
            "45/45 [==============================] - 0s 2ms/step - loss: 49.9580 - val_loss: 48.4028\n",
            "Epoch 24/50\n",
            "45/45 [==============================] - 0s 2ms/step - loss: 39.7607 - val_loss: 42.4998\n",
            "Epoch 25/50\n",
            "45/45 [==============================] - 0s 2ms/step - loss: 34.5293 - val_loss: 38.1603\n",
            "Epoch 26/50\n",
            "45/45 [==============================] - 0s 2ms/step - loss: 31.4888 - val_loss: 35.3817\n",
            "Epoch 27/50\n",
            "45/45 [==============================] - 0s 2ms/step - loss: 29.2247 - val_loss: 33.1304\n",
            "Epoch 28/50\n",
            "45/45 [==============================] - 0s 3ms/step - loss: 27.3721 - val_loss: 31.2297\n",
            "Epoch 29/50\n",
            "45/45 [==============================] - 0s 2ms/step - loss: 25.9508 - val_loss: 29.6724\n",
            "Epoch 30/50\n",
            "45/45 [==============================] - 0s 2ms/step - loss: 24.7684 - val_loss: 28.4276\n",
            "Epoch 31/50\n",
            "45/45 [==============================] - 0s 2ms/step - loss: 23.7457 - val_loss: 27.3037\n",
            "Epoch 32/50\n",
            "45/45 [==============================] - 0s 2ms/step - loss: 22.9886 - val_loss: 26.3806\n",
            "Epoch 33/50\n",
            "45/45 [==============================] - 0s 2ms/step - loss: 22.1764 - val_loss: 25.6260\n",
            "Epoch 34/50\n",
            "45/45 [==============================] - 0s 2ms/step - loss: 21.6147 - val_loss: 24.9618\n",
            "Epoch 35/50\n",
            "45/45 [==============================] - 0s 2ms/step - loss: 21.0488 - val_loss: 24.5329\n",
            "Epoch 36/50\n",
            "45/45 [==============================] - 0s 2ms/step - loss: 20.5730 - val_loss: 23.7838\n",
            "Epoch 37/50\n",
            "45/45 [==============================] - 0s 2ms/step - loss: 20.1321 - val_loss: 23.5113\n",
            "Epoch 38/50\n",
            "45/45 [==============================] - 0s 2ms/step - loss: 19.7740 - val_loss: 23.0658\n",
            "Epoch 39/50\n",
            "45/45 [==============================] - 0s 2ms/step - loss: 19.5097 - val_loss: 22.7742\n",
            "Epoch 40/50\n",
            "45/45 [==============================] - 0s 2ms/step - loss: 19.2137 - val_loss: 22.5006\n",
            "Epoch 41/50\n",
            "45/45 [==============================] - 0s 3ms/step - loss: 18.9506 - val_loss: 22.1672\n",
            "Epoch 42/50\n",
            "45/45 [==============================] - 0s 3ms/step - loss: 18.6885 - val_loss: 21.7804\n",
            "Epoch 43/50\n",
            "45/45 [==============================] - 0s 2ms/step - loss: 18.4632 - val_loss: 21.5588\n",
            "Epoch 44/50\n",
            "45/45 [==============================] - 0s 2ms/step - loss: 18.1740 - val_loss: 21.3161\n",
            "Epoch 45/50\n",
            "45/45 [==============================] - 0s 2ms/step - loss: 18.0155 - val_loss: 21.0995\n",
            "Epoch 46/50\n",
            "45/45 [==============================] - 0s 2ms/step - loss: 17.9016 - val_loss: 20.8342\n",
            "Epoch 47/50\n",
            "45/45 [==============================] - 0s 2ms/step - loss: 17.5994 - val_loss: 20.5537\n",
            "Epoch 48/50\n",
            "45/45 [==============================] - 0s 2ms/step - loss: 17.3821 - val_loss: 20.4425\n",
            "Epoch 49/50\n",
            "45/45 [==============================] - 0s 2ms/step - loss: 17.1930 - val_loss: 20.0574\n",
            "Epoch 50/50\n",
            "45/45 [==============================] - 0s 2ms/step - loss: 17.0308 - val_loss: 19.9245\n"
          ]
        },
        {
          "output_type": "execute_result",
          "data": {
            "text/plain": [
              "<keras.callbacks.History at 0x7f2bcfa72d50>"
            ]
          },
          "metadata": {},
          "execution_count": 76
        }
      ]
    },
    {
      "cell_type": "code",
      "metadata": {
        "colab": {
          "base_uri": "https://localhost:8080/",
          "height": 265
        },
        "id": "LNoxHVn_82Bx",
        "outputId": "7cd44b04-e3fa-4d26-b617-5b8285cf836f"
      },
      "source": [
        "# imprimimos la historia del error\n",
        "plt.plot(nn_regressor.history.history['val_loss'], label = 'test')\n",
        "plt.plot(nn_regressor.history.history['loss'], label = 'train')\n",
        "plt.legend()\n",
        "plt.show()"
      ],
      "execution_count": 78,
      "outputs": [
        {
          "output_type": "display_data",
          "data": {
            "image/png": "[encoded data removed]",
            "text/plain": [
              "<Figure size 432x288 with 1 Axes>"
            ]
          },
          "metadata": {
            "needs_background": "light"
          }
        }
      ]
    },
    {
      "cell_type": "code",
      "metadata": {
        "id": "fIAXfLFx82By"
      },
      "source": [
        "# realizamos la prediccion con la NN\n",
        "yte_hat_nn = nn_regressor.predict(xte)"
      ],
      "execution_count": 79,
      "outputs": []
    },
    {
      "cell_type": "code",
      "metadata": {
        "id": "qIqJgLFaDC0H"
      },
      "source": [
        ""
      ],
      "execution_count": null,
      "outputs": []
    },
    {
      "cell_type": "markdown",
      "metadata": {
        "id": "LaVQdIW5FULU"
      },
      "source": [
        "## **Comparamos el rendimiento de los tres modelos**"
      ]
    },
    {
      "cell_type": "code",
      "metadata": {
        "id": "objhY5gCDC4U"
      },
      "source": [
        "# medimos el MSE de la prediccion de cada modelo\n",
        "mse_lin = mean_squared_error(yte_hat_lin, yte)\n",
        "mse_ridge = mean_squared_error(yte_hat_ridge, yte)\n",
        "mse_nn = mean_squared_error(yte_hat_nn, yte)"
      ],
      "execution_count": 105,
      "outputs": []
    },
    {
      "cell_type": "code",
      "metadata": {
        "colab": {
          "base_uri": "https://localhost:8080/",
          "height": 350
        },
        "id": "cBF7o5zM_foh",
        "outputId": "7063e04a-829f-4a5a-de1e-4c90f0e43f63"
      },
      "source": [
        "# ploteamos las predicciones de cada modelo \n",
        "fig, ax = plt.subplots(1,3, figsize = (14,5))\n",
        "ax[0].scatter(yte, yte_hat_lin)\n",
        "ax[0].plot(np.arange(np.max(yte)),np.arange(np.max(yte)), color = 'r', alpha = 0.5)\n",
        "ax[0].set_title('Lin. reg. MSE = '+str(np.round(mse_lin,3)))\n",
        "ax[0].set_xlabel('etiquetas reales')\n",
        "ax[1].set_xlabel('predicciones')\n",
        "ax[1].scatter(yte, yte_hat_ridge)\n",
        "ax[1].plot(np.arange(np.max(yte)),np.arange(np.max(yte)), color = 'r', alpha = 0.5)\n",
        "ax[1].set_title('Ridge. reg. MSE = '+str(np.round(mse_ridge,3)))\n",
        "ax[1].set_xlabel('etiquetas reales')\n",
        "ax[2].scatter(yte, yte_hat_nn)\n",
        "ax[2].plot(np.arange(np.max(yte)),np.arange(np.max(yte)), color = 'r', alpha = 0.5)\n",
        "ax[2].set_title('Neural Net MSE = '+str(np.round(mse_nn,3)))\n",
        "ax[2].set_xlabel('etiquetas reales')\n",
        "plt.show()"
      ],
      "execution_count": 115,
      "outputs": [
        {
          "output_type": "display_data",
          "data": {
            "image/png": "[encoded data removed]",
            "text/plain": [
              "<Figure size 1008x360 with 3 Axes>"
            ]
          },
          "metadata": {
            "needs_background": "light"
          }
        }
      ]
    },
    {
      "cell_type": "code",
      "metadata": {
        "id": "wfAt1q-J82B0"
      },
      "source": [
        ""
      ],
      "execution_count": null,
      "outputs": []
    },
    {
      "cell_type": "code",
      "metadata": {
        "id": "SfMupWT182B0"
      },
      "source": [
        ""
      ],
      "execution_count": null,
      "outputs": []
    },
    {
      "cell_type": "code",
      "metadata": {
        "id": "MxTVCXQX82B0"
      },
      "source": [
        ""
      ],
      "execution_count": null,
      "outputs": []
    }
  ]
}