{
 "cells": [
  {
   "cell_type": "markdown",
   "metadata": {
    "colab_type": "text",
    "id": "52PYaULIbPB1"
   },
   "source": [
    "____\n",
    "__Universidad Tecnológica Nacional, Buenos Aires__<br/>\n",
    "__Ingeniería Industrial__<br/>\n",
    "__Cátedra de Ciencia de Datos - Curso I5521 - Turno sabado mañana__<br/>\n",
    "__Elaborado por: Agustin Velazquez__<br/>\n",
    "__Editado por: Nicolas Aguirre__\n",
    "\n",
    "____"
   ]
  },
  {
   "cell_type": "markdown",
   "metadata": {
    "colab_type": "text",
    "id": "R7fjUH99o92m"
   },
   "source": [
    "# Combinando Datos con Pandas"
   ]
  },
  {
   "cell_type": "markdown",
   "metadata": {
    "colab_type": "text",
    "id": "qdUc-_u8o92n"
   },
   "source": [
    "**Datos** : https://datos.gob.ar/dataset/produccion-archivo-1992-2019-indicadores-sectoriales-acero\n",
    "\n",
    "**Link util** : https://pandas.pydata.org/pandas-docs/stable/user_guide/merging.html"
   ]
  },
  {
   "cell_type": "code",
   "execution_count": null,
   "metadata": {
    "colab": {
     "base_uri": "https://localhost:8080/",
     "height": 51
    },
    "colab_type": "code",
    "executionInfo": {
     "elapsed": 692,
     "status": "ok",
     "timestamp": 1599311768493,
     "user": {
      "displayName": "Matias Callara",
      "photoUrl": "https://lh3.googleusercontent.com/a-/AOh14GgPTxU30M6WJGjxxsl1WHOpFgnH2tdiZyM3qzeXDA=s64",
      "userId": "18070302972341276271"
     },
     "user_tz": -120
    },
    "id": "A3NM_LWho92n",
    "outputId": "03c90baa-b5e8-44a1-f0ef-01400aa23a9d"
   },
   "outputs": [],
   "source": [
    "import pandas as pd\n",
    "import matplotlib.pyplot as plt\n",
    "%matplotlib inline\n",
    "import seaborn as sns\n",
    "from IPython.display import Image"
   ]
  },
  {
   "cell_type": "markdown",
   "metadata": {
    "colab_type": "text",
    "id": "5WjuBLtZYel2"
   },
   "source": [
    "Tenemos datos distribuidos en 4 datasets. Queremos trabajar con ellos en conjunto. Importamos los 4 datasets y procederemos a combinarlos para generar nuevas tablas."
   ]
  },
  {
   "cell_type": "code",
   "execution_count": null,
   "metadata": {
    "colab": {},
    "colab_type": "code",
    "id": "2QuGt0ZNo92q"
   },
   "outputs": [],
   "source": [
    "expo = pd.read_csv('acero-exportaciones-series.csv')\n",
    "impo = pd.read_csv('acero-importaciones-series.csv')\n",
    "prod = pd.read_csv('acero-produccion-series.csv')\n",
    "consumo = pd.read_csv('acero-consumo-series.csv')"
   ]
  },
  {
   "cell_type": "code",
   "execution_count": null,
   "metadata": {
    "colab": {
     "base_uri": "https://localhost:8080/",
     "height": 111
    },
    "colab_type": "code",
    "executionInfo": {
     "elapsed": 349,
     "status": "ok",
     "timestamp": 1599311771310,
     "user": {
      "displayName": "Matias Callara",
      "photoUrl": "https://lh3.googleusercontent.com/a-/AOh14GgPTxU30M6WJGjxxsl1WHOpFgnH2tdiZyM3qzeXDA=s64",
      "userId": "18070302972341276271"
     },
     "user_tz": -120
    },
    "id": "ji6ZQkiko92s",
    "outputId": "786c41a2-607b-4ff7-ff58-0660bfb0f263",
    "scrolled": true
   },
   "outputs": [],
   "source": [
    "# Renombremos columnas para que luego cuando grafiquemos nos sea representativo del DF del que provienen\n",
    "prod = prod.rename(columns={'valor':'acero_produccion'})\n",
    "# observamos cada dataframe\n",
    "prod.head(2)"
   ]
  },
  {
   "cell_type": "code",
   "execution_count": null,
   "metadata": {},
   "outputs": [],
   "source": [
    "# Renombremos columnas\n",
    "impo = impo.rename(columns={'acero_moldeado':'acero_importaciones_acero',\n",
    "                           'barras_forjadas': 'acero_importaciones_barras',\n",
    "                           'laminados_largos': 'acero_importaciones_laminados_largos',\n",
    "                            'laminados_planos': 'acero_importaciones_laminados_planos',\n",
    "                            'rieles': 'acero_importaciones_rieles',\n",
    "                            'tubos_con_costura':'acero_importaciones_tubos_con_costura',\n",
    "                            'tubos_sin_costura': 'acero_importaciones_tubos_sin_costura'                            \n",
    "                           })\n",
    "\n",
    "# observamos cada dataframe\n",
    "impo.head(2)"
   ]
  },
  {
   "cell_type": "code",
   "execution_count": null,
   "metadata": {},
   "outputs": [],
   "source": [
    "# Renombremos columnas\n",
    "consumo = consumo.rename(columns={'laminados_largos':'acero_consumo_tubos_sin_costura',\n",
    "                           'laminados_planos': 'acero_consumo_laminados_planos',\n",
    "                           'tubos_sin_costura': 'acero_consumo_laminados_largos'                           \n",
    "                           })\n",
    "\n",
    "# observamos cada dataframe\n",
    "consumo.head(2)"
   ]
  },
  {
   "cell_type": "code",
   "execution_count": null,
   "metadata": {
    "colab": {},
    "colab_type": "code",
    "id": "bNM0lL_AYemG",
    "outputId": "2dd540b1-06a3-47ad-bb7f-1fa5e5abc9b6"
   },
   "outputs": [],
   "source": [
    "# observamos cada dataframe\n",
    "consumo.head(2)"
   ]
  },
  {
   "cell_type": "code",
   "execution_count": null,
   "metadata": {
    "colab": {},
    "colab_type": "code",
    "id": "Q2176GJ5o92y"
   },
   "outputs": [],
   "source": [
    "# Existe una diferencia en unidades, la produccion esta en toneladas y las importaciones en miles de toneladas\n",
    "# Transformamos los datos...\n",
    "prod.acero_produccion = prod.acero_produccion/1000"
   ]
  },
  {
   "cell_type": "markdown",
   "metadata": {
    "colab_type": "text",
    "id": "CXRkPevTYemM"
   },
   "source": [
    "Observamos como queda la nueva columna de \"acero_produccion\" del dataframe \"prod\" luego de haber transformado"
   ]
  },
  {
   "cell_type": "code",
   "execution_count": null,
   "metadata": {
    "colab": {},
    "colab_type": "code",
    "id": "FO_FtMrOo920",
    "outputId": "463e329e-e805-4b38-9764-ad04dd0dbba2"
   },
   "outputs": [],
   "source": [
    "prod.head()"
   ]
  },
  {
   "cell_type": "code",
   "execution_count": null,
   "metadata": {
    "scrolled": true
   },
   "outputs": [],
   "source": [
    "expo = expo.rename(columns={'acero_moldeado': 'acero_exportaciones_acero',\n",
    "                            'laminados_largos' :'acero_exportaciones_laminados_largos',\n",
    "                            'laminados_planos': 'acero_exportaciones_laminados_planos',\n",
    "                            'rieles': 'acero_exportaciones_rieles',\n",
    "                            'tubos_con_costura': 'acero_exportaciones_tubos_con_costura',\n",
    "                            'tubos_sin_costura':'acero_exportaciones_tubos_sin_costura',                           \n",
    "    \n",
    "})"
   ]
  },
  {
   "cell_type": "code",
   "execution_count": null,
   "metadata": {},
   "outputs": [],
   "source": [
    "expo"
   ]
  },
  {
   "cell_type": "markdown",
   "metadata": {
    "colab_type": "text",
    "id": "CcI39jJNYemQ"
   },
   "source": [
    "# Trabajar con Fechas\n",
    "\n",
    "utilizaremos el comando **pd.to_datetime(columna)** para re-escribir la columna \"indice_tiempo\" que estaba inicialmente como string.\n",
    "\n",
    "- a la columna transformada en datos con formato de fecha podemos aplicarle .dt.year o .dt.month o dt.day para obtener año, mes o dia de esa columna."
   ]
  },
  {
   "cell_type": "code",
   "execution_count": null,
   "metadata": {
    "colab": {},
    "colab_type": "code",
    "id": "kaPATIXho922",
    "outputId": "d7b888f4-c085-4b37-e7ef-647c39a28018"
   },
   "outputs": [],
   "source": [
    "#Unificamos los datos para tener mediciones por año\n",
    "expo.indice_tiempo = pd.to_datetime(expo.indice_tiempo) #### indicar que columna queremos transformar #####\n",
    "expo['year'] = expo.indice_tiempo.dt.year #creamos una nueva columna \"year\" con .dt.year sobre la col \"indice_tiempo\"\n",
    "expo.head()"
   ]
  },
  {
   "cell_type": "markdown",
   "metadata": {
    "colab_type": "text",
    "id": "zNllxv3VYemT"
   },
   "source": [
    "Applicamos un .groupby() sobre \"year\" y creamos un nuevo dataframe llamado \"expo_by_year\""
   ]
  },
  {
   "cell_type": "markdown",
   "metadata": {},
   "source": [
    "## Groupby [year]"
   ]
  },
  {
   "cell_type": "markdown",
   "metadata": {},
   "source": [
    "###  Exportaciones"
   ]
  },
  {
   "cell_type": "code",
   "execution_count": null,
   "metadata": {
    "colab": {},
    "colab_type": "code",
    "id": "lLz6x1VXo925",
    "outputId": "b36412cc-39f7-45c5-bfdd-e24cf7f5ce3d",
    "scrolled": true
   },
   "outputs": [],
   "source": [
    "#Vamos a trabajar unicamente de aceros laminados \n",
    "#Sumamos la cantidad de exportaciones por año\n",
    "expo_by_year = expo.groupby([\"year\"])[\"acero_exportaciones_laminados_largos\", \"acero_exportaciones_laminados_planos\"].sum()\n",
    "expo_by_year.head()"
   ]
  },
  {
   "cell_type": "markdown",
   "metadata": {},
   "source": [
    "**PLOT**"
   ]
  },
  {
   "cell_type": "markdown",
   "metadata": {
    "colab_type": "text",
    "id": "Q8grN_GWYemY"
   },
   "source": [
    "con el comando .plot() sobre un dataframe, **si las columnas son numéricas y representan lo mismo** podemos graficarlas en un mismo grafico. Esto es una alternativa rapida a matplotlib y seaborn"
   ]
  },
  {
   "cell_type": "code",
   "execution_count": null,
   "metadata": {
    "colab": {},
    "colab_type": "code",
    "id": "U90OE7xCo927",
    "outputId": "1bb830aa-6511-4b81-f8c5-ec3f8bf507d6"
   },
   "outputs": [],
   "source": [
    "sns.set_context(\"talk\", font_scale=0.8)\n",
    "expo_by_year.plot(title = \"Exportacion de Acero en Argentina en miles de toneladas\" )\n",
    "plt.legend(loc='center left', bbox_to_anchor=(1, 0.5))\n",
    "plt.show()"
   ]
  },
  {
   "cell_type": "markdown",
   "metadata": {
    "colab_type": "text",
    "id": "2_ovMkyGYemb"
   },
   "source": [
    "¿que observamos de este grafico?"
   ]
  },
  {
   "cell_type": "markdown",
   "metadata": {},
   "source": [
    "### Importanciones"
   ]
  },
  {
   "cell_type": "code",
   "execution_count": null,
   "metadata": {
    "colab": {},
    "colab_type": "code",
    "id": "CJ3yGc_oo92-"
   },
   "outputs": [],
   "source": [
    "#Hacemos lo mismo con las importaciones ahora\n",
    "impo.indice_tiempo = pd.to_datetime(impo.indice_tiempo)##### transformamos una columna de fechas a \"datetime\"\n",
    "impo['year'] = impo.indice_tiempo.dt.year#### generamos una columna nueva para guardar los años"
   ]
  },
  {
   "cell_type": "code",
   "execution_count": null,
   "metadata": {
    "colab": {},
    "colab_type": "code",
    "id": "4xpkrkkWo93A",
    "outputId": "87495f58-8899-41e5-cae0-95852274f4fd",
    "scrolled": true
   },
   "outputs": [],
   "source": [
    "impo_by_year = impo.groupby([\"year\"])[[\"acero_importaciones_laminados_largos\", \"acero_importaciones_laminados_planos\"]].sum()#### hacemos un groupby de la columna \"year\" que creamos para \"acero_importaciones_laminados_largos\",\"acero_importaciones_laminados_planos\"\n",
    "impo_by_year.head()"
   ]
  },
  {
   "cell_type": "markdown",
   "metadata": {},
   "source": [
    "**PLOT**"
   ]
  },
  {
   "cell_type": "code",
   "execution_count": null,
   "metadata": {
    "colab": {},
    "colab_type": "code",
    "id": "rxZ-wb-Do93D",
    "outputId": "56420011-50d4-4068-fb2b-ce00061a2fe2",
    "scrolled": true
   },
   "outputs": [],
   "source": [
    "#Graficamos el nuevo dataframe generado \"impo_by_year\"\n",
    "impo_by_year.plot(title = \"Importacion de Acero en Argentina en miles de toneladas\")\n",
    "plt.show()"
   ]
  },
  {
   "cell_type": "markdown",
   "metadata": {},
   "source": [
    "# Concatenar DataFrames"
   ]
  },
  {
   "cell_type": "markdown",
   "metadata": {
    "colab_type": "text",
    "id": "FtKH7ItJo93F"
   },
   "source": [
    "**Como hacemos si queremos tener todos los datos en un mismo grafico?**\n",
    "\n",
    "[**pandas.concat()**](https://pandas.pydata.org/pandas-docs/stable/reference/api/pandas.concat.html) !\n",
    "\n",
    "\n",
    "- Realizaremos un concat de *expo_by_year* y de *impo_by_year*\n",
    "\n",
    "- Beberemos determinar si concatenar por columnas o filas (axis)\n",
    "\n",
    "- Determinar si es inner or outter join"
   ]
  },
  {
   "cell_type": "code",
   "execution_count": null,
   "metadata": {
    "colab": {},
    "colab_type": "code",
    "id": "c7Sb01Oxo93G",
    "outputId": "5129f672-2377-4524-e30b-b5b011484dbb",
    "scrolled": true
   },
   "outputs": [],
   "source": [
    "expo_and_impo_by_year = pd.concat([expo_by_year,impo_by_year],\n",
    "                                  axis = 1, #concatncatenamos columnas\n",
    "                                  join = \"inner\", \n",
    "                                  ignore_index = False) # Nuestros indices son los años\n",
    "expo_and_impo_by_year.head(10)"
   ]
  },
  {
   "cell_type": "markdown",
   "metadata": {
    "colab_type": "text",
    "id": "MlrBSUB8Yemm"
   },
   "source": [
    "Ahora podemos visualizar todos los datos en una misma tabla"
   ]
  },
  {
   "cell_type": "code",
   "execution_count": null,
   "metadata": {
    "colab": {},
    "colab_type": "code",
    "id": "xwW5WrUGo93I",
    "outputId": "085a47b6-eef5-4c20-eb5b-d0928e4f8a71"
   },
   "outputs": [],
   "source": [
    "expo_and_impo_by_year.plot()\n",
    "plt.legend(loc='center left', bbox_to_anchor=(1, 0.5))\n",
    "plt.show()"
   ]
  },
  {
   "cell_type": "markdown",
   "metadata": {
    "colab_type": "text",
    "id": "Qn4OPzYso93K"
   },
   "source": [
    "## Opcion axis y join "
   ]
  },
  {
   "cell_type": "markdown",
   "metadata": {
    "colab_type": "text",
    "id": "7YDm7aJXo93L"
   },
   "source": [
    "Hay dos fomas de concatenar \n",
    "\n",
    "* una por las columnas (axis = 1) \n",
    "\n",
    "* otra por las filas (axis = 0), \n",
    "\n",
    "por default es cero, que pasa si cambiamos ese valor?"
   ]
  },
  {
   "cell_type": "markdown",
   "metadata": {
    "colab_type": "text",
    "id": "CBvTjQM2o93L"
   },
   "source": [
    "![Axis diagram](https://www.dataquest.io/wp-content/uploads/2019/01/axis_diagram.jpg)"
   ]
  },
  {
   "cell_type": "markdown",
   "metadata": {
    "colab_type": "text",
    "id": "_cqITVkco93M"
   },
   "source": [
    "Al igual que en bases de datos ralacionales (ejemplo: SQL), Pandas tiene la opcion de realizar **merge** y **join**.\n",
    "\n",
    "    - Joins solo puede realizarse de a dos tablas.\n",
    "    \n",
    "    - Concat va a funcionar cuando tenemos tablas de la misma altura (numero de filas)\n",
    "    \n",
    "    - \"Key\" es la columna que tienen en comun.\n",
    "    \n",
    "    - Con pd.concat() podemos usar inner o outer join\n",
    "    \n",
    "    - Existen 4 tipos de join:  "
   ]
  },
  {
   "cell_type": "markdown",
   "metadata": {
    "colab_type": "text",
    "id": "TriC-nWwo93M"
   },
   "source": [
    "![Inner join](https://www.dataquest.io/wp-content/uploads/2017/12/inner-join.png)\n",
    "![Left join](https://www.dataquest.io/wp-content/uploads/2019/01/left-join.png)\n",
    "![Right join](https://www.dataquest.io/wp-content/uploads/2019/01/right-join.png)\n",
    "![Full outer join](https://www.dataquest.io/wp-content/uploads/2019/01/full-outer-join.png)"
   ]
  },
  {
   "cell_type": "markdown",
   "metadata": {},
   "source": [
    "# Merge DataFrame\n",
    "\n",
    "Es muy **recomendando** leer detenidamente los documentos de Merge y su tutorial\n",
    "\n",
    "Link: https://pandas.pydata.org/pandas-docs/stable/user_guide/merging.html#database-style-dataframe-or-named-series-joining-merging"
   ]
  },
  {
   "cell_type": "markdown",
   "metadata": {
    "colab_type": "text",
    "id": "bH1HV7Pno93N"
   },
   "source": [
    "**Ahora vamos a sumarle nuestros datos de Produccion**"
   ]
  },
  {
   "cell_type": "code",
   "execution_count": null,
   "metadata": {
    "colab": {},
    "colab_type": "code",
    "id": "SEUh0ORoo93O",
    "outputId": "ea908b3f-034a-46a5-c922-44b6096d123e"
   },
   "outputs": [],
   "source": [
    "# Modificamos nuestro data-set de produccion para tenerlo de la misma forma que IMPO o EXPO\n",
    "prod.indice_tiempo =   pd.to_datetime(prod.indice_tiempo)\n",
    "# creamos la columna \"year\"\n",
    "prod['year'] =  prod.indice_tiempo.dt.year \n",
    "#sumamos la produccion por cada año\n",
    "prod_by_year = prod.groupby([\"year\"])[\"acero_produccion\"].sum().to_frame() \n",
    "# Este data-set incluye datos del 2019!\n",
    "prod_by_year.head(10)"
   ]
  },
  {
   "cell_type": "markdown",
   "metadata": {},
   "source": [
    "## [Expo_Impo] U [Produccion] "
   ]
  },
  {
   "cell_type": "code",
   "execution_count": null,
   "metadata": {
    "colab": {},
    "colab_type": "code",
    "id": "Ypfx_Y2Jo93S",
    "outputId": "e96f0f0d-0c09-44e6-fc7d-abeca87d9b39"
   },
   "outputs": [],
   "source": [
    "#Unimos los dos datasets \"expo_and_impo_by_year\" y \"prod_by_year\"\n",
    "expo_impo_prod_by_year = pd.merge(expo_and_impo_by_year,\n",
    "                                  prod_by_year,\n",
    "                                  how='left',\n",
    "                                  left_index = True,\n",
    "                                  right_index = True)\n",
    "expo_impo_prod_by_year.head(40)"
   ]
  },
  {
   "cell_type": "markdown",
   "metadata": {
    "colab_type": "text",
    "id": "SgdcXevgo93V"
   },
   "source": [
    "# Join Dataframe\n",
    " \n",
    " **Otra forma de usar merge es con el comando df.join() directamente**\n",
    "\n",
    "https://pandas.pydata.org/docs/reference/api/pandas.DataFrame.join.html"
   ]
  },
  {
   "cell_type": "markdown",
   "metadata": {
    "colab_type": "text",
    "id": "863xNCKQo93W"
   },
   "source": [
    "# Append\n",
    "**En caso de querer agregar mas filas en data-sets similares podemos utilizar pd.append()**\n",
    "\n",
    "https://pandas.pydata.org/pandas-docs/stable/reference/api/pandas.DataFrame.append.html"
   ]
  },
  {
   "cell_type": "markdown",
   "metadata": {
    "colab_type": "text",
    "id": "o4S9bMNZo93W"
   },
   "source": [
    "### Conclusion ...\n",
    "\n",
    "[**DataFrame.append()**](https://pandas.pydata.org/docs/reference/api/pandas.DataFrame.append.html): un metodo rapido para agregar filas pero no columnas!\n",
    "\n",
    "[**DataFrame.join()**](https://pandas.pydata.org/docs/reference/api/pandas.DataFrame.join.html): metodo rapido para hacer join pero solo por index (podriamos haberlo usada aca)\n",
    "\n",
    "[**pd.concat()**](https://pandas.pydata.org/docs/reference/api/pandas.concat.html): multiproposito y puede ser usado para combinar data-sets por filas o columnas \n",
    "\n",
    "[**pd.merge()**](https://pandas.pydata.org/docs/reference/api/pandas.merge.html): util cuando tenemos que unir data-sets con una columna en comun (key). Es la funcion mas *general*. Entendiendo esta funcion y como configurarla podemos obtener los mismo resultados que todas las anteriores."
   ]
  },
  {
   "cell_type": "markdown",
   "metadata": {
    "colab_type": "text",
    "id": "O3j5m88co93W"
   },
   "source": [
    "# Tarea... (?)\n",
    "\n",
    "1- Unir el data-set de consumo al ultimo creado para poder graficar todo junto. (tener en cuenta las columnas usadas)\n",
    "\n",
    "2- Obtener un data-set a partir del punto 1 con cuatro columnas correspondientes a EXPO, IMPO, PROD y CONSUM.\n",
    "\n",
    "        (Puedo sumar columnas a = b + c y crear un DF, puedo usar pd.sum() o crear columnas y luego hacer drop)\n",
    "        \n",
    "3- Graficar el data-set del punto 2 con la libreria sea-born y editando titulos, leyendas, colores, etc. \n"
   ]
  },
  {
   "cell_type": "markdown",
   "metadata": {
    "colab_type": "text",
    "id": "RNdnniVFo93W"
   },
   "source": [
    "# **Preguntas ?**\n",
    "\n",
    "\n",
    "\n",
    "\n",
    "\n",
    "![Axis diagram](https://i.pinimg.com/originals/ec/bf/1c/ecbf1c0337f0623160ac56c89d64d601.jpg)"
   ]
  },
  {
   "cell_type": "code",
   "execution_count": null,
   "metadata": {
    "colab": {},
    "colab_type": "code",
    "id": "ZUWpVjc4o93X"
   },
   "outputs": [],
   "source": []
  }
 ],
 "metadata": {
  "colab": {
   "collapsed_sections": [],
   "name": "clusterai_2020_clase02_eda_aceros_combinando_tablas.ipynb",
   "provenance": [],
   "toc_visible": true
  },
  "kernelspec": {
   "display_name": "Python 3 (ipykernel)",
   "language": "python",
   "name": "python3"
  },
  "language_info": {
   "codemirror_mode": {
    "name": "ipython",
    "version": 3
   },
   "file_extension": ".py",
   "mimetype": "text/x-python",
   "name": "python",
   "nbconvert_exporter": "python",
   "pygments_lexer": "ipython3",
   "version": "3.9.6"
  },
  "toc": {
   "base_numbering": 1,
   "nav_menu": {},
   "number_sections": true,
   "sideBar": true,
   "skip_h1_title": false,
   "title_cell": "Table of Contents",
   "title_sidebar": "Contents",
   "toc_cell": false,
   "toc_position": {
    "height": "calc(100% - 180px)",
    "left": "10px",
    "top": "150px",
    "width": "340.66px"
   },
   "toc_section_display": true,
   "toc_window_display": false
  }
 },
 "nbformat": 4,
 "nbformat_minor": 1
}
