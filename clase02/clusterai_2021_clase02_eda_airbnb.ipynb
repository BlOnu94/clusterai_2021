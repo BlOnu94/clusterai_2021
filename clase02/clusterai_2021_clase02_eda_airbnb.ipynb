{
 "cells": [
  {
   "cell_type": "markdown",
   "metadata": {
    "colab_type": "text",
    "id": "QuBcbBdybLZR"
   },
   "source": [
    "____\n",
    "__Universidad Tecnológica Nacional, Buenos Aires__<br/>\n",
    "__Ingeniería Industrial__<br/>\n",
    "__Cátedra de Ciencia de Datos - Curso I5521 - Turno sabado mañana__<br/>\n",
    "__Elaborado por: Nicolas Aguirre__\n",
    "____"
   ]
  },
  {
   "cell_type": "markdown",
   "metadata": {
    "colab_type": "text",
    "id": "nP84DR6FiNDw"
   },
   "source": [
    "# clase_02: EDA : Analisis Exploratorio de los Datos"
   ]
  },
  {
   "cell_type": "markdown",
   "metadata": {
    "colab_type": "text",
    "id": "EtSj3GImiNDz"
   },
   "source": [
    "# Librerias"
   ]
  },
  {
   "cell_type": "code",
   "execution_count": null,
   "metadata": {
    "colab": {
     "base_uri": "https://localhost:8080/",
     "height": 51
    },
    "colab_type": "code",
    "executionInfo": {
     "elapsed": 981,
     "status": "ok",
     "timestamp": 1599311844776,
     "user": {
      "displayName": "Matias Callara",
      "photoUrl": "https://lh3.googleusercontent.com/a-/AOh14GgPTxU30M6WJGjxxsl1WHOpFgnH2tdiZyM3qzeXDA=s64",
      "userId": "18070302972341276271"
     },
     "user_tz": -120
    },
    "id": "E3LVbuOgJYwc",
    "outputId": "9e7a9001-9f43-4928-e0cd-9996ee1c31d4"
   },
   "outputs": [],
   "source": [
    "#Importar paquetes de herramientas:\n",
    "#Datos\n",
    "import pandas as pd\n",
    "import numpy as np\n",
    "#Graficos \n",
    "import matplotlib.pyplot as plt\n",
    "import seaborn as sns\n",
    "#Otros \n",
    "import warnings\n",
    "warnings.filterwarnings('ignore')"
   ]
  },
  {
   "cell_type": "markdown",
   "metadata": {
    "colab_type": "text",
    "id": "S4is8DFSaTb2"
   },
   "source": [
    "# Dataset"
   ]
  },
  {
   "cell_type": "markdown",
   "metadata": {
    "colab_type": "text",
    "id": "h1PnV0TKaTb3"
   },
   "source": [
    "El dataset  que usaremos se encuentra en:\n",
    "  \n",
    "https://www.kaggle.com/dgomonov/new-york-city-airbnb-open-data\n",
    "\n",
    "* Descargar e importarlo\n",
    "\n",
    "\n",
    "* Verificar que se haya cargado bien el dataset\n",
    "\n",
    "\n",
    "* Dimension del dataset"
   ]
  },
  {
   "cell_type": "code",
   "execution_count": null,
   "metadata": {
    "colab": {
     "base_uri": "https://localhost:8080/",
     "height": 165
    },
    "colab_type": "code",
    "executionInfo": {
     "elapsed": 1178,
     "status": "error",
     "timestamp": 1599311844981,
     "user": {
      "displayName": "Matias Callara",
      "photoUrl": "https://lh3.googleusercontent.com/a-/AOh14GgPTxU30M6WJGjxxsl1WHOpFgnH2tdiZyM3qzeXDA=s64",
      "userId": "18070302972341276271"
     },
     "user_tz": -120
    },
    "id": "Jh-ZGb5CJbWM",
    "outputId": "7c213819-f74e-497f-d45a-7795f24eff69"
   },
   "outputs": [],
   "source": [
    "df = pd.read_csv('clusterai_2020_clase02_dataset_ny_airbnb.csv',index_col=\"id\")"
   ]
  },
  {
   "cell_type": "code",
   "execution_count": null,
   "metadata": {
    "colab": {},
    "colab_type": "code",
    "id": "RZzJCEGJiND5",
    "scrolled": false
   },
   "outputs": [],
   "source": [
    "print(f'Shape: {np.shape(df)}')\n",
    "df.head(3)"
   ]
  },
  {
   "cell_type": "markdown",
   "metadata": {
    "colab_type": "text",
    "id": "IORawbMDaTcI"
   },
   "source": [
    "# Limpieza"
   ]
  },
  {
   "cell_type": "markdown",
   "metadata": {
    "colab_type": "text",
    "id": "uRi9cYCkaTcJ"
   },
   "source": [
    "* **Duplicados**\n",
    "\n",
    "\n",
    "* **Cantidad** y **% de NaN** por columna\n",
    "\n",
    "\n",
    "* Luego de quitarlos, devolver shape del df"
   ]
  },
  {
   "cell_type": "code",
   "execution_count": null,
   "metadata": {
    "colab": {},
    "colab_type": "code",
    "id": "E9mPT-aEaTcJ"
   },
   "outputs": [],
   "source": [
    "df.drop_duplicates(inplace=True,keep='first')"
   ]
  },
  {
   "cell_type": "code",
   "execution_count": null,
   "metadata": {
    "colab": {},
    "colab_type": "code",
    "id": "QnbUk2EYaTcP",
    "outputId": "c2a5c9d2-fb96-4e4c-88f9-9b56496f7801"
   },
   "outputs": [],
   "source": [
    "cant_NaN = df.isnull().sum()\n",
    "print(cant_NaN,'\\r\\n')"
   ]
  },
  {
   "cell_type": "code",
   "execution_count": null,
   "metadata": {
    "colab": {},
    "colab_type": "code",
    "id": "Ssn7oGRZJgxn",
    "outputId": "d6e386e6-0a9e-426b-a285-1dbb66eb3a3e"
   },
   "outputs": [],
   "source": [
    "total = df.isnull().sum().sort_values(ascending=False)\n",
    "percent = (df.isnull().sum()/df.isnull().count()).sort_values(ascending=False)\n",
    "missing_data = pd.concat([total, percent], axis=1, keys=['Total', 'Percent'])\n",
    "missing_data.head(6)"
   ]
  },
  {
   "cell_type": "code",
   "execution_count": null,
   "metadata": {
    "colab": {},
    "colab_type": "code",
    "id": "3jNAZYrJJiBQ"
   },
   "outputs": [],
   "source": [
    "#Limpiamos registros\n",
    "df.dropna(how ='any', inplace = True)"
   ]
  },
  {
   "cell_type": "code",
   "execution_count": null,
   "metadata": {
    "colab": {},
    "colab_type": "code",
    "id": "cFAVSErSiNEQ",
    "outputId": "c15fa468-e66e-4c82-d4b4-f1b1b292cd79",
    "scrolled": true
   },
   "outputs": [],
   "source": [
    "# Verificamos como quedo el data-set\n",
    "print(f'Nos quedamos con un df de {df.shape[0]} filas x{df.shape[1]} columnas')"
   ]
  },
  {
   "cell_type": "markdown",
   "metadata": {
    "colab_type": "text",
    "id": "JWMXM8DuaTcb"
   },
   "source": [
    "# Practica!"
   ]
  },
  {
   "cell_type": "markdown",
   "metadata": {
    "colab_type": "text",
    "id": "6RxXPCBiaTcc"
   },
   "source": [
    "1. Crear columna $\\log(precio)$. Grafico de la distribucion de precio y de $log(precio)$\n",
    "\n",
    "\n",
    "2. En base al que mejor se ajuste, comparar los precios segun los distintos *neighbourhood_group* (boxplot)\n",
    "\n",
    "\n",
    "3. Mediana, Limite inferior y superior del *neighbourhood_group* con mayor y menor precio.\n",
    "\n",
    "\n",
    "4. Crear una nueva columa llamada *Brand*, con 7 categorias de precios. \n",
    "        \n",
    "    Bandas = [0, 50, 75, 100, 150, 200, 250]\n",
    "\n",
    "\n",
    "5. Boxplot de *Brand* vs $\\log(Reviews)$\n",
    "\n",
    "\n",
    "6. Scatter plot de Longitud y Latitud donde se distinga *neighbourhood_group*\n",
    "\n",
    "\n",
    "7. Scatter plot de Longitud y Latitud donde se distingan las brands\n",
    "\n",
    "\n",
    "8. Cantidad de barrios\n",
    "\n",
    "\n",
    "9. Comparacion de la cantidad de hospedajes para los 10 barrios mas populares (barras)\n",
    "\n",
    "\n",
    "10. Cantidad de hospedajes para los 10 barrios mas populares, segregados por brands (pivot_table)\n"
   ]
  },
  {
   "cell_type": "markdown",
   "metadata": {},
   "source": [
    "## Log de precio y dist. estimada"
   ]
  },
  {
   "cell_type": "code",
   "execution_count": null,
   "metadata": {
    "colab": {},
    "colab_type": "code",
    "id": "aJiaARmyaTcd",
    "outputId": "fe8c595e-aae5-421c-c6bb-7cfbc78b34a4",
    "scrolled": true
   },
   "outputs": [],
   "source": [
    "#Columna log precios\n",
    "df['log_price'] = np.log(1+df['price'])\n",
    "\n",
    "#Plot Precio\n",
    "sns.kdeplot(df.price, color=\"b\", shade = True)\n",
    "plt.xlabel(\"Price\")\n",
    "plt.title('Distribucion de Precio',size = 20)\n",
    "plt.show()\n",
    "\n",
    "#Plot Log-Precio\n",
    "sns.distplot(np.log(1+df['price']),color='b')\n",
    "plt.xlabel(\"Price\")\n",
    "plt.show()"
   ]
  },
  {
   "cell_type": "markdown",
   "metadata": {},
   "source": [
    "## Box plot *neighbourhood_group*"
   ]
  },
  {
   "cell_type": "code",
   "execution_count": null,
   "metadata": {
    "colab": {},
    "colab_type": "code",
    "id": "44khpOiTaTci",
    "outputId": "de5d8b6e-6adb-4a7a-9f83-afbccffed6b1",
    "scrolled": true
   },
   "outputs": [],
   "source": [
    "#En base al que mejor se ajuste, comparar los precios segun los distintos \"neighbourhood_group\" (boxplot)\n",
    "g = sns.catplot(x='neighbourhood_group',y='log_price',data=df, kind=\"box\", height = 5 ,aspect=3,palette = \"muted\")\n",
    "g.despine(left=True)\n",
    "g.set_xticklabels(rotation=90)\n",
    "plt.xlabel(\"Barrio\")\n",
    "plt.ylabel(\"Log_Precio\")\n",
    "plt.title('Plot de log_price vs Barrio',size = 12)\n",
    "plt.show()"
   ]
  },
  {
   "cell_type": "markdown",
   "metadata": {},
   "source": [
    "## Mediana, Lim. Inferior y Sup."
   ]
  },
  {
   "cell_type": "code",
   "execution_count": null,
   "metadata": {
    "colab": {},
    "colab_type": "code",
    "id": "ECsepSfMaTcp",
    "outputId": "075c1311-48fc-44ad-da84-1298de374080",
    "scrolled": false
   },
   "outputs": [],
   "source": [
    "# Mediana, Limite inferior y superior del 'neighbourhood_group' con mayor y menor precio.\n",
    "\n",
    "grup1 = 'Manhattan'\n",
    "df_pivot= df[df['neighbourhood_group']==grup1]\n",
    "plt.figure()\n",
    "A = plt.boxplot(df_pivot['log_price'])\n",
    "plt.title(grup1)\n",
    "medians = [median.get_ydata() for median in A[\"medians\"]]\n",
    "#whiskers\n",
    "whiskers = [whiskers.get_ydata() for whiskers in A[\"whiskers\"]]\n",
    "#print(f'Valores outliers:\\r\\n{outliers[0]}\\r\\n')\n",
    "df2delete = pd.DataFrame({'Mediana': medians[0][0],\n",
    "                            'Lim. Inferior': whiskers[0][0],\n",
    "                            'Lim. Superior': whiskers[1][1]},index=[grup1])\n",
    "display(df2delete)\n",
    "grup2 = 'Bronx'\n",
    "df_pivot= df[df['neighbourhood_group']==grup2]\n",
    "plt.figure()\n",
    "A = plt.boxplot(df_pivot['log_price'])\n",
    "plt.title(grup2)\n",
    "medians = [median.get_ydata() for median in A[\"medians\"]]\n",
    "#whiskers\n",
    "whiskers = [whiskers.get_ydata() for whiskers in A[\"whiskers\"]]\n",
    "df2delete = pd.DataFrame({'Mediana': medians[0][0],\n",
    "                            'Lim. Inferior': whiskers[0][0],\n",
    "                            'Lim. Superior': whiskers[1][1]},index=[grup2])\n",
    "display(df2delete)\n",
    "\n",
    "#print(f'Valores outliers:\\r\\n{outliers[0]}\\r\\n')"
   ]
  },
  {
   "cell_type": "markdown",
   "metadata": {},
   "source": [
    "## Brands"
   ]
  },
  {
   "cell_type": "code",
   "execution_count": null,
   "metadata": {
    "colab": {},
    "colab_type": "code",
    "id": "5DCB_pXpaTcs"
   },
   "outputs": [],
   "source": [
    "#Definimos y creamos las bandas:\n",
    "\n",
    "df.loc[(df['price'] > 0) & (df['price'] <= 50), 'Banda'] = 1\n",
    "df.loc[(df['price'] > 50) & (df['price'] <= 75), 'Banda']   = 2\n",
    "df.loc[(df['price'] > 75) & (df['price'] <= 100), 'Banda']   = 3\n",
    "df.loc[(df['price'] > 100) & (df['price'] <= 150), 'Banda']   = 4\n",
    "df.loc[(df['price'] > 150) & (df['price'] <= 200), 'Banda']   = 5\n",
    "df.loc[(df['price'] > 200) & (df['price'] <= 250), 'Banda']   = 6\n",
    "df.loc[(df['price'] > 250), 'Banda']  = 7"
   ]
  },
  {
   "cell_type": "markdown",
   "metadata": {},
   "source": [
    "## Brand* vs $\\log(Reviews)$"
   ]
  },
  {
   "cell_type": "code",
   "execution_count": null,
   "metadata": {
    "colab": {},
    "colab_type": "code",
    "id": "x0ZmhEqcaTcw",
    "outputId": "42eff685-3db6-427c-b3bf-be802abef6dd"
   },
   "outputs": [],
   "source": [
    "#Boxplot de \"Bandas\" vs log(Reviews)\n",
    "df['log_review'] = np.log(1+df['number_of_reviews'])\n",
    "\n",
    "g = sns.catplot(x=\"Banda\",y='log_review',data=df, kind=\"box\", height = 5,aspect=3 ,palette = \"muted\")\n",
    "g.despine(left=True)\n",
    "g.set_xticklabels(rotation=90)\n",
    "g = g.set_ylabels(\"log_Reviews\")\n",
    "plt.title('Boxen plot Bandas VS Reviews',size = 20)\n",
    "plt.show()"
   ]
  },
  {
   "cell_type": "markdown",
   "metadata": {},
   "source": [
    "## Scatter Plot: *neighbourhood_group*"
   ]
  },
  {
   "cell_type": "code",
   "execution_count": null,
   "metadata": {},
   "outputs": [],
   "source": [
    "plt.figure(figsize=(10,8))\n",
    "sns.scatterplot(df.longitude,df.latitude,hue=df.neighbourhood_group,palette='muted')\n",
    "plt.show()"
   ]
  },
  {
   "cell_type": "markdown",
   "metadata": {},
   "source": [
    "## Scatter Plot: Brands"
   ]
  },
  {
   "cell_type": "code",
   "execution_count": null,
   "metadata": {
    "colab": {},
    "colab_type": "code",
    "id": "1ZRaxb67aTcz",
    "outputId": "4459b36f-bd36-436c-8f9f-ce654a03f84c",
    "scrolled": true
   },
   "outputs": [],
   "source": [
    "df.plot(kind='scatter', x='longitude', y='latitude', c='Banda',\n",
    "        cmap=plt.get_cmap(), colorbar=True, alpha=0.5, figsize=(10,8))\n",
    "plt.show()"
   ]
  },
  {
   "cell_type": "markdown",
   "metadata": {},
   "source": [
    "## Qty de barrios"
   ]
  },
  {
   "cell_type": "code",
   "execution_count": null,
   "metadata": {
    "colab": {},
    "colab_type": "code",
    "id": "c-9KpN5QaTc3",
    "outputId": "539c3f51-69a8-47a9-f1fd-d7979f8b6ded",
    "scrolled": true
   },
   "outputs": [],
   "source": [
    "q_barrios = len(df['neighbourhood'].unique())\n",
    "print(f'En total hay {q_barrios} barrios\\r\\n')"
   ]
  },
  {
   "cell_type": "markdown",
   "metadata": {},
   "source": [
    "## Hospedajes para los 10 barrios mas populares"
   ]
  },
  {
   "cell_type": "code",
   "execution_count": null,
   "metadata": {
    "colab": {},
    "colab_type": "code",
    "id": "ToNO2thVaTc5",
    "outputId": "e071f87a-1ad1-4c4e-ccdb-0e191e6e8137",
    "scrolled": true
   },
   "outputs": [],
   "source": [
    "top_neighbourhood = df['neighbourhood'].value_counts().index[0:10]\n",
    "\n",
    "\n",
    "plt.figure(figsize=(15,3))\n",
    "g = sns.countplot(x='neighbourhood',data=df, palette = \"muted\",order=top_neighbourhood)\n",
    "g.set_xticklabels(g.get_xticklabels(), rotation=90, ha=\"right\")\n",
    "plt.title('Cuenta por Barrio',size = 20)\n",
    "plt.xlabel(\"Barrio\")\n",
    "plt.ylabel(\"Count\")\n",
    "plt.show()"
   ]
  },
  {
   "cell_type": "markdown",
   "metadata": {},
   "source": [
    "## Cantidad de hospedajes para los 10 barrios mas populares, segregados por brands "
   ]
  },
  {
   "cell_type": "markdown",
   "metadata": {},
   "source": [
    "### Pivot Table"
   ]
  },
  {
   "cell_type": "code",
   "execution_count": null,
   "metadata": {},
   "outputs": [],
   "source": [
    "df2delete = pd.DataFrame({\"A\": [\"foo\", \"foo\", \"foo\", \"foo\", \"foo\",\n",
    "                         \"bar\", \"bar\", \"bar\", \"bar\"],\n",
    "                   \"B\": [\"one\", \"one\", \"one\", \"two\", \"two\",\n",
    "                         \"one\", \"one\", \"two\", \"two\"],\n",
    "                   \"C\": [\"small\", \"large\", \"large\", \"small\",\n",
    "                         \"small\", \"large\", \"small\", \"small\",\n",
    "                         \"large\"],\n",
    "                   \"D\": [1, 2, 2, 3, 3, 4, 5, 6, 7],\n",
    "                   \"E\": [2, 4, 5, 5, 6, 6, 8, 9, 9]})\n",
    "df2delete\n",
    "\n",
    "\n",
    "table = pd.pivot_table(df2delete, #Datos\n",
    "                       values=['D'], #valores que van a aparecer dentro de la tabla\n",
    "                       index=['A', 'B'], #Los indices que ve a tener\n",
    "                    columns=['C'], # La columna que va a tener\n",
    "                       aggfunc=np.sum) # Que se aplicara a los valores\n",
    "table"
   ]
  },
  {
   "cell_type": "code",
   "execution_count": null,
   "metadata": {
    "scrolled": false
   },
   "outputs": [],
   "source": [
    "table = pd.pivot_table(df2delete,\n",
    "                       # Multiples valores\n",
    "                       values=['D', 'E'],\n",
    "                       index=['A'],\n",
    "                       # Tambien por columna\n",
    "                       columns=['C'],\n",
    "                       # Y con multiples funciones para cada uno de los valores\n",
    "                       aggfunc={'D': np.mean,\n",
    "                                'E': [min, max, np.mean]})\n",
    "table"
   ]
  },
  {
   "cell_type": "code",
   "execution_count": null,
   "metadata": {
    "colab": {},
    "colab_type": "code",
    "id": "bgoseZn-aTc8",
    "outputId": "8afa544a-a1fa-4598-c005-10ba0dfede11",
    "scrolled": false
   },
   "outputs": [],
   "source": [
    "table = pd.pivot_table(\n",
    "    #datframe\n",
    "    df[df['neighbourhood'].isin(top_neighbourhood)],\n",
    "    # Filas\n",
    "    index='neighbourhood',\n",
    "    # Columnas\n",
    "    columns = 'Banda',\n",
    "    # Quiero ver los log_precios\n",
    "    values='log_price' ,\n",
    "    # si hay NaN, pongo un cero \n",
    "    fill_value=0,\n",
    "    # Que funcion aplico?\n",
    "    aggfunc = 'count')\n",
    "table"
   ]
  },
  {
   "cell_type": "markdown",
   "metadata": {
    "colab": {},
    "colab_type": "code",
    "id": "YqWbqiEAaTdB"
   },
   "source": [
    "# Consultas ?"
   ]
  },
  {
   "cell_type": "code",
   "execution_count": null,
   "metadata": {},
   "outputs": [],
   "source": []
  }
 ],
 "metadata": {
  "colab": {
   "collapsed_sections": [],
   "name": "clusterai_2020_clase02_eda_airbnb.ipynb",
   "provenance": [
    {
     "file_id": "1h80uh-WLmCat_GdzGdh_jFXo_QD2blT1",
     "timestamp": 1532902915080
    }
   ]
  },
  "kernelspec": {
   "display_name": "Python 3 (ipykernel)",
   "language": "python",
   "name": "python3"
  },
  "language_info": {
   "codemirror_mode": {
    "name": "ipython",
    "version": 3
   },
   "file_extension": ".py",
   "mimetype": "text/x-python",
   "name": "python",
   "nbconvert_exporter": "python",
   "pygments_lexer": "ipython3",
   "version": "3.9.6"
  },
  "toc": {
   "base_numbering": 1,
   "nav_menu": {},
   "number_sections": true,
   "sideBar": true,
   "skip_h1_title": false,
   "title_cell": "Table of Contents",
   "title_sidebar": "Contents",
   "toc_cell": false,
   "toc_position": {},
   "toc_section_display": true,
   "toc_window_display": true
  }
 },
 "nbformat": 4,
 "nbformat_minor": 1
}
