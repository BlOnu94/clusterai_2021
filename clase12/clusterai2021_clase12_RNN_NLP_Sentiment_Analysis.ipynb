{
  "nbformat": 4,
  "nbformat_minor": 0,
  "metadata": {
    "accelerator": "GPU",
    "colab": {
      "name": "clusterai2021_clase12_RNN_NLP_Sentiment_Analysis.ipynb",
      "provenance": [],
      "collapsed_sections": [],
      "toc_visible": true
    },
    "kernelspec": {
      "display_name": "Python 3",
      "name": "python3"
    },
    "language_info": {
      "name": "python"
    },
    "widgets": {
      "application/vnd.jupyter.widget-state+json": {
        "9fb8c086931d479cba4fc069eab9ba51": {
          "model_module": "@jupyter-widgets/controls",
          "model_name": "HBoxModel",
          "model_module_version": "1.5.0",
          "state": {
            "_view_name": "HBoxView",
            "_dom_classes": [],
            "_model_name": "HBoxModel",
            "_view_module": "@jupyter-widgets/controls",
            "_model_module_version": "1.5.0",
            "_view_count": null,
            "_view_module_version": "1.5.0",
            "box_style": "",
            "layout": "IPY_MODEL_a6fb5630fdc6488cba231e4d9daee2b2",
            "_model_module": "@jupyter-widgets/controls",
            "children": [
              "IPY_MODEL_255460c1978844268c88a36d5a5cd233",
              "IPY_MODEL_a113e4a1d9ad492ebcc4d57007faf250",
              "IPY_MODEL_3689d28a77af469e9e7f683d9aa60cfb"
            ]
          }
        },
        "a6fb5630fdc6488cba231e4d9daee2b2": {
          "model_module": "@jupyter-widgets/base",
          "model_name": "LayoutModel",
          "model_module_version": "1.2.0",
          "state": {
            "_view_name": "LayoutView",
            "grid_template_rows": null,
            "right": null,
            "justify_content": null,
            "_view_module": "@jupyter-widgets/base",
            "overflow": null,
            "_model_module_version": "1.2.0",
            "_view_count": null,
            "flex_flow": null,
            "width": null,
            "min_width": null,
            "border": null,
            "align_items": null,
            "bottom": null,
            "_model_module": "@jupyter-widgets/base",
            "top": null,
            "grid_column": null,
            "overflow_y": null,
            "overflow_x": null,
            "grid_auto_flow": null,
            "grid_area": null,
            "grid_template_columns": null,
            "flex": null,
            "_model_name": "LayoutModel",
            "justify_items": null,
            "grid_row": null,
            "max_height": null,
            "align_content": null,
            "visibility": null,
            "align_self": null,
            "height": null,
            "min_height": null,
            "padding": null,
            "grid_auto_rows": null,
            "grid_gap": null,
            "max_width": null,
            "order": null,
            "_view_module_version": "1.2.0",
            "grid_template_areas": null,
            "object_position": null,
            "object_fit": null,
            "grid_auto_columns": null,
            "margin": null,
            "display": null,
            "left": null
          }
        },
        "255460c1978844268c88a36d5a5cd233": {
          "model_module": "@jupyter-widgets/controls",
          "model_name": "HTMLModel",
          "model_module_version": "1.5.0",
          "state": {
            "_view_name": "HTMLView",
            "style": "IPY_MODEL_4bc86085b0444a2abb28dc72d532465d",
            "_dom_classes": [],
            "description": "",
            "_model_name": "HTMLModel",
            "placeholder": "​",
            "_view_module": "@jupyter-widgets/controls",
            "_model_module_version": "1.5.0",
            "value": "100%",
            "_view_count": null,
            "_view_module_version": "1.5.0",
            "description_tooltip": null,
            "_model_module": "@jupyter-widgets/controls",
            "layout": "IPY_MODEL_401ee745fa4b48e794bb1da51f9feffe"
          }
        },
        "a113e4a1d9ad492ebcc4d57007faf250": {
          "model_module": "@jupyter-widgets/controls",
          "model_name": "FloatProgressModel",
          "model_module_version": "1.5.0",
          "state": {
            "_view_name": "ProgressView",
            "style": "IPY_MODEL_ff4a3c6ccfe9452eba41719f62552b01",
            "_dom_classes": [],
            "description": "",
            "_model_name": "FloatProgressModel",
            "bar_style": "success",
            "max": 3,
            "_view_module": "@jupyter-widgets/controls",
            "_model_module_version": "1.5.0",
            "value": 3,
            "_view_count": null,
            "_view_module_version": "1.5.0",
            "orientation": "horizontal",
            "min": 0,
            "description_tooltip": null,
            "_model_module": "@jupyter-widgets/controls",
            "layout": "IPY_MODEL_0409cfedef824929a09d6393c3f844a5"
          }
        },
        "3689d28a77af469e9e7f683d9aa60cfb": {
          "model_module": "@jupyter-widgets/controls",
          "model_name": "HTMLModel",
          "model_module_version": "1.5.0",
          "state": {
            "_view_name": "HTMLView",
            "style": "IPY_MODEL_0fa9250d7b914947890f8873ab27b576",
            "_dom_classes": [],
            "description": "",
            "_model_name": "HTMLModel",
            "placeholder": "​",
            "_view_module": "@jupyter-widgets/controls",
            "_model_module_version": "1.5.0",
            "value": " 3/3 [00:00&lt;00:00, 55.77it/s]",
            "_view_count": null,
            "_view_module_version": "1.5.0",
            "description_tooltip": null,
            "_model_module": "@jupyter-widgets/controls",
            "layout": "IPY_MODEL_b2bd47f3fcb34430b4df4e320a26b1e1"
          }
        },
        "4bc86085b0444a2abb28dc72d532465d": {
          "model_module": "@jupyter-widgets/controls",
          "model_name": "DescriptionStyleModel",
          "model_module_version": "1.5.0",
          "state": {
            "_view_name": "StyleView",
            "_model_name": "DescriptionStyleModel",
            "description_width": "",
            "_view_module": "@jupyter-widgets/base",
            "_model_module_version": "1.5.0",
            "_view_count": null,
            "_view_module_version": "1.2.0",
            "_model_module": "@jupyter-widgets/controls"
          }
        },
        "401ee745fa4b48e794bb1da51f9feffe": {
          "model_module": "@jupyter-widgets/base",
          "model_name": "LayoutModel",
          "model_module_version": "1.2.0",
          "state": {
            "_view_name": "LayoutView",
            "grid_template_rows": null,
            "right": null,
            "justify_content": null,
            "_view_module": "@jupyter-widgets/base",
            "overflow": null,
            "_model_module_version": "1.2.0",
            "_view_count": null,
            "flex_flow": null,
            "width": null,
            "min_width": null,
            "border": null,
            "align_items": null,
            "bottom": null,
            "_model_module": "@jupyter-widgets/base",
            "top": null,
            "grid_column": null,
            "overflow_y": null,
            "overflow_x": null,
            "grid_auto_flow": null,
            "grid_area": null,
            "grid_template_columns": null,
            "flex": null,
            "_model_name": "LayoutModel",
            "justify_items": null,
            "grid_row": null,
            "max_height": null,
            "align_content": null,
            "visibility": null,
            "align_self": null,
            "height": null,
            "min_height": null,
            "padding": null,
            "grid_auto_rows": null,
            "grid_gap": null,
            "max_width": null,
            "order": null,
            "_view_module_version": "1.2.0",
            "grid_template_areas": null,
            "object_position": null,
            "object_fit": null,
            "grid_auto_columns": null,
            "margin": null,
            "display": null,
            "left": null
          }
        },
        "ff4a3c6ccfe9452eba41719f62552b01": {
          "model_module": "@jupyter-widgets/controls",
          "model_name": "ProgressStyleModel",
          "model_module_version": "1.5.0",
          "state": {
            "_view_name": "StyleView",
            "_model_name": "ProgressStyleModel",
            "description_width": "",
            "_view_module": "@jupyter-widgets/base",
            "_model_module_version": "1.5.0",
            "_view_count": null,
            "_view_module_version": "1.2.0",
            "bar_color": null,
            "_model_module": "@jupyter-widgets/controls"
          }
        },
        "0409cfedef824929a09d6393c3f844a5": {
          "model_module": "@jupyter-widgets/base",
          "model_name": "LayoutModel",
          "model_module_version": "1.2.0",
          "state": {
            "_view_name": "LayoutView",
            "grid_template_rows": null,
            "right": null,
            "justify_content": null,
            "_view_module": "@jupyter-widgets/base",
            "overflow": null,
            "_model_module_version": "1.2.0",
            "_view_count": null,
            "flex_flow": null,
            "width": null,
            "min_width": null,
            "border": null,
            "align_items": null,
            "bottom": null,
            "_model_module": "@jupyter-widgets/base",
            "top": null,
            "grid_column": null,
            "overflow_y": null,
            "overflow_x": null,
            "grid_auto_flow": null,
            "grid_area": null,
            "grid_template_columns": null,
            "flex": null,
            "_model_name": "LayoutModel",
            "justify_items": null,
            "grid_row": null,
            "max_height": null,
            "align_content": null,
            "visibility": null,
            "align_self": null,
            "height": null,
            "min_height": null,
            "padding": null,
            "grid_auto_rows": null,
            "grid_gap": null,
            "max_width": null,
            "order": null,
            "_view_module_version": "1.2.0",
            "grid_template_areas": null,
            "object_position": null,
            "object_fit": null,
            "grid_auto_columns": null,
            "margin": null,
            "display": null,
            "left": null
          }
        },
        "0fa9250d7b914947890f8873ab27b576": {
          "model_module": "@jupyter-widgets/controls",
          "model_name": "DescriptionStyleModel",
          "model_module_version": "1.5.0",
          "state": {
            "_view_name": "StyleView",
            "_model_name": "DescriptionStyleModel",
            "description_width": "",
            "_view_module": "@jupyter-widgets/base",
            "_model_module_version": "1.5.0",
            "_view_count": null,
            "_view_module_version": "1.2.0",
            "_model_module": "@jupyter-widgets/controls"
          }
        },
        "b2bd47f3fcb34430b4df4e320a26b1e1": {
          "model_module": "@jupyter-widgets/base",
          "model_name": "LayoutModel",
          "model_module_version": "1.2.0",
          "state": {
            "_view_name": "LayoutView",
            "grid_template_rows": null,
            "right": null,
            "justify_content": null,
            "_view_module": "@jupyter-widgets/base",
            "overflow": null,
            "_model_module_version": "1.2.0",
            "_view_count": null,
            "flex_flow": null,
            "width": null,
            "min_width": null,
            "border": null,
            "align_items": null,
            "bottom": null,
            "_model_module": "@jupyter-widgets/base",
            "top": null,
            "grid_column": null,
            "overflow_y": null,
            "overflow_x": null,
            "grid_auto_flow": null,
            "grid_area": null,
            "grid_template_columns": null,
            "flex": null,
            "_model_name": "LayoutModel",
            "justify_items": null,
            "grid_row": null,
            "max_height": null,
            "align_content": null,
            "visibility": null,
            "align_self": null,
            "height": null,
            "min_height": null,
            "padding": null,
            "grid_auto_rows": null,
            "grid_gap": null,
            "max_width": null,
            "order": null,
            "_view_module_version": "1.2.0",
            "grid_template_areas": null,
            "object_position": null,
            "object_fit": null,
            "grid_auto_columns": null,
            "margin": null,
            "display": null,
            "left": null
          }
        },
        "bd8680af799040a48df355802ed5f005": {
          "model_module": "@jupyter-widgets/controls",
          "model_name": "HBoxModel",
          "model_module_version": "1.5.0",
          "state": {
            "_view_name": "HBoxView",
            "_dom_classes": [],
            "_model_name": "HBoxModel",
            "_view_module": "@jupyter-widgets/controls",
            "_model_module_version": "1.5.0",
            "_view_count": null,
            "_view_module_version": "1.5.0",
            "box_style": "",
            "layout": "IPY_MODEL_095f69a0cf5442d3839b29984ed1d241",
            "_model_module": "@jupyter-widgets/controls",
            "children": [
              "IPY_MODEL_6304a1fcc9ac47fcafa95e007b4e4807",
              "IPY_MODEL_ba1344a49c744a0ab368c00aa8d4ce5b",
              "IPY_MODEL_c079f3259ee34a79966ed50bb8203c87"
            ]
          }
        },
        "095f69a0cf5442d3839b29984ed1d241": {
          "model_module": "@jupyter-widgets/base",
          "model_name": "LayoutModel",
          "model_module_version": "1.2.0",
          "state": {
            "_view_name": "LayoutView",
            "grid_template_rows": null,
            "right": null,
            "justify_content": null,
            "_view_module": "@jupyter-widgets/base",
            "overflow": null,
            "_model_module_version": "1.2.0",
            "_view_count": null,
            "flex_flow": null,
            "width": null,
            "min_width": null,
            "border": null,
            "align_items": null,
            "bottom": null,
            "_model_module": "@jupyter-widgets/base",
            "top": null,
            "grid_column": null,
            "overflow_y": null,
            "overflow_x": null,
            "grid_auto_flow": null,
            "grid_area": null,
            "grid_template_columns": null,
            "flex": null,
            "_model_name": "LayoutModel",
            "justify_items": null,
            "grid_row": null,
            "max_height": null,
            "align_content": null,
            "visibility": null,
            "align_self": null,
            "height": null,
            "min_height": null,
            "padding": null,
            "grid_auto_rows": null,
            "grid_gap": null,
            "max_width": null,
            "order": null,
            "_view_module_version": "1.2.0",
            "grid_template_areas": null,
            "object_position": null,
            "object_fit": null,
            "grid_auto_columns": null,
            "margin": null,
            "display": null,
            "left": null
          }
        },
        "6304a1fcc9ac47fcafa95e007b4e4807": {
          "model_module": "@jupyter-widgets/controls",
          "model_name": "HTMLModel",
          "model_module_version": "1.5.0",
          "state": {
            "_view_name": "HTMLView",
            "style": "IPY_MODEL_94fa4ff412c04318a3f15335e385779f",
            "_dom_classes": [],
            "description": "",
            "_model_name": "HTMLModel",
            "placeholder": "​",
            "_view_module": "@jupyter-widgets/controls",
            "_model_module_version": "1.5.0",
            "value": "100%",
            "_view_count": null,
            "_view_module_version": "1.5.0",
            "description_tooltip": null,
            "_model_module": "@jupyter-widgets/controls",
            "layout": "IPY_MODEL_5c2e8e0c0adb4eba9945c8981ea6647c"
          }
        },
        "ba1344a49c744a0ab368c00aa8d4ce5b": {
          "model_module": "@jupyter-widgets/controls",
          "model_name": "FloatProgressModel",
          "model_module_version": "1.5.0",
          "state": {
            "_view_name": "ProgressView",
            "style": "IPY_MODEL_40baa24f563c4abb88efdaabcbb1b37b",
            "_dom_classes": [],
            "description": "",
            "_model_name": "FloatProgressModel",
            "bar_style": "success",
            "max": 3,
            "_view_module": "@jupyter-widgets/controls",
            "_model_module_version": "1.5.0",
            "value": 3,
            "_view_count": null,
            "_view_module_version": "1.5.0",
            "orientation": "horizontal",
            "min": 0,
            "description_tooltip": null,
            "_model_module": "@jupyter-widgets/controls",
            "layout": "IPY_MODEL_200b482b94a64dbeb661f312af9387c2"
          }
        },
        "c079f3259ee34a79966ed50bb8203c87": {
          "model_module": "@jupyter-widgets/controls",
          "model_name": "HTMLModel",
          "model_module_version": "1.5.0",
          "state": {
            "_view_name": "HTMLView",
            "style": "IPY_MODEL_e9fa2061df7645989d825973308b9a6c",
            "_dom_classes": [],
            "description": "",
            "_model_name": "HTMLModel",
            "placeholder": "​",
            "_view_module": "@jupyter-widgets/controls",
            "_model_module_version": "1.5.0",
            "value": " 3/3 [00:00&lt;00:00, 32.68it/s]",
            "_view_count": null,
            "_view_module_version": "1.5.0",
            "description_tooltip": null,
            "_model_module": "@jupyter-widgets/controls",
            "layout": "IPY_MODEL_832070d32a994e06aaa89dde57d30657"
          }
        },
        "94fa4ff412c04318a3f15335e385779f": {
          "model_module": "@jupyter-widgets/controls",
          "model_name": "DescriptionStyleModel",
          "model_module_version": "1.5.0",
          "state": {
            "_view_name": "StyleView",
            "_model_name": "DescriptionStyleModel",
            "description_width": "",
            "_view_module": "@jupyter-widgets/base",
            "_model_module_version": "1.5.0",
            "_view_count": null,
            "_view_module_version": "1.2.0",
            "_model_module": "@jupyter-widgets/controls"
          }
        },
        "5c2e8e0c0adb4eba9945c8981ea6647c": {
          "model_module": "@jupyter-widgets/base",
          "model_name": "LayoutModel",
          "model_module_version": "1.2.0",
          "state": {
            "_view_name": "LayoutView",
            "grid_template_rows": null,
            "right": null,
            "justify_content": null,
            "_view_module": "@jupyter-widgets/base",
            "overflow": null,
            "_model_module_version": "1.2.0",
            "_view_count": null,
            "flex_flow": null,
            "width": null,
            "min_width": null,
            "border": null,
            "align_items": null,
            "bottom": null,
            "_model_module": "@jupyter-widgets/base",
            "top": null,
            "grid_column": null,
            "overflow_y": null,
            "overflow_x": null,
            "grid_auto_flow": null,
            "grid_area": null,
            "grid_template_columns": null,
            "flex": null,
            "_model_name": "LayoutModel",
            "justify_items": null,
            "grid_row": null,
            "max_height": null,
            "align_content": null,
            "visibility": null,
            "align_self": null,
            "height": null,
            "min_height": null,
            "padding": null,
            "grid_auto_rows": null,
            "grid_gap": null,
            "max_width": null,
            "order": null,
            "_view_module_version": "1.2.0",
            "grid_template_areas": null,
            "object_position": null,
            "object_fit": null,
            "grid_auto_columns": null,
            "margin": null,
            "display": null,
            "left": null
          }
        },
        "40baa24f563c4abb88efdaabcbb1b37b": {
          "model_module": "@jupyter-widgets/controls",
          "model_name": "ProgressStyleModel",
          "model_module_version": "1.5.0",
          "state": {
            "_view_name": "StyleView",
            "_model_name": "ProgressStyleModel",
            "description_width": "",
            "_view_module": "@jupyter-widgets/base",
            "_model_module_version": "1.5.0",
            "_view_count": null,
            "_view_module_version": "1.2.0",
            "bar_color": null,
            "_model_module": "@jupyter-widgets/controls"
          }
        },
        "200b482b94a64dbeb661f312af9387c2": {
          "model_module": "@jupyter-widgets/base",
          "model_name": "LayoutModel",
          "model_module_version": "1.2.0",
          "state": {
            "_view_name": "LayoutView",
            "grid_template_rows": null,
            "right": null,
            "justify_content": null,
            "_view_module": "@jupyter-widgets/base",
            "overflow": null,
            "_model_module_version": "1.2.0",
            "_view_count": null,
            "flex_flow": null,
            "width": null,
            "min_width": null,
            "border": null,
            "align_items": null,
            "bottom": null,
            "_model_module": "@jupyter-widgets/base",
            "top": null,
            "grid_column": null,
            "overflow_y": null,
            "overflow_x": null,
            "grid_auto_flow": null,
            "grid_area": null,
            "grid_template_columns": null,
            "flex": null,
            "_model_name": "LayoutModel",
            "justify_items": null,
            "grid_row": null,
            "max_height": null,
            "align_content": null,
            "visibility": null,
            "align_self": null,
            "height": null,
            "min_height": null,
            "padding": null,
            "grid_auto_rows": null,
            "grid_gap": null,
            "max_width": null,
            "order": null,
            "_view_module_version": "1.2.0",
            "grid_template_areas": null,
            "object_position": null,
            "object_fit": null,
            "grid_auto_columns": null,
            "margin": null,
            "display": null,
            "left": null
          }
        },
        "e9fa2061df7645989d825973308b9a6c": {
          "model_module": "@jupyter-widgets/controls",
          "model_name": "DescriptionStyleModel",
          "model_module_version": "1.5.0",
          "state": {
            "_view_name": "StyleView",
            "_model_name": "DescriptionStyleModel",
            "description_width": "",
            "_view_module": "@jupyter-widgets/base",
            "_model_module_version": "1.5.0",
            "_view_count": null,
            "_view_module_version": "1.2.0",
            "_model_module": "@jupyter-widgets/controls"
          }
        },
        "832070d32a994e06aaa89dde57d30657": {
          "model_module": "@jupyter-widgets/base",
          "model_name": "LayoutModel",
          "model_module_version": "1.2.0",
          "state": {
            "_view_name": "LayoutView",
            "grid_template_rows": null,
            "right": null,
            "justify_content": null,
            "_view_module": "@jupyter-widgets/base",
            "overflow": null,
            "_model_module_version": "1.2.0",
            "_view_count": null,
            "flex_flow": null,
            "width": null,
            "min_width": null,
            "border": null,
            "align_items": null,
            "bottom": null,
            "_model_module": "@jupyter-widgets/base",
            "top": null,
            "grid_column": null,
            "overflow_y": null,
            "overflow_x": null,
            "grid_auto_flow": null,
            "grid_area": null,
            "grid_template_columns": null,
            "flex": null,
            "_model_name": "LayoutModel",
            "justify_items": null,
            "grid_row": null,
            "max_height": null,
            "align_content": null,
            "visibility": null,
            "align_self": null,
            "height": null,
            "min_height": null,
            "padding": null,
            "grid_auto_rows": null,
            "grid_gap": null,
            "max_width": null,
            "order": null,
            "_view_module_version": "1.2.0",
            "grid_template_areas": null,
            "object_position": null,
            "object_fit": null,
            "grid_auto_columns": null,
            "margin": null,
            "display": null,
            "left": null
          }
        },
        "134a9468add24f4faf37c7852dfc3341": {
          "model_module": "@jupyter-widgets/controls",
          "model_name": "HBoxModel",
          "model_module_version": "1.5.0",
          "state": {
            "_view_name": "HBoxView",
            "_dom_classes": [],
            "_model_name": "HBoxModel",
            "_view_module": "@jupyter-widgets/controls",
            "_model_module_version": "1.5.0",
            "_view_count": null,
            "_view_module_version": "1.5.0",
            "box_style": "",
            "layout": "IPY_MODEL_c2fa1e2342df4aaa92f00776efef7854",
            "_model_module": "@jupyter-widgets/controls",
            "children": [
              "IPY_MODEL_5f30d85bfa914b8bbc4303da4c6d2912",
              "IPY_MODEL_c7ff83d10c4d46e2824c2a4f3c0823be",
              "IPY_MODEL_d81a230a9b904ca89493a0775759d195"
            ]
          }
        },
        "c2fa1e2342df4aaa92f00776efef7854": {
          "model_module": "@jupyter-widgets/base",
          "model_name": "LayoutModel",
          "model_module_version": "1.2.0",
          "state": {
            "_view_name": "LayoutView",
            "grid_template_rows": null,
            "right": null,
            "justify_content": null,
            "_view_module": "@jupyter-widgets/base",
            "overflow": null,
            "_model_module_version": "1.2.0",
            "_view_count": null,
            "flex_flow": null,
            "width": null,
            "min_width": null,
            "border": null,
            "align_items": null,
            "bottom": null,
            "_model_module": "@jupyter-widgets/base",
            "top": null,
            "grid_column": null,
            "overflow_y": null,
            "overflow_x": null,
            "grid_auto_flow": null,
            "grid_area": null,
            "grid_template_columns": null,
            "flex": null,
            "_model_name": "LayoutModel",
            "justify_items": null,
            "grid_row": null,
            "max_height": null,
            "align_content": null,
            "visibility": null,
            "align_self": null,
            "height": null,
            "min_height": null,
            "padding": null,
            "grid_auto_rows": null,
            "grid_gap": null,
            "max_width": null,
            "order": null,
            "_view_module_version": "1.2.0",
            "grid_template_areas": null,
            "object_position": null,
            "object_fit": null,
            "grid_auto_columns": null,
            "margin": null,
            "display": null,
            "left": null
          }
        },
        "5f30d85bfa914b8bbc4303da4c6d2912": {
          "model_module": "@jupyter-widgets/controls",
          "model_name": "HTMLModel",
          "model_module_version": "1.5.0",
          "state": {
            "_view_name": "HTMLView",
            "style": "IPY_MODEL_e31d836bef914aea9ef56a6ba34313e8",
            "_dom_classes": [],
            "description": "",
            "_model_name": "HTMLModel",
            "placeholder": "​",
            "_view_module": "@jupyter-widgets/controls",
            "_model_module_version": "1.5.0",
            "value": "100%",
            "_view_count": null,
            "_view_module_version": "1.5.0",
            "description_tooltip": null,
            "_model_module": "@jupyter-widgets/controls",
            "layout": "IPY_MODEL_2299126cc4314ff5905dc16f3697309f"
          }
        },
        "c7ff83d10c4d46e2824c2a4f3c0823be": {
          "model_module": "@jupyter-widgets/controls",
          "model_name": "FloatProgressModel",
          "model_module_version": "1.5.0",
          "state": {
            "_view_name": "ProgressView",
            "style": "IPY_MODEL_7ba0925833fa4f659a3eaa774c963df9",
            "_dom_classes": [],
            "description": "",
            "_model_name": "FloatProgressModel",
            "bar_style": "success",
            "max": 3,
            "_view_module": "@jupyter-widgets/controls",
            "_model_module_version": "1.5.0",
            "value": 3,
            "_view_count": null,
            "_view_module_version": "1.5.0",
            "orientation": "horizontal",
            "min": 0,
            "description_tooltip": null,
            "_model_module": "@jupyter-widgets/controls",
            "layout": "IPY_MODEL_78b212c471434ce49e1a39f0ea4ee498"
          }
        },
        "d81a230a9b904ca89493a0775759d195": {
          "model_module": "@jupyter-widgets/controls",
          "model_name": "HTMLModel",
          "model_module_version": "1.5.0",
          "state": {
            "_view_name": "HTMLView",
            "style": "IPY_MODEL_b73df03d8fcd49c0b6bb9e889e48b029",
            "_dom_classes": [],
            "description": "",
            "_model_name": "HTMLModel",
            "placeholder": "​",
            "_view_module": "@jupyter-widgets/controls",
            "_model_module_version": "1.5.0",
            "value": " 3/3 [00:00&lt;00:00, 49.12it/s]",
            "_view_count": null,
            "_view_module_version": "1.5.0",
            "description_tooltip": null,
            "_model_module": "@jupyter-widgets/controls",
            "layout": "IPY_MODEL_531d56b2d2824a5495d337fa215635b9"
          }
        },
        "e31d836bef914aea9ef56a6ba34313e8": {
          "model_module": "@jupyter-widgets/controls",
          "model_name": "DescriptionStyleModel",
          "model_module_version": "1.5.0",
          "state": {
            "_view_name": "StyleView",
            "_model_name": "DescriptionStyleModel",
            "description_width": "",
            "_view_module": "@jupyter-widgets/base",
            "_model_module_version": "1.5.0",
            "_view_count": null,
            "_view_module_version": "1.2.0",
            "_model_module": "@jupyter-widgets/controls"
          }
        },
        "2299126cc4314ff5905dc16f3697309f": {
          "model_module": "@jupyter-widgets/base",
          "model_name": "LayoutModel",
          "model_module_version": "1.2.0",
          "state": {
            "_view_name": "LayoutView",
            "grid_template_rows": null,
            "right": null,
            "justify_content": null,
            "_view_module": "@jupyter-widgets/base",
            "overflow": null,
            "_model_module_version": "1.2.0",
            "_view_count": null,
            "flex_flow": null,
            "width": null,
            "min_width": null,
            "border": null,
            "align_items": null,
            "bottom": null,
            "_model_module": "@jupyter-widgets/base",
            "top": null,
            "grid_column": null,
            "overflow_y": null,
            "overflow_x": null,
            "grid_auto_flow": null,
            "grid_area": null,
            "grid_template_columns": null,
            "flex": null,
            "_model_name": "LayoutModel",
            "justify_items": null,
            "grid_row": null,
            "max_height": null,
            "align_content": null,
            "visibility": null,
            "align_self": null,
            "height": null,
            "min_height": null,
            "padding": null,
            "grid_auto_rows": null,
            "grid_gap": null,
            "max_width": null,
            "order": null,
            "_view_module_version": "1.2.0",
            "grid_template_areas": null,
            "object_position": null,
            "object_fit": null,
            "grid_auto_columns": null,
            "margin": null,
            "display": null,
            "left": null
          }
        },
        "7ba0925833fa4f659a3eaa774c963df9": {
          "model_module": "@jupyter-widgets/controls",
          "model_name": "ProgressStyleModel",
          "model_module_version": "1.5.0",
          "state": {
            "_view_name": "StyleView",
            "_model_name": "ProgressStyleModel",
            "description_width": "",
            "_view_module": "@jupyter-widgets/base",
            "_model_module_version": "1.5.0",
            "_view_count": null,
            "_view_module_version": "1.2.0",
            "bar_color": null,
            "_model_module": "@jupyter-widgets/controls"
          }
        },
        "78b212c471434ce49e1a39f0ea4ee498": {
          "model_module": "@jupyter-widgets/base",
          "model_name": "LayoutModel",
          "model_module_version": "1.2.0",
          "state": {
            "_view_name": "LayoutView",
            "grid_template_rows": null,
            "right": null,
            "justify_content": null,
            "_view_module": "@jupyter-widgets/base",
            "overflow": null,
            "_model_module_version": "1.2.0",
            "_view_count": null,
            "flex_flow": null,
            "width": null,
            "min_width": null,
            "border": null,
            "align_items": null,
            "bottom": null,
            "_model_module": "@jupyter-widgets/base",
            "top": null,
            "grid_column": null,
            "overflow_y": null,
            "overflow_x": null,
            "grid_auto_flow": null,
            "grid_area": null,
            "grid_template_columns": null,
            "flex": null,
            "_model_name": "LayoutModel",
            "justify_items": null,
            "grid_row": null,
            "max_height": null,
            "align_content": null,
            "visibility": null,
            "align_self": null,
            "height": null,
            "min_height": null,
            "padding": null,
            "grid_auto_rows": null,
            "grid_gap": null,
            "max_width": null,
            "order": null,
            "_view_module_version": "1.2.0",
            "grid_template_areas": null,
            "object_position": null,
            "object_fit": null,
            "grid_auto_columns": null,
            "margin": null,
            "display": null,
            "left": null
          }
        },
        "b73df03d8fcd49c0b6bb9e889e48b029": {
          "model_module": "@jupyter-widgets/controls",
          "model_name": "DescriptionStyleModel",
          "model_module_version": "1.5.0",
          "state": {
            "_view_name": "StyleView",
            "_model_name": "DescriptionStyleModel",
            "description_width": "",
            "_view_module": "@jupyter-widgets/base",
            "_model_module_version": "1.5.0",
            "_view_count": null,
            "_view_module_version": "1.2.0",
            "_model_module": "@jupyter-widgets/controls"
          }
        },
        "531d56b2d2824a5495d337fa215635b9": {
          "model_module": "@jupyter-widgets/base",
          "model_name": "LayoutModel",
          "model_module_version": "1.2.0",
          "state": {
            "_view_name": "LayoutView",
            "grid_template_rows": null,
            "right": null,
            "justify_content": null,
            "_view_module": "@jupyter-widgets/base",
            "overflow": null,
            "_model_module_version": "1.2.0",
            "_view_count": null,
            "flex_flow": null,
            "width": null,
            "min_width": null,
            "border": null,
            "align_items": null,
            "bottom": null,
            "_model_module": "@jupyter-widgets/base",
            "top": null,
            "grid_column": null,
            "overflow_y": null,
            "overflow_x": null,
            "grid_auto_flow": null,
            "grid_area": null,
            "grid_template_columns": null,
            "flex": null,
            "_model_name": "LayoutModel",
            "justify_items": null,
            "grid_row": null,
            "max_height": null,
            "align_content": null,
            "visibility": null,
            "align_self": null,
            "height": null,
            "min_height": null,
            "padding": null,
            "grid_auto_rows": null,
            "grid_gap": null,
            "max_width": null,
            "order": null,
            "_view_module_version": "1.2.0",
            "grid_template_areas": null,
            "object_position": null,
            "object_fit": null,
            "grid_auto_columns": null,
            "margin": null,
            "display": null,
            "left": null
          }
        },
        "288924cb07eb4963a170b4f0f4ec5a15": {
          "model_module": "@jupyter-widgets/controls",
          "model_name": "HBoxModel",
          "model_module_version": "1.5.0",
          "state": {
            "_view_name": "HBoxView",
            "_dom_classes": [],
            "_model_name": "HBoxModel",
            "_view_module": "@jupyter-widgets/controls",
            "_model_module_version": "1.5.0",
            "_view_count": null,
            "_view_module_version": "1.5.0",
            "box_style": "",
            "layout": "IPY_MODEL_141919944bd14d7a9c951ec621fa00a9",
            "_model_module": "@jupyter-widgets/controls",
            "children": [
              "IPY_MODEL_747057d326014c33b823cead1058f039",
              "IPY_MODEL_5ce112cb781f45238c590d9205400aa6",
              "IPY_MODEL_98a03931cff343ca9f6e4e6f1b4ac185"
            ]
          }
        },
        "141919944bd14d7a9c951ec621fa00a9": {
          "model_module": "@jupyter-widgets/base",
          "model_name": "LayoutModel",
          "model_module_version": "1.2.0",
          "state": {
            "_view_name": "LayoutView",
            "grid_template_rows": null,
            "right": null,
            "justify_content": null,
            "_view_module": "@jupyter-widgets/base",
            "overflow": null,
            "_model_module_version": "1.2.0",
            "_view_count": null,
            "flex_flow": null,
            "width": null,
            "min_width": null,
            "border": null,
            "align_items": null,
            "bottom": null,
            "_model_module": "@jupyter-widgets/base",
            "top": null,
            "grid_column": null,
            "overflow_y": null,
            "overflow_x": null,
            "grid_auto_flow": null,
            "grid_area": null,
            "grid_template_columns": null,
            "flex": null,
            "_model_name": "LayoutModel",
            "justify_items": null,
            "grid_row": null,
            "max_height": null,
            "align_content": null,
            "visibility": null,
            "align_self": null,
            "height": null,
            "min_height": null,
            "padding": null,
            "grid_auto_rows": null,
            "grid_gap": null,
            "max_width": null,
            "order": null,
            "_view_module_version": "1.2.0",
            "grid_template_areas": null,
            "object_position": null,
            "object_fit": null,
            "grid_auto_columns": null,
            "margin": null,
            "display": null,
            "left": null
          }
        },
        "747057d326014c33b823cead1058f039": {
          "model_module": "@jupyter-widgets/controls",
          "model_name": "HTMLModel",
          "model_module_version": "1.5.0",
          "state": {
            "_view_name": "HTMLView",
            "style": "IPY_MODEL_22ff576ec1494fc8ac4d0ee269a82443",
            "_dom_classes": [],
            "description": "",
            "_model_name": "HTMLModel",
            "placeholder": "​",
            "_view_module": "@jupyter-widgets/controls",
            "_model_module_version": "1.5.0",
            "value": "100%",
            "_view_count": null,
            "_view_module_version": "1.5.0",
            "description_tooltip": null,
            "_model_module": "@jupyter-widgets/controls",
            "layout": "IPY_MODEL_cfcfa4aca3754f9e9e3bdddc8830a6a5"
          }
        },
        "5ce112cb781f45238c590d9205400aa6": {
          "model_module": "@jupyter-widgets/controls",
          "model_name": "FloatProgressModel",
          "model_module_version": "1.5.0",
          "state": {
            "_view_name": "ProgressView",
            "style": "IPY_MODEL_49193cb225564eb297cfe160c25faaa0",
            "_dom_classes": [],
            "description": "",
            "_model_name": "FloatProgressModel",
            "bar_style": "success",
            "max": 5,
            "_view_module": "@jupyter-widgets/controls",
            "_model_module_version": "1.5.0",
            "value": 5,
            "_view_count": null,
            "_view_module_version": "1.5.0",
            "orientation": "horizontal",
            "min": 0,
            "description_tooltip": null,
            "_model_module": "@jupyter-widgets/controls",
            "layout": "IPY_MODEL_1f9c3687091d43dfb8586a101e3f1fe1"
          }
        },
        "98a03931cff343ca9f6e4e6f1b4ac185": {
          "model_module": "@jupyter-widgets/controls",
          "model_name": "HTMLModel",
          "model_module_version": "1.5.0",
          "state": {
            "_view_name": "HTMLView",
            "style": "IPY_MODEL_705a6d80afb24b9095cdf9f9ad69162d",
            "_dom_classes": [],
            "description": "",
            "_model_name": "HTMLModel",
            "placeholder": "​",
            "_view_module": "@jupyter-widgets/controls",
            "_model_module_version": "1.5.0",
            "value": " 5/5 [00:21&lt;00:00,  3.40s/ba]",
            "_view_count": null,
            "_view_module_version": "1.5.0",
            "description_tooltip": null,
            "_model_module": "@jupyter-widgets/controls",
            "layout": "IPY_MODEL_161c2ca9e6fe4bc3b70264bb9deb0b4a"
          }
        },
        "22ff576ec1494fc8ac4d0ee269a82443": {
          "model_module": "@jupyter-widgets/controls",
          "model_name": "DescriptionStyleModel",
          "model_module_version": "1.5.0",
          "state": {
            "_view_name": "StyleView",
            "_model_name": "DescriptionStyleModel",
            "description_width": "",
            "_view_module": "@jupyter-widgets/base",
            "_model_module_version": "1.5.0",
            "_view_count": null,
            "_view_module_version": "1.2.0",
            "_model_module": "@jupyter-widgets/controls"
          }
        },
        "cfcfa4aca3754f9e9e3bdddc8830a6a5": {
          "model_module": "@jupyter-widgets/base",
          "model_name": "LayoutModel",
          "model_module_version": "1.2.0",
          "state": {
            "_view_name": "LayoutView",
            "grid_template_rows": null,
            "right": null,
            "justify_content": null,
            "_view_module": "@jupyter-widgets/base",
            "overflow": null,
            "_model_module_version": "1.2.0",
            "_view_count": null,
            "flex_flow": null,
            "width": null,
            "min_width": null,
            "border": null,
            "align_items": null,
            "bottom": null,
            "_model_module": "@jupyter-widgets/base",
            "top": null,
            "grid_column": null,
            "overflow_y": null,
            "overflow_x": null,
            "grid_auto_flow": null,
            "grid_area": null,
            "grid_template_columns": null,
            "flex": null,
            "_model_name": "LayoutModel",
            "justify_items": null,
            "grid_row": null,
            "max_height": null,
            "align_content": null,
            "visibility": null,
            "align_self": null,
            "height": null,
            "min_height": null,
            "padding": null,
            "grid_auto_rows": null,
            "grid_gap": null,
            "max_width": null,
            "order": null,
            "_view_module_version": "1.2.0",
            "grid_template_areas": null,
            "object_position": null,
            "object_fit": null,
            "grid_auto_columns": null,
            "margin": null,
            "display": null,
            "left": null
          }
        },
        "49193cb225564eb297cfe160c25faaa0": {
          "model_module": "@jupyter-widgets/controls",
          "model_name": "ProgressStyleModel",
          "model_module_version": "1.5.0",
          "state": {
            "_view_name": "StyleView",
            "_model_name": "ProgressStyleModel",
            "description_width": "",
            "_view_module": "@jupyter-widgets/base",
            "_model_module_version": "1.5.0",
            "_view_count": null,
            "_view_module_version": "1.2.0",
            "bar_color": null,
            "_model_module": "@jupyter-widgets/controls"
          }
        },
        "1f9c3687091d43dfb8586a101e3f1fe1": {
          "model_module": "@jupyter-widgets/base",
          "model_name": "LayoutModel",
          "model_module_version": "1.2.0",
          "state": {
            "_view_name": "LayoutView",
            "grid_template_rows": null,
            "right": null,
            "justify_content": null,
            "_view_module": "@jupyter-widgets/base",
            "overflow": null,
            "_model_module_version": "1.2.0",
            "_view_count": null,
            "flex_flow": null,
            "width": null,
            "min_width": null,
            "border": null,
            "align_items": null,
            "bottom": null,
            "_model_module": "@jupyter-widgets/base",
            "top": null,
            "grid_column": null,
            "overflow_y": null,
            "overflow_x": null,
            "grid_auto_flow": null,
            "grid_area": null,
            "grid_template_columns": null,
            "flex": null,
            "_model_name": "LayoutModel",
            "justify_items": null,
            "grid_row": null,
            "max_height": null,
            "align_content": null,
            "visibility": null,
            "align_self": null,
            "height": null,
            "min_height": null,
            "padding": null,
            "grid_auto_rows": null,
            "grid_gap": null,
            "max_width": null,
            "order": null,
            "_view_module_version": "1.2.0",
            "grid_template_areas": null,
            "object_position": null,
            "object_fit": null,
            "grid_auto_columns": null,
            "margin": null,
            "display": null,
            "left": null
          }
        },
        "705a6d80afb24b9095cdf9f9ad69162d": {
          "model_module": "@jupyter-widgets/controls",
          "model_name": "DescriptionStyleModel",
          "model_module_version": "1.5.0",
          "state": {
            "_view_name": "StyleView",
            "_model_name": "DescriptionStyleModel",
            "description_width": "",
            "_view_module": "@jupyter-widgets/base",
            "_model_module_version": "1.5.0",
            "_view_count": null,
            "_view_module_version": "1.2.0",
            "_model_module": "@jupyter-widgets/controls"
          }
        },
        "161c2ca9e6fe4bc3b70264bb9deb0b4a": {
          "model_module": "@jupyter-widgets/base",
          "model_name": "LayoutModel",
          "model_module_version": "1.2.0",
          "state": {
            "_view_name": "LayoutView",
            "grid_template_rows": null,
            "right": null,
            "justify_content": null,
            "_view_module": "@jupyter-widgets/base",
            "overflow": null,
            "_model_module_version": "1.2.0",
            "_view_count": null,
            "flex_flow": null,
            "width": null,
            "min_width": null,
            "border": null,
            "align_items": null,
            "bottom": null,
            "_model_module": "@jupyter-widgets/base",
            "top": null,
            "grid_column": null,
            "overflow_y": null,
            "overflow_x": null,
            "grid_auto_flow": null,
            "grid_area": null,
            "grid_template_columns": null,
            "flex": null,
            "_model_name": "LayoutModel",
            "justify_items": null,
            "grid_row": null,
            "max_height": null,
            "align_content": null,
            "visibility": null,
            "align_self": null,
            "height": null,
            "min_height": null,
            "padding": null,
            "grid_auto_rows": null,
            "grid_gap": null,
            "max_width": null,
            "order": null,
            "_view_module_version": "1.2.0",
            "grid_template_areas": null,
            "object_position": null,
            "object_fit": null,
            "grid_auto_columns": null,
            "margin": null,
            "display": null,
            "left": null
          }
        },
        "e6e3564f5f1c477790b27fd10db9d371": {
          "model_module": "@jupyter-widgets/controls",
          "model_name": "HBoxModel",
          "model_module_version": "1.5.0",
          "state": {
            "_view_name": "HBoxView",
            "_dom_classes": [],
            "_model_name": "HBoxModel",
            "_view_module": "@jupyter-widgets/controls",
            "_model_module_version": "1.5.0",
            "_view_count": null,
            "_view_module_version": "1.5.0",
            "box_style": "",
            "layout": "IPY_MODEL_73760b0a0b7f498f92e54e00255d30dd",
            "_model_module": "@jupyter-widgets/controls",
            "children": [
              "IPY_MODEL_baacd75fb6ef4615a34500ec8843b2e4",
              "IPY_MODEL_36e9113ecc0a4000a8322bdaca83675b",
              "IPY_MODEL_10f37192de83459bb05e44bcfa40d0ff"
            ]
          }
        },
        "73760b0a0b7f498f92e54e00255d30dd": {
          "model_module": "@jupyter-widgets/base",
          "model_name": "LayoutModel",
          "model_module_version": "1.2.0",
          "state": {
            "_view_name": "LayoutView",
            "grid_template_rows": null,
            "right": null,
            "justify_content": null,
            "_view_module": "@jupyter-widgets/base",
            "overflow": null,
            "_model_module_version": "1.2.0",
            "_view_count": null,
            "flex_flow": null,
            "width": null,
            "min_width": null,
            "border": null,
            "align_items": null,
            "bottom": null,
            "_model_module": "@jupyter-widgets/base",
            "top": null,
            "grid_column": null,
            "overflow_y": null,
            "overflow_x": null,
            "grid_auto_flow": null,
            "grid_area": null,
            "grid_template_columns": null,
            "flex": null,
            "_model_name": "LayoutModel",
            "justify_items": null,
            "grid_row": null,
            "max_height": null,
            "align_content": null,
            "visibility": null,
            "align_self": null,
            "height": null,
            "min_height": null,
            "padding": null,
            "grid_auto_rows": null,
            "grid_gap": null,
            "max_width": null,
            "order": null,
            "_view_module_version": "1.2.0",
            "grid_template_areas": null,
            "object_position": null,
            "object_fit": null,
            "grid_auto_columns": null,
            "margin": null,
            "display": null,
            "left": null
          }
        },
        "baacd75fb6ef4615a34500ec8843b2e4": {
          "model_module": "@jupyter-widgets/controls",
          "model_name": "HTMLModel",
          "model_module_version": "1.5.0",
          "state": {
            "_view_name": "HTMLView",
            "style": "IPY_MODEL_952c809b45114394a61a262e866ac2c6",
            "_dom_classes": [],
            "description": "",
            "_model_name": "HTMLModel",
            "placeholder": "​",
            "_view_module": "@jupyter-widgets/controls",
            "_model_module_version": "1.5.0",
            "value": "100%",
            "_view_count": null,
            "_view_module_version": "1.5.0",
            "description_tooltip": null,
            "_model_module": "@jupyter-widgets/controls",
            "layout": "IPY_MODEL_b1b41d273a58419da653b9e0dae8c391"
          }
        },
        "36e9113ecc0a4000a8322bdaca83675b": {
          "model_module": "@jupyter-widgets/controls",
          "model_name": "FloatProgressModel",
          "model_module_version": "1.5.0",
          "state": {
            "_view_name": "ProgressView",
            "style": "IPY_MODEL_2a47de5b77ea4705846481a9a2fe7f06",
            "_dom_classes": [],
            "description": "",
            "_model_name": "FloatProgressModel",
            "bar_style": "success",
            "max": 1,
            "_view_module": "@jupyter-widgets/controls",
            "_model_module_version": "1.5.0",
            "value": 1,
            "_view_count": null,
            "_view_module_version": "1.5.0",
            "orientation": "horizontal",
            "min": 0,
            "description_tooltip": null,
            "_model_module": "@jupyter-widgets/controls",
            "layout": "IPY_MODEL_3a1ab29e6b0f4b9896401368ec9b8eb6"
          }
        },
        "10f37192de83459bb05e44bcfa40d0ff": {
          "model_module": "@jupyter-widgets/controls",
          "model_name": "HTMLModel",
          "model_module_version": "1.5.0",
          "state": {
            "_view_name": "HTMLView",
            "style": "IPY_MODEL_5646e319ae4148cb9cb224fd9597c195",
            "_dom_classes": [],
            "description": "",
            "_model_name": "HTMLModel",
            "placeholder": "​",
            "_view_module": "@jupyter-widgets/controls",
            "_model_module_version": "1.5.0",
            "value": " 1/1 [00:03&lt;00:00,  3.81s/ba]",
            "_view_count": null,
            "_view_module_version": "1.5.0",
            "description_tooltip": null,
            "_model_module": "@jupyter-widgets/controls",
            "layout": "IPY_MODEL_e97544e798354c6fb8266270ca4aa04b"
          }
        },
        "952c809b45114394a61a262e866ac2c6": {
          "model_module": "@jupyter-widgets/controls",
          "model_name": "DescriptionStyleModel",
          "model_module_version": "1.5.0",
          "state": {
            "_view_name": "StyleView",
            "_model_name": "DescriptionStyleModel",
            "description_width": "",
            "_view_module": "@jupyter-widgets/base",
            "_model_module_version": "1.5.0",
            "_view_count": null,
            "_view_module_version": "1.2.0",
            "_model_module": "@jupyter-widgets/controls"
          }
        },
        "b1b41d273a58419da653b9e0dae8c391": {
          "model_module": "@jupyter-widgets/base",
          "model_name": "LayoutModel",
          "model_module_version": "1.2.0",
          "state": {
            "_view_name": "LayoutView",
            "grid_template_rows": null,
            "right": null,
            "justify_content": null,
            "_view_module": "@jupyter-widgets/base",
            "overflow": null,
            "_model_module_version": "1.2.0",
            "_view_count": null,
            "flex_flow": null,
            "width": null,
            "min_width": null,
            "border": null,
            "align_items": null,
            "bottom": null,
            "_model_module": "@jupyter-widgets/base",
            "top": null,
            "grid_column": null,
            "overflow_y": null,
            "overflow_x": null,
            "grid_auto_flow": null,
            "grid_area": null,
            "grid_template_columns": null,
            "flex": null,
            "_model_name": "LayoutModel",
            "justify_items": null,
            "grid_row": null,
            "max_height": null,
            "align_content": null,
            "visibility": null,
            "align_self": null,
            "height": null,
            "min_height": null,
            "padding": null,
            "grid_auto_rows": null,
            "grid_gap": null,
            "max_width": null,
            "order": null,
            "_view_module_version": "1.2.0",
            "grid_template_areas": null,
            "object_position": null,
            "object_fit": null,
            "grid_auto_columns": null,
            "margin": null,
            "display": null,
            "left": null
          }
        },
        "2a47de5b77ea4705846481a9a2fe7f06": {
          "model_module": "@jupyter-widgets/controls",
          "model_name": "ProgressStyleModel",
          "model_module_version": "1.5.0",
          "state": {
            "_view_name": "StyleView",
            "_model_name": "ProgressStyleModel",
            "description_width": "",
            "_view_module": "@jupyter-widgets/base",
            "_model_module_version": "1.5.0",
            "_view_count": null,
            "_view_module_version": "1.2.0",
            "bar_color": null,
            "_model_module": "@jupyter-widgets/controls"
          }
        },
        "3a1ab29e6b0f4b9896401368ec9b8eb6": {
          "model_module": "@jupyter-widgets/base",
          "model_name": "LayoutModel",
          "model_module_version": "1.2.0",
          "state": {
            "_view_name": "LayoutView",
            "grid_template_rows": null,
            "right": null,
            "justify_content": null,
            "_view_module": "@jupyter-widgets/base",
            "overflow": null,
            "_model_module_version": "1.2.0",
            "_view_count": null,
            "flex_flow": null,
            "width": null,
            "min_width": null,
            "border": null,
            "align_items": null,
            "bottom": null,
            "_model_module": "@jupyter-widgets/base",
            "top": null,
            "grid_column": null,
            "overflow_y": null,
            "overflow_x": null,
            "grid_auto_flow": null,
            "grid_area": null,
            "grid_template_columns": null,
            "flex": null,
            "_model_name": "LayoutModel",
            "justify_items": null,
            "grid_row": null,
            "max_height": null,
            "align_content": null,
            "visibility": null,
            "align_self": null,
            "height": null,
            "min_height": null,
            "padding": null,
            "grid_auto_rows": null,
            "grid_gap": null,
            "max_width": null,
            "order": null,
            "_view_module_version": "1.2.0",
            "grid_template_areas": null,
            "object_position": null,
            "object_fit": null,
            "grid_auto_columns": null,
            "margin": null,
            "display": null,
            "left": null
          }
        },
        "5646e319ae4148cb9cb224fd9597c195": {
          "model_module": "@jupyter-widgets/controls",
          "model_name": "DescriptionStyleModel",
          "model_module_version": "1.5.0",
          "state": {
            "_view_name": "StyleView",
            "_model_name": "DescriptionStyleModel",
            "description_width": "",
            "_view_module": "@jupyter-widgets/base",
            "_model_module_version": "1.5.0",
            "_view_count": null,
            "_view_module_version": "1.2.0",
            "_model_module": "@jupyter-widgets/controls"
          }
        },
        "e97544e798354c6fb8266270ca4aa04b": {
          "model_module": "@jupyter-widgets/base",
          "model_name": "LayoutModel",
          "model_module_version": "1.2.0",
          "state": {
            "_view_name": "LayoutView",
            "grid_template_rows": null,
            "right": null,
            "justify_content": null,
            "_view_module": "@jupyter-widgets/base",
            "overflow": null,
            "_model_module_version": "1.2.0",
            "_view_count": null,
            "flex_flow": null,
            "width": null,
            "min_width": null,
            "border": null,
            "align_items": null,
            "bottom": null,
            "_model_module": "@jupyter-widgets/base",
            "top": null,
            "grid_column": null,
            "overflow_y": null,
            "overflow_x": null,
            "grid_auto_flow": null,
            "grid_area": null,
            "grid_template_columns": null,
            "flex": null,
            "_model_name": "LayoutModel",
            "justify_items": null,
            "grid_row": null,
            "max_height": null,
            "align_content": null,
            "visibility": null,
            "align_self": null,
            "height": null,
            "min_height": null,
            "padding": null,
            "grid_auto_rows": null,
            "grid_gap": null,
            "max_width": null,
            "order": null,
            "_view_module_version": "1.2.0",
            "grid_template_areas": null,
            "object_position": null,
            "object_fit": null,
            "grid_auto_columns": null,
            "margin": null,
            "display": null,
            "left": null
          }
        },
        "f3ed47d9062446099c093c247ede30b3": {
          "model_module": "@jupyter-widgets/controls",
          "model_name": "HBoxModel",
          "model_module_version": "1.5.0",
          "state": {
            "_view_name": "HBoxView",
            "_dom_classes": [],
            "_model_name": "HBoxModel",
            "_view_module": "@jupyter-widgets/controls",
            "_model_module_version": "1.5.0",
            "_view_count": null,
            "_view_module_version": "1.5.0",
            "box_style": "",
            "layout": "IPY_MODEL_7d8cc031ea3342aba3e26342de957913",
            "_model_module": "@jupyter-widgets/controls",
            "children": [
              "IPY_MODEL_358c8671324b4a9cb0d1a6975f4d4ddb",
              "IPY_MODEL_1142b2a0c90a49688e77e46ab9b6643e",
              "IPY_MODEL_cb11f4046e874bc39fdca12fe08f3e9a"
            ]
          }
        },
        "7d8cc031ea3342aba3e26342de957913": {
          "model_module": "@jupyter-widgets/base",
          "model_name": "LayoutModel",
          "model_module_version": "1.2.0",
          "state": {
            "_view_name": "LayoutView",
            "grid_template_rows": null,
            "right": null,
            "justify_content": null,
            "_view_module": "@jupyter-widgets/base",
            "overflow": null,
            "_model_module_version": "1.2.0",
            "_view_count": null,
            "flex_flow": null,
            "width": null,
            "min_width": null,
            "border": null,
            "align_items": null,
            "bottom": null,
            "_model_module": "@jupyter-widgets/base",
            "top": null,
            "grid_column": null,
            "overflow_y": null,
            "overflow_x": null,
            "grid_auto_flow": null,
            "grid_area": null,
            "grid_template_columns": null,
            "flex": null,
            "_model_name": "LayoutModel",
            "justify_items": null,
            "grid_row": null,
            "max_height": null,
            "align_content": null,
            "visibility": null,
            "align_self": null,
            "height": null,
            "min_height": null,
            "padding": null,
            "grid_auto_rows": null,
            "grid_gap": null,
            "max_width": null,
            "order": null,
            "_view_module_version": "1.2.0",
            "grid_template_areas": null,
            "object_position": null,
            "object_fit": null,
            "grid_auto_columns": null,
            "margin": null,
            "display": null,
            "left": null
          }
        },
        "358c8671324b4a9cb0d1a6975f4d4ddb": {
          "model_module": "@jupyter-widgets/controls",
          "model_name": "HTMLModel",
          "model_module_version": "1.5.0",
          "state": {
            "_view_name": "HTMLView",
            "style": "IPY_MODEL_1199a6ebc11a41d1890d53fea7648b92",
            "_dom_classes": [],
            "description": "",
            "_model_name": "HTMLModel",
            "placeholder": "​",
            "_view_module": "@jupyter-widgets/controls",
            "_model_module_version": "1.5.0",
            "value": "100%",
            "_view_count": null,
            "_view_module_version": "1.5.0",
            "description_tooltip": null,
            "_model_module": "@jupyter-widgets/controls",
            "layout": "IPY_MODEL_a099a4e2796d4a1f9e9e00ec2affb50d"
          }
        },
        "1142b2a0c90a49688e77e46ab9b6643e": {
          "model_module": "@jupyter-widgets/controls",
          "model_name": "FloatProgressModel",
          "model_module_version": "1.5.0",
          "state": {
            "_view_name": "ProgressView",
            "style": "IPY_MODEL_291bed093324421bace4c0ff20c93cdf",
            "_dom_classes": [],
            "description": "",
            "_model_name": "FloatProgressModel",
            "bar_style": "success",
            "max": 1,
            "_view_module": "@jupyter-widgets/controls",
            "_model_module_version": "1.5.0",
            "value": 1,
            "_view_count": null,
            "_view_module_version": "1.5.0",
            "orientation": "horizontal",
            "min": 0,
            "description_tooltip": null,
            "_model_module": "@jupyter-widgets/controls",
            "layout": "IPY_MODEL_4382e8f8b9b848a18af91d507a5cb3f6"
          }
        },
        "cb11f4046e874bc39fdca12fe08f3e9a": {
          "model_module": "@jupyter-widgets/controls",
          "model_name": "HTMLModel",
          "model_module_version": "1.5.0",
          "state": {
            "_view_name": "HTMLView",
            "style": "IPY_MODEL_27bfd387b69741e4bd3b0550c3a10ca8",
            "_dom_classes": [],
            "description": "",
            "_model_name": "HTMLModel",
            "placeholder": "​",
            "_view_module": "@jupyter-widgets/controls",
            "_model_module_version": "1.5.0",
            "value": " 1/1 [00:04&lt;00:00,  4.50s/ba]",
            "_view_count": null,
            "_view_module_version": "1.5.0",
            "description_tooltip": null,
            "_model_module": "@jupyter-widgets/controls",
            "layout": "IPY_MODEL_84f22dc3235848c89eefb9582ac4e2ab"
          }
        },
        "1199a6ebc11a41d1890d53fea7648b92": {
          "model_module": "@jupyter-widgets/controls",
          "model_name": "DescriptionStyleModel",
          "model_module_version": "1.5.0",
          "state": {
            "_view_name": "StyleView",
            "_model_name": "DescriptionStyleModel",
            "description_width": "",
            "_view_module": "@jupyter-widgets/base",
            "_model_module_version": "1.5.0",
            "_view_count": null,
            "_view_module_version": "1.2.0",
            "_model_module": "@jupyter-widgets/controls"
          }
        },
        "a099a4e2796d4a1f9e9e00ec2affb50d": {
          "model_module": "@jupyter-widgets/base",
          "model_name": "LayoutModel",
          "model_module_version": "1.2.0",
          "state": {
            "_view_name": "LayoutView",
            "grid_template_rows": null,
            "right": null,
            "justify_content": null,
            "_view_module": "@jupyter-widgets/base",
            "overflow": null,
            "_model_module_version": "1.2.0",
            "_view_count": null,
            "flex_flow": null,
            "width": null,
            "min_width": null,
            "border": null,
            "align_items": null,
            "bottom": null,
            "_model_module": "@jupyter-widgets/base",
            "top": null,
            "grid_column": null,
            "overflow_y": null,
            "overflow_x": null,
            "grid_auto_flow": null,
            "grid_area": null,
            "grid_template_columns": null,
            "flex": null,
            "_model_name": "LayoutModel",
            "justify_items": null,
            "grid_row": null,
            "max_height": null,
            "align_content": null,
            "visibility": null,
            "align_self": null,
            "height": null,
            "min_height": null,
            "padding": null,
            "grid_auto_rows": null,
            "grid_gap": null,
            "max_width": null,
            "order": null,
            "_view_module_version": "1.2.0",
            "grid_template_areas": null,
            "object_position": null,
            "object_fit": null,
            "grid_auto_columns": null,
            "margin": null,
            "display": null,
            "left": null
          }
        },
        "291bed093324421bace4c0ff20c93cdf": {
          "model_module": "@jupyter-widgets/controls",
          "model_name": "ProgressStyleModel",
          "model_module_version": "1.5.0",
          "state": {
            "_view_name": "StyleView",
            "_model_name": "ProgressStyleModel",
            "description_width": "",
            "_view_module": "@jupyter-widgets/base",
            "_model_module_version": "1.5.0",
            "_view_count": null,
            "_view_module_version": "1.2.0",
            "bar_color": null,
            "_model_module": "@jupyter-widgets/controls"
          }
        },
        "4382e8f8b9b848a18af91d507a5cb3f6": {
          "model_module": "@jupyter-widgets/base",
          "model_name": "LayoutModel",
          "model_module_version": "1.2.0",
          "state": {
            "_view_name": "LayoutView",
            "grid_template_rows": null,
            "right": null,
            "justify_content": null,
            "_view_module": "@jupyter-widgets/base",
            "overflow": null,
            "_model_module_version": "1.2.0",
            "_view_count": null,
            "flex_flow": null,
            "width": null,
            "min_width": null,
            "border": null,
            "align_items": null,
            "bottom": null,
            "_model_module": "@jupyter-widgets/base",
            "top": null,
            "grid_column": null,
            "overflow_y": null,
            "overflow_x": null,
            "grid_auto_flow": null,
            "grid_area": null,
            "grid_template_columns": null,
            "flex": null,
            "_model_name": "LayoutModel",
            "justify_items": null,
            "grid_row": null,
            "max_height": null,
            "align_content": null,
            "visibility": null,
            "align_self": null,
            "height": null,
            "min_height": null,
            "padding": null,
            "grid_auto_rows": null,
            "grid_gap": null,
            "max_width": null,
            "order": null,
            "_view_module_version": "1.2.0",
            "grid_template_areas": null,
            "object_position": null,
            "object_fit": null,
            "grid_auto_columns": null,
            "margin": null,
            "display": null,
            "left": null
          }
        },
        "27bfd387b69741e4bd3b0550c3a10ca8": {
          "model_module": "@jupyter-widgets/controls",
          "model_name": "DescriptionStyleModel",
          "model_module_version": "1.5.0",
          "state": {
            "_view_name": "StyleView",
            "_model_name": "DescriptionStyleModel",
            "description_width": "",
            "_view_module": "@jupyter-widgets/base",
            "_model_module_version": "1.5.0",
            "_view_count": null,
            "_view_module_version": "1.2.0",
            "_model_module": "@jupyter-widgets/controls"
          }
        },
        "84f22dc3235848c89eefb9582ac4e2ab": {
          "model_module": "@jupyter-widgets/base",
          "model_name": "LayoutModel",
          "model_module_version": "1.2.0",
          "state": {
            "_view_name": "LayoutView",
            "grid_template_rows": null,
            "right": null,
            "justify_content": null,
            "_view_module": "@jupyter-widgets/base",
            "overflow": null,
            "_model_module_version": "1.2.0",
            "_view_count": null,
            "flex_flow": null,
            "width": null,
            "min_width": null,
            "border": null,
            "align_items": null,
            "bottom": null,
            "_model_module": "@jupyter-widgets/base",
            "top": null,
            "grid_column": null,
            "overflow_y": null,
            "overflow_x": null,
            "grid_auto_flow": null,
            "grid_area": null,
            "grid_template_columns": null,
            "flex": null,
            "_model_name": "LayoutModel",
            "justify_items": null,
            "grid_row": null,
            "max_height": null,
            "align_content": null,
            "visibility": null,
            "align_self": null,
            "height": null,
            "min_height": null,
            "padding": null,
            "grid_auto_rows": null,
            "grid_gap": null,
            "max_width": null,
            "order": null,
            "_view_module_version": "1.2.0",
            "grid_template_areas": null,
            "object_position": null,
            "object_fit": null,
            "grid_auto_columns": null,
            "margin": null,
            "display": null,
            "left": null
          }
        },
        "6aaaf26a603d4fa1b5ab83af1f6552a8": {
          "model_module": "@jupyter-widgets/controls",
          "model_name": "HBoxModel",
          "model_module_version": "1.5.0",
          "state": {
            "_view_name": "HBoxView",
            "_dom_classes": [],
            "_model_name": "HBoxModel",
            "_view_module": "@jupyter-widgets/controls",
            "_model_module_version": "1.5.0",
            "_view_count": null,
            "_view_module_version": "1.5.0",
            "box_style": "",
            "layout": "IPY_MODEL_7a380f86cd384374a1786f6a5487fef8",
            "_model_module": "@jupyter-widgets/controls",
            "children": [
              "IPY_MODEL_892ee11ae6dc4d1cbae973789f842ed5",
              "IPY_MODEL_ae629bf4be3c4f719201ac21bd3aaf4f",
              "IPY_MODEL_43fa142299b14e799fac5f5ea5001a0a"
            ]
          }
        },
        "7a380f86cd384374a1786f6a5487fef8": {
          "model_module": "@jupyter-widgets/base",
          "model_name": "LayoutModel",
          "model_module_version": "1.2.0",
          "state": {
            "_view_name": "LayoutView",
            "grid_template_rows": null,
            "right": null,
            "justify_content": null,
            "_view_module": "@jupyter-widgets/base",
            "overflow": null,
            "_model_module_version": "1.2.0",
            "_view_count": null,
            "flex_flow": null,
            "width": null,
            "min_width": null,
            "border": null,
            "align_items": null,
            "bottom": null,
            "_model_module": "@jupyter-widgets/base",
            "top": null,
            "grid_column": null,
            "overflow_y": null,
            "overflow_x": null,
            "grid_auto_flow": null,
            "grid_area": null,
            "grid_template_columns": null,
            "flex": null,
            "_model_name": "LayoutModel",
            "justify_items": null,
            "grid_row": null,
            "max_height": null,
            "align_content": null,
            "visibility": null,
            "align_self": null,
            "height": null,
            "min_height": null,
            "padding": null,
            "grid_auto_rows": null,
            "grid_gap": null,
            "max_width": null,
            "order": null,
            "_view_module_version": "1.2.0",
            "grid_template_areas": null,
            "object_position": null,
            "object_fit": null,
            "grid_auto_columns": null,
            "margin": null,
            "display": null,
            "left": null
          }
        },
        "892ee11ae6dc4d1cbae973789f842ed5": {
          "model_module": "@jupyter-widgets/controls",
          "model_name": "HTMLModel",
          "model_module_version": "1.5.0",
          "state": {
            "_view_name": "HTMLView",
            "style": "IPY_MODEL_fb47db8424304c0fbff3458ccedf24aa",
            "_dom_classes": [],
            "description": "",
            "_model_name": "HTMLModel",
            "placeholder": "​",
            "_view_module": "@jupyter-widgets/controls",
            "_model_module_version": "1.5.0",
            "value": "100%",
            "_view_count": null,
            "_view_module_version": "1.5.0",
            "description_tooltip": null,
            "_model_module": "@jupyter-widgets/controls",
            "layout": "IPY_MODEL_8578e3402dc048949fc706f4d5f22351"
          }
        },
        "ae629bf4be3c4f719201ac21bd3aaf4f": {
          "model_module": "@jupyter-widgets/controls",
          "model_name": "FloatProgressModel",
          "model_module_version": "1.5.0",
          "state": {
            "_view_name": "ProgressView",
            "style": "IPY_MODEL_5dc82ddfc7db43e28a1ef13d3c1dc8cb",
            "_dom_classes": [],
            "description": "",
            "_model_name": "FloatProgressModel",
            "bar_style": "success",
            "max": 33,
            "_view_module": "@jupyter-widgets/controls",
            "_model_module_version": "1.5.0",
            "value": 33,
            "_view_count": null,
            "_view_module_version": "1.5.0",
            "orientation": "horizontal",
            "min": 0,
            "description_tooltip": null,
            "_model_module": "@jupyter-widgets/controls",
            "layout": "IPY_MODEL_bcaade5da4e446ac8c0c3645b10ca96d"
          }
        },
        "43fa142299b14e799fac5f5ea5001a0a": {
          "model_module": "@jupyter-widgets/controls",
          "model_name": "HTMLModel",
          "model_module_version": "1.5.0",
          "state": {
            "_view_name": "HTMLView",
            "style": "IPY_MODEL_68752516c63c482c855b3948e67cac4d",
            "_dom_classes": [],
            "description": "",
            "_model_name": "HTMLModel",
            "placeholder": "​",
            "_view_module": "@jupyter-widgets/controls",
            "_model_module_version": "1.5.0",
            "value": " 33/33 [00:04&lt;00:00,  8.69it/s]",
            "_view_count": null,
            "_view_module_version": "1.5.0",
            "description_tooltip": null,
            "_model_module": "@jupyter-widgets/controls",
            "layout": "IPY_MODEL_77a46ffb96ce46e08990d5d4d4d742ec"
          }
        },
        "fb47db8424304c0fbff3458ccedf24aa": {
          "model_module": "@jupyter-widgets/controls",
          "model_name": "DescriptionStyleModel",
          "model_module_version": "1.5.0",
          "state": {
            "_view_name": "StyleView",
            "_model_name": "DescriptionStyleModel",
            "description_width": "",
            "_view_module": "@jupyter-widgets/base",
            "_model_module_version": "1.5.0",
            "_view_count": null,
            "_view_module_version": "1.2.0",
            "_model_module": "@jupyter-widgets/controls"
          }
        },
        "8578e3402dc048949fc706f4d5f22351": {
          "model_module": "@jupyter-widgets/base",
          "model_name": "LayoutModel",
          "model_module_version": "1.2.0",
          "state": {
            "_view_name": "LayoutView",
            "grid_template_rows": null,
            "right": null,
            "justify_content": null,
            "_view_module": "@jupyter-widgets/base",
            "overflow": null,
            "_model_module_version": "1.2.0",
            "_view_count": null,
            "flex_flow": null,
            "width": null,
            "min_width": null,
            "border": null,
            "align_items": null,
            "bottom": null,
            "_model_module": "@jupyter-widgets/base",
            "top": null,
            "grid_column": null,
            "overflow_y": null,
            "overflow_x": null,
            "grid_auto_flow": null,
            "grid_area": null,
            "grid_template_columns": null,
            "flex": null,
            "_model_name": "LayoutModel",
            "justify_items": null,
            "grid_row": null,
            "max_height": null,
            "align_content": null,
            "visibility": null,
            "align_self": null,
            "height": null,
            "min_height": null,
            "padding": null,
            "grid_auto_rows": null,
            "grid_gap": null,
            "max_width": null,
            "order": null,
            "_view_module_version": "1.2.0",
            "grid_template_areas": null,
            "object_position": null,
            "object_fit": null,
            "grid_auto_columns": null,
            "margin": null,
            "display": null,
            "left": null
          }
        },
        "5dc82ddfc7db43e28a1ef13d3c1dc8cb": {
          "model_module": "@jupyter-widgets/controls",
          "model_name": "ProgressStyleModel",
          "model_module_version": "1.5.0",
          "state": {
            "_view_name": "StyleView",
            "_model_name": "ProgressStyleModel",
            "description_width": "",
            "_view_module": "@jupyter-widgets/base",
            "_model_module_version": "1.5.0",
            "_view_count": null,
            "_view_module_version": "1.2.0",
            "bar_color": null,
            "_model_module": "@jupyter-widgets/controls"
          }
        },
        "bcaade5da4e446ac8c0c3645b10ca96d": {
          "model_module": "@jupyter-widgets/base",
          "model_name": "LayoutModel",
          "model_module_version": "1.2.0",
          "state": {
            "_view_name": "LayoutView",
            "grid_template_rows": null,
            "right": null,
            "justify_content": null,
            "_view_module": "@jupyter-widgets/base",
            "overflow": null,
            "_model_module_version": "1.2.0",
            "_view_count": null,
            "flex_flow": null,
            "width": null,
            "min_width": null,
            "border": null,
            "align_items": null,
            "bottom": null,
            "_model_module": "@jupyter-widgets/base",
            "top": null,
            "grid_column": null,
            "overflow_y": null,
            "overflow_x": null,
            "grid_auto_flow": null,
            "grid_area": null,
            "grid_template_columns": null,
            "flex": null,
            "_model_name": "LayoutModel",
            "justify_items": null,
            "grid_row": null,
            "max_height": null,
            "align_content": null,
            "visibility": null,
            "align_self": null,
            "height": null,
            "min_height": null,
            "padding": null,
            "grid_auto_rows": null,
            "grid_gap": null,
            "max_width": null,
            "order": null,
            "_view_module_version": "1.2.0",
            "grid_template_areas": null,
            "object_position": null,
            "object_fit": null,
            "grid_auto_columns": null,
            "margin": null,
            "display": null,
            "left": null
          }
        },
        "68752516c63c482c855b3948e67cac4d": {
          "model_module": "@jupyter-widgets/controls",
          "model_name": "DescriptionStyleModel",
          "model_module_version": "1.5.0",
          "state": {
            "_view_name": "StyleView",
            "_model_name": "DescriptionStyleModel",
            "description_width": "",
            "_view_module": "@jupyter-widgets/base",
            "_model_module_version": "1.5.0",
            "_view_count": null,
            "_view_module_version": "1.2.0",
            "_model_module": "@jupyter-widgets/controls"
          }
        },
        "77a46ffb96ce46e08990d5d4d4d742ec": {
          "model_module": "@jupyter-widgets/base",
          "model_name": "LayoutModel",
          "model_module_version": "1.2.0",
          "state": {
            "_view_name": "LayoutView",
            "grid_template_rows": null,
            "right": null,
            "justify_content": null,
            "_view_module": "@jupyter-widgets/base",
            "overflow": null,
            "_model_module_version": "1.2.0",
            "_view_count": null,
            "flex_flow": null,
            "width": null,
            "min_width": null,
            "border": null,
            "align_items": null,
            "bottom": null,
            "_model_module": "@jupyter-widgets/base",
            "top": null,
            "grid_column": null,
            "overflow_y": null,
            "overflow_x": null,
            "grid_auto_flow": null,
            "grid_area": null,
            "grid_template_columns": null,
            "flex": null,
            "_model_name": "LayoutModel",
            "justify_items": null,
            "grid_row": null,
            "max_height": null,
            "align_content": null,
            "visibility": null,
            "align_self": null,
            "height": null,
            "min_height": null,
            "padding": null,
            "grid_auto_rows": null,
            "grid_gap": null,
            "max_width": null,
            "order": null,
            "_view_module_version": "1.2.0",
            "grid_template_areas": null,
            "object_position": null,
            "object_fit": null,
            "grid_auto_columns": null,
            "margin": null,
            "display": null,
            "left": null
          }
        }
      }
    }
  },
  "cells": [
    {
      "cell_type": "markdown",
      "metadata": {
        "id": "stl-KuqP0rLJ"
      },
      "source": [
        "# Install en la notebook"
      ]
    },
    {
      "cell_type": "code",
      "metadata": {
        "id": "EqjH_TEKqlCY"
      },
      "source": [
        "# Instalamos librerias\n",
        "!pip install transformers\n",
        "!pip install datasets\n",
        "!pip install tokenizers\n",
        "!pip install gputil\n",
        "!pip install psutil\n",
        "!pip install humanize"
      ],
      "execution_count": null,
      "outputs": []
    },
    {
      "cell_type": "markdown",
      "metadata": {
        "id": "IkH3Wl131O21"
      },
      "source": [
        "# Imports"
      ]
    },
    {
      "cell_type": "code",
      "metadata": {
        "colab": {
          "base_uri": "https://localhost:8080/"
        },
        "id": "Y4p-chnUy2SP",
        "outputId": "46d05bcf-834f-4108-8217-1c607cc4134c"
      },
      "source": [
        "# Pytorch\n",
        "import torch\n",
        "import torch.nn as nn\n",
        "from torch.utils.data import TensorDataset, Dataset, DataLoader\n",
        "import torch.nn.functional as F\n",
        "device = torch.device(\"cuda\" if torch.cuda.is_available() else \"cpu\")\n",
        "print(torch.__version__)\n",
        "print(device)\n",
        "# Datasets\n",
        "import datasets\n",
        "from datasets import load_dataset\n",
        "#Tokenizer\n",
        "from tokenizers import decoders, models, normalizers, pre_tokenizers, processors, trainers, Tokenizer\n",
        "# Varias\n",
        "import os,sys,humanize,psutil,GPUtil,gc\n",
        "import pandas as pd\n",
        "import matplotlib.pyplot as plt\n",
        "import numpy as np\n",
        "import seaborn as sns\n",
        "from sklearn.model_selection import train_test_split\n",
        "from sklearn import preprocessing\n",
        "# Metricas\n",
        "from sklearn.metrics import f1_score, classification_report,confusion_matrix,accuracy_score\n",
        "from scipy.special import softmax\n",
        "# Barra de Progreso\n",
        "from tqdm.autonotebook import tqdm , trange"
      ],
      "execution_count": 2,
      "outputs": [
        {
          "output_type": "stream",
          "name": "stdout",
          "text": [
            "1.10.0+cu111\n",
            "cuda\n"
          ]
        }
      ]
    },
    {
      "cell_type": "code",
      "metadata": {
        "id": "aZR16dgHHyfp"
      },
      "source": [
        "def mem_report():\n",
        "  print(\"CPU RAM Free: \" + humanize.naturalsize( psutil.virtual_memory().available ))\n",
        "  \n",
        "  GPUs = GPUtil.getGPUs()\n",
        "  for i, gpu in enumerate(GPUs):\n",
        "    print('GPU {:d} ... Mem Free: {:.0f}MB / {:.0f}MB | Utilization {:3.0f}%'.format(i, gpu.memoryFree, gpu.memoryTotal, gpu.memoryUtil*100))"
      ],
      "execution_count": 3,
      "outputs": []
    },
    {
      "cell_type": "code",
      "metadata": {
        "id": "vHADV0Ea2Fl0"
      },
      "source": [
        "# Para ver el reporte de la GPU que nos toco y la cantidad de RAM\n",
        "torch.cuda.empty_cache()\n",
        "gc.collect()\n",
        "mem_report()\n",
        "!nvidia-smi"
      ],
      "execution_count": null,
      "outputs": []
    },
    {
      "cell_type": "code",
      "metadata": {
        "colab": {
          "base_uri": "https://localhost:8080/"
        },
        "id": "6So4hgcdldk7",
        "outputId": "ea29b0fd-f096-418c-e75a-e152562e0021"
      },
      "source": [
        "# Montamos el Google Drive\n",
        "from google.colab import drive\n",
        "drive.mount('/content/gdrive',force_remount=True)"
      ],
      "execution_count": 5,
      "outputs": [
        {
          "output_type": "stream",
          "name": "stdout",
          "text": [
            "Mounted at /content/gdrive\n"
          ]
        }
      ]
    },
    {
      "cell_type": "markdown",
      "metadata": {
        "id": "G0JuwkKeH9dW"
      },
      "source": [
        "# ClusterAI 2021\n",
        "\n",
        "# Ciencia de Datos - Ingeniería Industrial - UTN BA\n",
        "\n",
        "# clase_12: Practica Redes Neuronales Recurrentes - NLP - Sentiment Analisys\n",
        "\n",
        "### Elaborado por: Aguirre Nicolas\n",
        "\n",
        "Imagenes: https://guide.allennlp.org/"
      ]
    },
    {
      "cell_type": "markdown",
      "metadata": {
        "id": "oq-sk09JHScL"
      },
      "source": [
        "\n",
        "El objetivo es clasificar el sentimiento (Positivo, Negativo o Neutral) de un dataset de criticas sobre el funcionamiento de aplicaciones.\n",
        "\n",
        "Para lograr ésto, nuestro modelo tiene que ser capaz de \"interpretar\" el contenido de un texto, el cual puede ser descompuesto en:\n",
        "  * Letras / Caracteres\n",
        "  * Palabras \n",
        "  * Frases, \n",
        "  * etc.\n",
        "\n",
        "Esto representa un primer desafio: como y cuales seran los inputs ($X_t$) que ingrese al modelo?. Este punto es el que discutiremos con la tecnica llamada *Tokenization*. \n",
        "\n",
        "El problema se vuelve mas complejo cuando la *temporalidad* o el *orden* de las de los inputs (el $t$ de $X_t$) define el significado de una frase (un texto con todas sus palabras mezcladas carece de sentido verdad? o una negacion antes o despues de una frase puede cambiar completamente el significado de la misma). Esta dependencia temporal se abordará (en este ejemplo en particular) con el uso de Redes Neuronales Recurrentes (**RNN**, de sus siglas en ingles.) \n",
        "\n",
        "## 1) Objetivo\n",
        "\n",
        "![](https://guide.allennlp.org/part1/your-first-model/designing-a-model-1.svg)\n",
        "## 2) Tokenization\n",
        "![](https://guide.allennlp.org/part1/your-first-model/designing-a-model-2.svg)\n",
        "## 3) Arquitectura\n",
        "![](https://guide.allennlp.org/part1/your-first-model/designing-a-model-4.svg)\n",
        "## 4) Entrenamiento\n",
        "![](https://guide.allennlp.org/part1/your-first-model/designing-a-model-5.svg)"
      ]
    },
    {
      "cell_type": "markdown",
      "metadata": {
        "id": "x1HEmDaT0yBx"
      },
      "source": [
        "# Dataset\n",
        "\n",
        "Google Play Store:\n",
        "https://www.kaggle.com/lava18/google-play-store-apps\n",
        "\n",
        "Archivo: **googleplaystore_user_reviews.csv**\n",
        "\n"
      ]
    },
    {
      "cell_type": "code",
      "metadata": {
        "colab": {
          "base_uri": "https://localhost:8080/",
          "height": 424
        },
        "id": "znGMiMLxIc51",
        "outputId": "67a46c2a-b0ea-4004-da24-a389162a9ff3"
      },
      "source": [
        "root_path = \"/content/gdrive/MyDrive/Colab Notebooks/ClusterAI/Sentiment Analisys/\"\n",
        "google_df = pd.read_csv(root_path+\"googleplaystore_user_reviews.csv\")\n",
        "google_df.dropna(how ='any', inplace = True)\n",
        "google_df"
      ],
      "execution_count": 6,
      "outputs": [
        {
          "output_type": "execute_result",
          "data": {
            "text/html": [
              "<div>\n",
              "<style scoped>\n",
              "    .dataframe tbody tr th:only-of-type {\n",
              "        vertical-align: middle;\n",
              "    }\n",
              "\n",
              "    .dataframe tbody tr th {\n",
              "        vertical-align: top;\n",
              "    }\n",
              "\n",
              "    .dataframe thead th {\n",
              "        text-align: right;\n",
              "    }\n",
              "</style>\n",
              "<table border=\"1\" class=\"dataframe\">\n",
              "  <thead>\n",
              "    <tr style=\"text-align: right;\">\n",
              "      <th></th>\n",
              "      <th>App</th>\n",
              "      <th>Translated_Review</th>\n",
              "      <th>Sentiment</th>\n",
              "      <th>Sentiment_Polarity</th>\n",
              "      <th>Sentiment_Subjectivity</th>\n",
              "    </tr>\n",
              "  </thead>\n",
              "  <tbody>\n",
              "    <tr>\n",
              "      <th>0</th>\n",
              "      <td>10 Best Foods for You</td>\n",
              "      <td>I like eat delicious food. That's I'm cooking ...</td>\n",
              "      <td>Positive</td>\n",
              "      <td>1.000000</td>\n",
              "      <td>0.533333</td>\n",
              "    </tr>\n",
              "    <tr>\n",
              "      <th>1</th>\n",
              "      <td>10 Best Foods for You</td>\n",
              "      <td>This help eating healthy exercise regular basis</td>\n",
              "      <td>Positive</td>\n",
              "      <td>0.250000</td>\n",
              "      <td>0.288462</td>\n",
              "    </tr>\n",
              "    <tr>\n",
              "      <th>3</th>\n",
              "      <td>10 Best Foods for You</td>\n",
              "      <td>Works great especially going grocery store</td>\n",
              "      <td>Positive</td>\n",
              "      <td>0.400000</td>\n",
              "      <td>0.875000</td>\n",
              "    </tr>\n",
              "    <tr>\n",
              "      <th>4</th>\n",
              "      <td>10 Best Foods for You</td>\n",
              "      <td>Best idea us</td>\n",
              "      <td>Positive</td>\n",
              "      <td>1.000000</td>\n",
              "      <td>0.300000</td>\n",
              "    </tr>\n",
              "    <tr>\n",
              "      <th>5</th>\n",
              "      <td>10 Best Foods for You</td>\n",
              "      <td>Best way</td>\n",
              "      <td>Positive</td>\n",
              "      <td>1.000000</td>\n",
              "      <td>0.300000</td>\n",
              "    </tr>\n",
              "    <tr>\n",
              "      <th>...</th>\n",
              "      <td>...</td>\n",
              "      <td>...</td>\n",
              "      <td>...</td>\n",
              "      <td>...</td>\n",
              "      <td>...</td>\n",
              "    </tr>\n",
              "    <tr>\n",
              "      <th>64222</th>\n",
              "      <td>Housing-Real Estate &amp; Property</td>\n",
              "      <td>Most ads older many agents ..not much owner po...</td>\n",
              "      <td>Positive</td>\n",
              "      <td>0.173333</td>\n",
              "      <td>0.486667</td>\n",
              "    </tr>\n",
              "    <tr>\n",
              "      <th>64223</th>\n",
              "      <td>Housing-Real Estate &amp; Property</td>\n",
              "      <td>If photos posted portal load, fit purpose. I'm...</td>\n",
              "      <td>Positive</td>\n",
              "      <td>0.225000</td>\n",
              "      <td>0.447222</td>\n",
              "    </tr>\n",
              "    <tr>\n",
              "      <th>64226</th>\n",
              "      <td>Housing-Real Estate &amp; Property</td>\n",
              "      <td>Dumb app, I wanted post property rent give opt...</td>\n",
              "      <td>Negative</td>\n",
              "      <td>-0.287500</td>\n",
              "      <td>0.250000</td>\n",
              "    </tr>\n",
              "    <tr>\n",
              "      <th>64227</th>\n",
              "      <td>Housing-Real Estate &amp; Property</td>\n",
              "      <td>I property business got link SMS happy perform...</td>\n",
              "      <td>Positive</td>\n",
              "      <td>0.800000</td>\n",
              "      <td>1.000000</td>\n",
              "    </tr>\n",
              "    <tr>\n",
              "      <th>64230</th>\n",
              "      <td>Housing-Real Estate &amp; Property</td>\n",
              "      <td>Useless app, I searched flats kondapur, Hydera...</td>\n",
              "      <td>Negative</td>\n",
              "      <td>-0.316667</td>\n",
              "      <td>0.400000</td>\n",
              "    </tr>\n",
              "  </tbody>\n",
              "</table>\n",
              "<p>37427 rows × 5 columns</p>\n",
              "</div>"
            ],
            "text/plain": [
              "                                  App  ... Sentiment_Subjectivity\n",
              "0               10 Best Foods for You  ...               0.533333\n",
              "1               10 Best Foods for You  ...               0.288462\n",
              "3               10 Best Foods for You  ...               0.875000\n",
              "4               10 Best Foods for You  ...               0.300000\n",
              "5               10 Best Foods for You  ...               0.300000\n",
              "...                               ...  ...                    ...\n",
              "64222  Housing-Real Estate & Property  ...               0.486667\n",
              "64223  Housing-Real Estate & Property  ...               0.447222\n",
              "64226  Housing-Real Estate & Property  ...               0.250000\n",
              "64227  Housing-Real Estate & Property  ...               1.000000\n",
              "64230  Housing-Real Estate & Property  ...               0.400000\n",
              "\n",
              "[37427 rows x 5 columns]"
            ]
          },
          "metadata": {},
          "execution_count": 6
        }
      ]
    },
    {
      "cell_type": "code",
      "metadata": {
        "id": "hX7EyabNIc3b"
      },
      "source": [
        "# Vamos a eliminar columnas innecesarias y renombrar las que nos sirven.\n",
        "google_df = google_df.drop(columns=['Sentiment_Polarity','App','Sentiment_Subjectivity']).rename(columns={\"Translated_Review\": \"text\", \"Sentiment\": \"label\"})\n",
        "google_df['text'] = google_df['text'].astype(str)"
      ],
      "execution_count": 7,
      "outputs": []
    },
    {
      "cell_type": "code",
      "metadata": {
        "colab": {
          "base_uri": "https://localhost:8080/",
          "height": 424
        },
        "id": "gO2BWKZ5Ic1F",
        "outputId": "6ddc9eda-fc1a-4a0c-98a2-afcfa6af3706"
      },
      "source": [
        "google_df = google_df.drop_duplicates()\n",
        "google_df"
      ],
      "execution_count": 8,
      "outputs": [
        {
          "output_type": "execute_result",
          "data": {
            "text/html": [
              "<div>\n",
              "<style scoped>\n",
              "    .dataframe tbody tr th:only-of-type {\n",
              "        vertical-align: middle;\n",
              "    }\n",
              "\n",
              "    .dataframe tbody tr th {\n",
              "        vertical-align: top;\n",
              "    }\n",
              "\n",
              "    .dataframe thead th {\n",
              "        text-align: right;\n",
              "    }\n",
              "</style>\n",
              "<table border=\"1\" class=\"dataframe\">\n",
              "  <thead>\n",
              "    <tr style=\"text-align: right;\">\n",
              "      <th></th>\n",
              "      <th>text</th>\n",
              "      <th>label</th>\n",
              "    </tr>\n",
              "  </thead>\n",
              "  <tbody>\n",
              "    <tr>\n",
              "      <th>0</th>\n",
              "      <td>I like eat delicious food. That's I'm cooking ...</td>\n",
              "      <td>Positive</td>\n",
              "    </tr>\n",
              "    <tr>\n",
              "      <th>1</th>\n",
              "      <td>This help eating healthy exercise regular basis</td>\n",
              "      <td>Positive</td>\n",
              "    </tr>\n",
              "    <tr>\n",
              "      <th>3</th>\n",
              "      <td>Works great especially going grocery store</td>\n",
              "      <td>Positive</td>\n",
              "    </tr>\n",
              "    <tr>\n",
              "      <th>4</th>\n",
              "      <td>Best idea us</td>\n",
              "      <td>Positive</td>\n",
              "    </tr>\n",
              "    <tr>\n",
              "      <th>5</th>\n",
              "      <td>Best way</td>\n",
              "      <td>Positive</td>\n",
              "    </tr>\n",
              "    <tr>\n",
              "      <th>...</th>\n",
              "      <td>...</td>\n",
              "      <td>...</td>\n",
              "    </tr>\n",
              "    <tr>\n",
              "      <th>64222</th>\n",
              "      <td>Most ads older many agents ..not much owner po...</td>\n",
              "      <td>Positive</td>\n",
              "    </tr>\n",
              "    <tr>\n",
              "      <th>64223</th>\n",
              "      <td>If photos posted portal load, fit purpose. I'm...</td>\n",
              "      <td>Positive</td>\n",
              "    </tr>\n",
              "    <tr>\n",
              "      <th>64226</th>\n",
              "      <td>Dumb app, I wanted post property rent give opt...</td>\n",
              "      <td>Negative</td>\n",
              "    </tr>\n",
              "    <tr>\n",
              "      <th>64227</th>\n",
              "      <td>I property business got link SMS happy perform...</td>\n",
              "      <td>Positive</td>\n",
              "    </tr>\n",
              "    <tr>\n",
              "      <th>64230</th>\n",
              "      <td>Useless app, I searched flats kondapur, Hydera...</td>\n",
              "      <td>Negative</td>\n",
              "    </tr>\n",
              "  </tbody>\n",
              "</table>\n",
              "<p>27994 rows × 2 columns</p>\n",
              "</div>"
            ],
            "text/plain": [
              "                                                    text     label\n",
              "0      I like eat delicious food. That's I'm cooking ...  Positive\n",
              "1        This help eating healthy exercise regular basis  Positive\n",
              "3             Works great especially going grocery store  Positive\n",
              "4                                           Best idea us  Positive\n",
              "5                                               Best way  Positive\n",
              "...                                                  ...       ...\n",
              "64222  Most ads older many agents ..not much owner po...  Positive\n",
              "64223  If photos posted portal load, fit purpose. I'm...  Positive\n",
              "64226  Dumb app, I wanted post property rent give opt...  Negative\n",
              "64227  I property business got link SMS happy perform...  Positive\n",
              "64230  Useless app, I searched flats kondapur, Hydera...  Negative\n",
              "\n",
              "[27994 rows x 2 columns]"
            ]
          },
          "metadata": {},
          "execution_count": 8
        }
      ]
    },
    {
      "cell_type": "markdown",
      "metadata": {
        "id": "6LVtKPkFI6_N"
      },
      "source": [
        "# Label Encoder"
      ]
    },
    {
      "cell_type": "code",
      "metadata": {
        "id": "M4UC3wwWIcwz"
      },
      "source": [
        "# Pasemos a codigo el label de cada sample\n",
        "le = preprocessing.LabelEncoder()\n",
        "google_df['label'] = le.fit_transform(google_df['label'])"
      ],
      "execution_count": 9,
      "outputs": []
    },
    {
      "cell_type": "code",
      "metadata": {
        "colab": {
          "base_uri": "https://localhost:8080/"
        },
        "id": "EKZTfDZfIctt",
        "outputId": "3d71ffc7-ece7-4549-d5c0-7a17f05dc174"
      },
      "source": [
        "name_classes = []\n",
        "for i_c in range(len(le.classes_)):\n",
        "    cls_name = le.inverse_transform([i_c]) \n",
        "    print(i_c,cls_name[0])\n",
        "    name_classes.append(cls_name[0])\n",
        "name_classes"
      ],
      "execution_count": 10,
      "outputs": [
        {
          "output_type": "stream",
          "name": "stdout",
          "text": [
            "0 Negative\n",
            "1 Neutral\n",
            "2 Positive\n"
          ]
        },
        {
          "output_type": "execute_result",
          "data": {
            "text/plain": [
              "['Negative', 'Neutral', 'Positive']"
            ]
          },
          "metadata": {},
          "execution_count": 10
        }
      ]
    },
    {
      "cell_type": "markdown",
      "metadata": {
        "id": "7KVJ_2r6PVi8"
      },
      "source": [
        "# Split"
      ]
    },
    {
      "cell_type": "code",
      "metadata": {
        "id": "H2NBevAaIcq9"
      },
      "source": [
        "google_df_train,google_df_test = train_test_split(google_df,random_state=0,test_size=0.15)\n",
        "google_df_train,google_df_val = train_test_split(google_df_train,random_state=0,test_size=0.15)\n",
        "\n",
        "google_df_train.reset_index(drop=True,inplace=True)\n",
        "google_df_val.reset_index(drop=True,inplace=True)\n",
        "google_df_test.reset_index(drop=True,inplace=True)"
      ],
      "execution_count": 11,
      "outputs": []
    },
    {
      "cell_type": "markdown",
      "metadata": {
        "id": "g5fl29MRJJ-F"
      },
      "source": [
        "To CSV"
      ]
    },
    {
      "cell_type": "code",
      "metadata": {
        "id": "6S4mypE7JMUK"
      },
      "source": [
        "google_df_train.to_csv(root_path+\"train.csv\",index=False)\n",
        "google_df_val.to_csv(root_path+\"val.csv\",index=False)\n",
        "google_df_test.to_csv(root_path+\"test.csv\",index=False)"
      ],
      "execution_count": 12,
      "outputs": []
    },
    {
      "cell_type": "markdown",
      "metadata": {
        "id": "Mbkg2DuMJVtE"
      },
      "source": [
        "# 2) Tokenizacion"
      ]
    },
    {
      "cell_type": "markdown",
      "metadata": {
        "id": "PKoXrA0TJZvj"
      },
      "source": [
        "## Loading Dataset"
      ]
    },
    {
      "cell_type": "code",
      "metadata": {
        "id": "awmqe8UHJMNj"
      },
      "source": [
        "# Definiremos las features de nuestro objeto \"dataset\" (de la libreria llamada \"dataset\" de HuggingFace, libreria especializada en NLP)\n",
        "features_ds = datasets.Features(\n",
        "        {\"text\": datasets.Value(\"string\"),\n",
        "         \"label\": datasets.features.ClassLabel(names=name_classes)}\n",
        ")"
      ],
      "execution_count": 13,
      "outputs": []
    },
    {
      "cell_type": "code",
      "metadata": {
        "colab": {
          "base_uri": "https://localhost:8080/",
          "height": 188,
          "referenced_widgets": [
            "9fb8c086931d479cba4fc069eab9ba51",
            "a6fb5630fdc6488cba231e4d9daee2b2",
            "255460c1978844268c88a36d5a5cd233",
            "a113e4a1d9ad492ebcc4d57007faf250",
            "3689d28a77af469e9e7f683d9aa60cfb",
            "4bc86085b0444a2abb28dc72d532465d",
            "401ee745fa4b48e794bb1da51f9feffe",
            "ff4a3c6ccfe9452eba41719f62552b01",
            "0409cfedef824929a09d6393c3f844a5",
            "0fa9250d7b914947890f8873ab27b576",
            "b2bd47f3fcb34430b4df4e320a26b1e1",
            "bd8680af799040a48df355802ed5f005",
            "095f69a0cf5442d3839b29984ed1d241",
            "6304a1fcc9ac47fcafa95e007b4e4807",
            "ba1344a49c744a0ab368c00aa8d4ce5b",
            "c079f3259ee34a79966ed50bb8203c87",
            "94fa4ff412c04318a3f15335e385779f",
            "5c2e8e0c0adb4eba9945c8981ea6647c",
            "40baa24f563c4abb88efdaabcbb1b37b",
            "200b482b94a64dbeb661f312af9387c2",
            "e9fa2061df7645989d825973308b9a6c",
            "832070d32a994e06aaa89dde57d30657",
            "134a9468add24f4faf37c7852dfc3341",
            "c2fa1e2342df4aaa92f00776efef7854",
            "5f30d85bfa914b8bbc4303da4c6d2912",
            "c7ff83d10c4d46e2824c2a4f3c0823be",
            "d81a230a9b904ca89493a0775759d195",
            "e31d836bef914aea9ef56a6ba34313e8",
            "2299126cc4314ff5905dc16f3697309f",
            "7ba0925833fa4f659a3eaa774c963df9",
            "78b212c471434ce49e1a39f0ea4ee498",
            "b73df03d8fcd49c0b6bb9e889e48b029",
            "531d56b2d2824a5495d337fa215635b9"
          ]
        },
        "id": "Oy3LL78uJMLe",
        "outputId": "679e7995-50fc-4dbd-a600-73533da79ce9"
      },
      "source": [
        "# Cargamos los CSV en el objeto dataset (train, val, y test set).\n",
        "# Tambien le pasamos las features que definimos en la celda anterior\n",
        "dataset_google = load_dataset('csv', data_files={'train':root_path+\"train.csv\",\n",
        "                                                 'val':root_path+\"val.csv\",\n",
        "                                          'test':root_path+\"test.csv\"},\n",
        "                             features=features_ds)"
      ],
      "execution_count": 14,
      "outputs": [
        {
          "output_type": "stream",
          "name": "stderr",
          "text": [
            "Using custom data configuration default-04b68dba0462901e\n"
          ]
        },
        {
          "output_type": "stream",
          "name": "stdout",
          "text": [
            "Downloading and preparing dataset csv/default to /root/.cache/huggingface/datasets/csv/default-04b68dba0462901e/0.0.0/bf68a4c4aefa545d0712b2fcbb1b327f905bbe2f6425fbc5e8c25234acb9e14a...\n"
          ]
        },
        {
          "output_type": "display_data",
          "data": {
            "application/vnd.jupyter.widget-view+json": {
              "model_id": "9fb8c086931d479cba4fc069eab9ba51",
              "version_minor": 0,
              "version_major": 2
            },
            "text/plain": [
              "  0%|          | 0/3 [00:00<?, ?it/s]"
            ]
          },
          "metadata": {}
        },
        {
          "output_type": "display_data",
          "data": {
            "application/vnd.jupyter.widget-view+json": {
              "model_id": "bd8680af799040a48df355802ed5f005",
              "version_minor": 0,
              "version_major": 2
            },
            "text/plain": [
              "  0%|          | 0/3 [00:00<?, ?it/s]"
            ]
          },
          "metadata": {}
        },
        {
          "output_type": "stream",
          "name": "stdout",
          "text": [
            "Dataset csv downloaded and prepared to /root/.cache/huggingface/datasets/csv/default-04b68dba0462901e/0.0.0/bf68a4c4aefa545d0712b2fcbb1b327f905bbe2f6425fbc5e8c25234acb9e14a. Subsequent calls will reuse this data.\n"
          ]
        },
        {
          "output_type": "display_data",
          "data": {
            "application/vnd.jupyter.widget-view+json": {
              "model_id": "134a9468add24f4faf37c7852dfc3341",
              "version_minor": 0,
              "version_major": 2
            },
            "text/plain": [
              "  0%|          | 0/3 [00:00<?, ?it/s]"
            ]
          },
          "metadata": {}
        }
      ]
    },
    {
      "cell_type": "markdown",
      "metadata": {
        "id": "7Lv7NZ7OJmZD"
      },
      "source": [
        "## Modelode Tokenizacion"
      ]
    },
    {
      "cell_type": "code",
      "metadata": {
        "id": "XIHFMnLRJMH9"
      },
      "source": [
        "# Primero definimos el Algoritmo /modelo que vamos a utilizar\n",
        "# En este caso particular, vamos a usar el \"wordLevel\". Vamos a separar el texto por espacios y signos de puntuacion.\n",
        "\n",
        "# Debido a que luego definiremos una cantidad maxima de palabras que tendremos \n",
        "# en nuestro vocabulario, tenemos que definir tambien un token especial para \n",
        "# las palabras que queden incorporadas.\n",
        "unk_token = \"[UNK]\"\n",
        "\n",
        "# Creamos nuestro objeto Tokenizer, el cual le iremos incorporando funciones\n",
        "# en las siguientes celdas\n",
        "tokenizer_custom = Tokenizer(models.WordLevel(unk_token=\"[UNK]\"))"
      ],
      "execution_count": 17,
      "outputs": []
    },
    {
      "cell_type": "markdown",
      "metadata": {
        "id": "HS0BylWpJqQi"
      },
      "source": [
        "## Pre-Tokenizer"
      ]
    },
    {
      "cell_type": "code",
      "metadata": {
        "id": "drPhQRgRJMFP"
      },
      "source": [
        "# Pre-tokenizador\n",
        "pre_tok = pre_tokenizers.Whitespace()\n",
        "tokenizer_custom.pre_tokenizer = pre_tok  "
      ],
      "execution_count": 18,
      "outputs": []
    },
    {
      "cell_type": "markdown",
      "metadata": {
        "id": "w4Js-uJNJt9s"
      },
      "source": [
        "## Trainer"
      ]
    },
    {
      "cell_type": "code",
      "metadata": {
        "id": "1AW9X6UeJMC5"
      },
      "source": [
        "# Importante: \n",
        "# 1) Cada Tokenizer tiene su trainer asociado ya que internamiente son algoritmos distintos\n",
        "# 2) Al trainer le debemos pasar tambien los tokens especiales que utilicemos \n",
        "\n",
        "token_trainer = tokenizer_custom.model.get_trainer()\n",
        "# Definimos el tamaño de nuestro vocabulario\n",
        "token_trainer.vocab_size = 15000\n",
        "# La cantidad minima de veces que una palabra/token tiene que aparecer para ser incorpoada\n",
        "token_trainer.min_frequency = 2\n",
        "# Definimos los tokens especiales que utilizaremos.\n",
        "special_tokens = [\"[UNK]\",\"[PAD]\",\"[SOS]\",\"[EOS]\"]\n",
        "token_trainer.special_tokens = special_tokens"
      ],
      "execution_count": 19,
      "outputs": []
    },
    {
      "cell_type": "markdown",
      "metadata": {
        "id": "DIN57pqHJy2z"
      },
      "source": [
        "## Training"
      ]
    },
    {
      "cell_type": "code",
      "metadata": {
        "id": "0tYFupcUJ1Qd"
      },
      "source": [
        "# Creamos una funcion que itere por batch en nuestro dataset['text']\n",
        "def batch_iterator(dataset,batch_size):\n",
        "    for i in range(0, len(dataset), batch_size):\n",
        "        yield dataset[i : i + batch_size][\"text\"]"
      ],
      "execution_count": 20,
      "outputs": []
    },
    {
      "cell_type": "code",
      "metadata": {
        "id": "HKR0dWT5J1Nd"
      },
      "source": [
        "# Nuestor tokenizer ya esta en condiciones de ser entrenado y definir que indices \n",
        "# se le asignara a cada palabra/token\n",
        "\n",
        "batch_size_tok = 1000 # Cantidad de frases que vamos muestreando\n",
        "tokenizer_custom.train_from_iterator(batch_iterator(dataset_google['train'],batch_size_tok), trainer=token_trainer)"
      ],
      "execution_count": 21,
      "outputs": []
    },
    {
      "cell_type": "markdown",
      "metadata": {
        "id": "B5C7ImilJ8Oa"
      },
      "source": [
        "## Post- Tokenization"
      ]
    },
    {
      "cell_type": "markdown",
      "metadata": {
        "id": "McpluEARJ_G1"
      },
      "source": [
        "### [SOS] & [EOS]\n",
        "\n",
        "Start of Sentence & End Of Sentence"
      ]
    },
    {
      "cell_type": "code",
      "metadata": {
        "id": "zbKcqKCOJ1Kd"
      },
      "source": [
        "# Comunmente se incorporan estos tokens para que el modelo aprenda cuando una\n",
        "# frase comienza y cuando una frase termina.\n",
        "post_toke = processors.TemplateProcessing(\n",
        "    single=\"[SOS] $A [EOS]\",\n",
        "    special_tokens=[\n",
        "        (\"[SOS]\", 2),\n",
        "        (\"[EOS]\", 3),\n",
        "    ],\n",
        ")\n",
        "tokenizer_custom.post_processor = post_toke"
      ],
      "execution_count": 22,
      "outputs": []
    },
    {
      "cell_type": "code",
      "metadata": {
        "colab": {
          "base_uri": "https://localhost:8080/"
        },
        "id": "vnFI_KA1J1IR",
        "outputId": "1655ecf4-6a94-4a14-a737-837d8182eb93"
      },
      "source": [
        "encoding = tokenizer_custom.encode(\"what is this ?veryrareword test 123 111\")\n",
        "print(encoding.ids)\n",
        "print(encoding.tokens)"
      ],
      "execution_count": 23,
      "outputs": [
        {
          "output_type": "stream",
          "name": "stdout",
          "text": [
            "[2, 426, 103, 128, 32, 0, 1098, 11717, 0, 3]\n",
            "['[SOS]', 'what', 'is', 'this', '?', 'veryrareword', 'test', '123', '111', '[EOS]']\n"
          ]
        }
      ]
    },
    {
      "cell_type": "markdown",
      "metadata": {
        "id": "DHrzmrqEKObS"
      },
      "source": [
        "### Padding y Truncation"
      ]
    },
    {
      "cell_type": "code",
      "metadata": {
        "colab": {
          "base_uri": "https://localhost:8080/"
        },
        "id": "eAuC80ZfJ1GG",
        "outputId": "7747ef13-f444-4705-f94f-af4135edefca"
      },
      "source": [
        "# Para entrenar nuestros modelos en batch, la longitud de todos los textos deben ser iguales.\n",
        "# Por tal motivo, vamos a hablitar \"padding\" y \"truncation\" para los textos mas cortos y largos, respectivamente.\n",
        "\n",
        "# Definimos la longitud maxima del modelo\n",
        "max_lenght = 120\n",
        "\n",
        "#Padding\n",
        "tokenizer_custom.enable_padding(direction='right', # El padding es a la derecha\n",
        "                                pad_id=1 ,\n",
        "                                pad_to_multiple_of = max_lenght,\n",
        "                                pad_token=\"[PAD]\")\n",
        "#Truncation\n",
        "tokenizer_custom.enable_truncation(max_lenght,\n",
        "                                   stride=0,\n",
        "                                   strategy='longest_first')\n",
        "\n",
        "encoding = tokenizer_custom.encode(\"what is this ?veryrareword test 123 111\")\n",
        "print(encoding.ids)\n",
        "print(encoding.tokens)"
      ],
      "execution_count": 24,
      "outputs": [
        {
          "output_type": "stream",
          "name": "stdout",
          "text": [
            "[2, 426, 103, 128, 32, 0, 1098, 11717, 0, 3, 1, 1, 1, 1, 1, 1, 1, 1, 1, 1, 1, 1, 1, 1, 1, 1, 1, 1, 1, 1, 1, 1, 1, 1, 1, 1, 1, 1, 1, 1, 1, 1, 1, 1, 1, 1, 1, 1, 1, 1, 1, 1, 1, 1, 1, 1, 1, 1, 1, 1, 1, 1, 1, 1, 1, 1, 1, 1, 1, 1, 1, 1, 1, 1, 1, 1, 1, 1, 1, 1, 1, 1, 1, 1, 1, 1, 1, 1, 1, 1, 1, 1, 1, 1, 1, 1, 1, 1, 1, 1, 1, 1, 1, 1, 1, 1, 1, 1, 1, 1, 1, 1, 1, 1, 1, 1, 1, 1, 1, 1]\n",
            "['[SOS]', 'what', 'is', 'this', '?', 'veryrareword', 'test', '123', '111', '[EOS]', '[PAD]', '[PAD]', '[PAD]', '[PAD]', '[PAD]', '[PAD]', '[PAD]', '[PAD]', '[PAD]', '[PAD]', '[PAD]', '[PAD]', '[PAD]', '[PAD]', '[PAD]', '[PAD]', '[PAD]', '[PAD]', '[PAD]', '[PAD]', '[PAD]', '[PAD]', '[PAD]', '[PAD]', '[PAD]', '[PAD]', '[PAD]', '[PAD]', '[PAD]', '[PAD]', '[PAD]', '[PAD]', '[PAD]', '[PAD]', '[PAD]', '[PAD]', '[PAD]', '[PAD]', '[PAD]', '[PAD]', '[PAD]', '[PAD]', '[PAD]', '[PAD]', '[PAD]', '[PAD]', '[PAD]', '[PAD]', '[PAD]', '[PAD]', '[PAD]', '[PAD]', '[PAD]', '[PAD]', '[PAD]', '[PAD]', '[PAD]', '[PAD]', '[PAD]', '[PAD]', '[PAD]', '[PAD]', '[PAD]', '[PAD]', '[PAD]', '[PAD]', '[PAD]', '[PAD]', '[PAD]', '[PAD]', '[PAD]', '[PAD]', '[PAD]', '[PAD]', '[PAD]', '[PAD]', '[PAD]', '[PAD]', '[PAD]', '[PAD]', '[PAD]', '[PAD]', '[PAD]', '[PAD]', '[PAD]', '[PAD]', '[PAD]', '[PAD]', '[PAD]', '[PAD]', '[PAD]', '[PAD]', '[PAD]', '[PAD]', '[PAD]', '[PAD]', '[PAD]', '[PAD]', '[PAD]', '[PAD]', '[PAD]', '[PAD]', '[PAD]', '[PAD]', '[PAD]', '[PAD]', '[PAD]', '[PAD]', '[PAD]', '[PAD]']\n"
          ]
        }
      ]
    },
    {
      "cell_type": "markdown",
      "metadata": {
        "id": "-VKo-qndKWpi"
      },
      "source": [
        "## Dataset Tokenization\n",
        "\n",
        "Recien ahora, con nuestro tokenizador entrenado podremos aplicarlo a nuestro dataset!"
      ]
    },
    {
      "cell_type": "code",
      "metadata": {
        "id": "BAjpmD2tJ1Dv"
      },
      "source": [
        "# Creamos una funcion que aplicara el encode a nuestro todo el dataset y va a crear\n",
        "def _tokenize(examples):\n",
        "    result = {}\n",
        "    for e in tokenizer_custom.encode_batch(examples['text']):\n",
        "        result.setdefault('ids', []).append(e.ids)\n",
        "        result.setdefault('tokens', []).append(e.tokens)\n",
        "        result.setdefault('offsets', []).append(e.offsets)\n",
        "        result.setdefault('special_tokens_mask', []).append(e.special_tokens_mask) # if id is special token or not\n",
        "        result.setdefault('text_lenght', []).append(np.sum(np.array(e.special_tokens_mask)==0)+2)\n",
        "    return result"
      ],
      "execution_count": 25,
      "outputs": []
    },
    {
      "cell_type": "code",
      "metadata": {
        "colab": {
          "base_uri": "https://localhost:8080/",
          "height": 113,
          "referenced_widgets": [
            "288924cb07eb4963a170b4f0f4ec5a15",
            "141919944bd14d7a9c951ec621fa00a9",
            "747057d326014c33b823cead1058f039",
            "5ce112cb781f45238c590d9205400aa6",
            "98a03931cff343ca9f6e4e6f1b4ac185",
            "22ff576ec1494fc8ac4d0ee269a82443",
            "cfcfa4aca3754f9e9e3bdddc8830a6a5",
            "49193cb225564eb297cfe160c25faaa0",
            "1f9c3687091d43dfb8586a101e3f1fe1",
            "705a6d80afb24b9095cdf9f9ad69162d",
            "161c2ca9e6fe4bc3b70264bb9deb0b4a",
            "e6e3564f5f1c477790b27fd10db9d371",
            "73760b0a0b7f498f92e54e00255d30dd",
            "baacd75fb6ef4615a34500ec8843b2e4",
            "36e9113ecc0a4000a8322bdaca83675b",
            "10f37192de83459bb05e44bcfa40d0ff",
            "952c809b45114394a61a262e866ac2c6",
            "b1b41d273a58419da653b9e0dae8c391",
            "2a47de5b77ea4705846481a9a2fe7f06",
            "3a1ab29e6b0f4b9896401368ec9b8eb6",
            "5646e319ae4148cb9cb224fd9597c195",
            "e97544e798354c6fb8266270ca4aa04b",
            "f3ed47d9062446099c093c247ede30b3",
            "7d8cc031ea3342aba3e26342de957913",
            "358c8671324b4a9cb0d1a6975f4d4ddb",
            "1142b2a0c90a49688e77e46ab9b6643e",
            "cb11f4046e874bc39fdca12fe08f3e9a",
            "1199a6ebc11a41d1890d53fea7648b92",
            "a099a4e2796d4a1f9e9e00ec2affb50d",
            "291bed093324421bace4c0ff20c93cdf",
            "4382e8f8b9b848a18af91d507a5cb3f6",
            "27bfd387b69741e4bd3b0550c3a10ca8",
            "84f22dc3235848c89eefb9582ac4e2ab"
          ]
        },
        "id": "_0dxE2eMJ1Ay",
        "outputId": "3a40f7c6-fd60-4c18-d084-063ddbd5a541"
      },
      "source": [
        "dataset_google = dataset_google.map(_tokenize, batched=True,batch_size=5000)"
      ],
      "execution_count": 26,
      "outputs": [
        {
          "output_type": "display_data",
          "data": {
            "application/vnd.jupyter.widget-view+json": {
              "model_id": "288924cb07eb4963a170b4f0f4ec5a15",
              "version_minor": 0,
              "version_major": 2
            },
            "text/plain": [
              "  0%|          | 0/5 [00:00<?, ?ba/s]"
            ]
          },
          "metadata": {}
        },
        {
          "output_type": "display_data",
          "data": {
            "application/vnd.jupyter.widget-view+json": {
              "model_id": "e6e3564f5f1c477790b27fd10db9d371",
              "version_minor": 0,
              "version_major": 2
            },
            "text/plain": [
              "  0%|          | 0/1 [00:00<?, ?ba/s]"
            ]
          },
          "metadata": {}
        },
        {
          "output_type": "display_data",
          "data": {
            "application/vnd.jupyter.widget-view+json": {
              "model_id": "f3ed47d9062446099c093c247ede30b3",
              "version_minor": 0,
              "version_major": 2
            },
            "text/plain": [
              "  0%|          | 0/1 [00:00<?, ?ba/s]"
            ]
          },
          "metadata": {}
        }
      ]
    },
    {
      "cell_type": "markdown",
      "metadata": {
        "id": "ut45lt-eKeR9"
      },
      "source": [
        "## Ejemplo"
      ]
    },
    {
      "cell_type": "code",
      "metadata": {
        "colab": {
          "base_uri": "https://localhost:8080/"
        },
        "id": "sqP1kpSiJ0-M",
        "outputId": "d9b0e87c-fc5f-4267-d352-5ac96c10a983"
      },
      "source": [
        "idx_rnd = np.random.randint(0,len(dataset_google['train']))\n",
        "idx_rnd = dataset_google['train'][idx_rnd]\n",
        "print(name_classes[idx_rnd['label']],'\\r\\n')\n",
        "print(idx_rnd['text'],'\\r\\n')\n",
        "print(idx_rnd['tokens'],'\\r\\n')\n",
        "print(idx_rnd['ids'],'\\r\\n')\n",
        "print(idx_rnd['special_tokens_mask'],'\\r\\n')\n",
        "print(idx_rnd['label'],'\\r\\n')\n",
        "print(idx_rnd['text_lenght'],'\\r\\n')\n",
        "np.sum(np.array(idx_rnd['special_tokens_mask'])==0)+2"
      ],
      "execution_count": 27,
      "outputs": [
        {
          "output_type": "stream",
          "name": "stdout",
          "text": [
            "Positive \r\n",
            "\n",
            "I got much expectations before, imagination. \r\n",
            "\n",
            "['[SOS]', 'I', 'got', 'much', 'expectations', 'before', ',', 'imagination', '.', '[EOS]', '[PAD]', '[PAD]', '[PAD]', '[PAD]', '[PAD]', '[PAD]', '[PAD]', '[PAD]', '[PAD]', '[PAD]', '[PAD]', '[PAD]', '[PAD]', '[PAD]', '[PAD]', '[PAD]', '[PAD]', '[PAD]', '[PAD]', '[PAD]', '[PAD]', '[PAD]', '[PAD]', '[PAD]', '[PAD]', '[PAD]', '[PAD]', '[PAD]', '[PAD]', '[PAD]', '[PAD]', '[PAD]', '[PAD]', '[PAD]', '[PAD]', '[PAD]', '[PAD]', '[PAD]', '[PAD]', '[PAD]', '[PAD]', '[PAD]', '[PAD]', '[PAD]', '[PAD]', '[PAD]', '[PAD]', '[PAD]', '[PAD]', '[PAD]', '[PAD]', '[PAD]', '[PAD]', '[PAD]', '[PAD]', '[PAD]', '[PAD]', '[PAD]', '[PAD]', '[PAD]', '[PAD]', '[PAD]', '[PAD]', '[PAD]', '[PAD]', '[PAD]', '[PAD]', '[PAD]', '[PAD]', '[PAD]', '[PAD]', '[PAD]', '[PAD]', '[PAD]', '[PAD]', '[PAD]', '[PAD]', '[PAD]', '[PAD]', '[PAD]', '[PAD]', '[PAD]', '[PAD]', '[PAD]', '[PAD]', '[PAD]', '[PAD]', '[PAD]', '[PAD]', '[PAD]', '[PAD]', '[PAD]', '[PAD]', '[PAD]', '[PAD]', '[PAD]', '[PAD]', '[PAD]', '[PAD]', '[PAD]', '[PAD]', '[PAD]', '[PAD]', '[PAD]', '[PAD]', '[PAD]', '[PAD]', '[PAD]', '[PAD]', '[PAD]'] \r\n",
            "\n",
            "[2, 5, 116, 35, 3145, 725, 6, 5091, 4, 3, 1, 1, 1, 1, 1, 1, 1, 1, 1, 1, 1, 1, 1, 1, 1, 1, 1, 1, 1, 1, 1, 1, 1, 1, 1, 1, 1, 1, 1, 1, 1, 1, 1, 1, 1, 1, 1, 1, 1, 1, 1, 1, 1, 1, 1, 1, 1, 1, 1, 1, 1, 1, 1, 1, 1, 1, 1, 1, 1, 1, 1, 1, 1, 1, 1, 1, 1, 1, 1, 1, 1, 1, 1, 1, 1, 1, 1, 1, 1, 1, 1, 1, 1, 1, 1, 1, 1, 1, 1, 1, 1, 1, 1, 1, 1, 1, 1, 1, 1, 1, 1, 1, 1, 1, 1, 1, 1, 1, 1, 1] \r\n",
            "\n",
            "[1, 0, 0, 0, 0, 0, 0, 0, 0, 1, 1, 1, 1, 1, 1, 1, 1, 1, 1, 1, 1, 1, 1, 1, 1, 1, 1, 1, 1, 1, 1, 1, 1, 1, 1, 1, 1, 1, 1, 1, 1, 1, 1, 1, 1, 1, 1, 1, 1, 1, 1, 1, 1, 1, 1, 1, 1, 1, 1, 1, 1, 1, 1, 1, 1, 1, 1, 1, 1, 1, 1, 1, 1, 1, 1, 1, 1, 1, 1, 1, 1, 1, 1, 1, 1, 1, 1, 1, 1, 1, 1, 1, 1, 1, 1, 1, 1, 1, 1, 1, 1, 1, 1, 1, 1, 1, 1, 1, 1, 1, 1, 1, 1, 1, 1, 1, 1, 1, 1, 1] \r\n",
            "\n",
            "2 \r\n",
            "\n",
            "10 \r\n",
            "\n"
          ]
        },
        {
          "output_type": "execute_result",
          "data": {
            "text/plain": [
              "10"
            ]
          },
          "metadata": {},
          "execution_count": 27
        }
      ]
    },
    {
      "cell_type": "markdown",
      "metadata": {
        "id": "E4_dGt5BKhaa"
      },
      "source": [
        "## Guardamos el tokenizador"
      ]
    },
    {
      "cell_type": "code",
      "metadata": {
        "id": "hGvag66UJ07m"
      },
      "source": [
        "tokenizer_custom.save(root_path+\"google_tokenizer.json\",pretty=True)"
      ],
      "execution_count": 28,
      "outputs": []
    },
    {
      "cell_type": "markdown",
      "metadata": {
        "id": "qvAuA-1e02-R"
      },
      "source": [
        "### Import"
      ]
    },
    {
      "cell_type": "code",
      "metadata": {
        "id": "gsZPPwUSBdNm"
      },
      "source": [
        "\"\"\"tokenizer_custom = Tokenizer.from_file(root_path+\"google_tokenizer.json\")\"\"\""
      ],
      "execution_count": 29,
      "outputs": []
    },
    {
      "cell_type": "markdown",
      "metadata": {
        "id": "hhu1wUwt1Ev4"
      },
      "source": [
        "# Formato a PyTorch"
      ]
    },
    {
      "cell_type": "code",
      "metadata": {
        "id": "s615JYnmCuon"
      },
      "source": [
        "train_ds = dataset_google['train']\n",
        "val_ds = dataset_google['val']\n",
        "test_ds = dataset_google['test']"
      ],
      "execution_count": 31,
      "outputs": []
    },
    {
      "cell_type": "markdown",
      "metadata": {
        "id": "YevioYjnawCH"
      },
      "source": [
        "A cada uno de los subset los pasamos a formato pytorch, y le indicamos que columnas queremos (opcional indicarle tambien el dispositivo, en este caso, cuda=GPU)"
      ]
    },
    {
      "cell_type": "code",
      "metadata": {
        "id": "DZlVaK_7CumD"
      },
      "source": [
        "train_ds.set_format('torch', columns=['ids', 'label', 'text_lenght'], device='cuda')\n",
        "val_ds.set_format('torch', columns=['ids', 'label', 'text_lenght'], device='cuda')\n",
        "test_ds.set_format('torch', columns=['ids', 'label','text_lenght'], device='cuda')"
      ],
      "execution_count": 32,
      "outputs": []
    },
    {
      "cell_type": "markdown",
      "metadata": {
        "id": "sW1p7zmN1HPy"
      },
      "source": [
        "# Dataloader"
      ]
    },
    {
      "cell_type": "code",
      "metadata": {
        "id": "DwTGehqpCujj"
      },
      "source": [
        "# Definimos el batch size\n",
        "bs = 64\n",
        "# Definimos los dataloaders\n",
        "train_dl = torch.utils.data.DataLoader(train_ds, batch_size = bs, shuffle = True)\n",
        "val_dl = torch.utils.data.DataLoader(val_ds, batch_size = bs*2, shuffle = True)\n",
        "test_dl = torch.utils.data.DataLoader(test_ds, batch_size = bs*2, shuffle = True)"
      ],
      "execution_count": 33,
      "outputs": []
    },
    {
      "cell_type": "code",
      "metadata": {
        "id": "6NTQHdG8eo5R"
      },
      "source": [
        "next(iter(test_dl))"
      ],
      "execution_count": null,
      "outputs": []
    },
    {
      "cell_type": "markdown",
      "metadata": {
        "id": "0IuQJzQV1rDs"
      },
      "source": [
        "# 3) Modelo"
      ]
    },
    {
      "cell_type": "markdown",
      "metadata": {
        "id": "6gR5v6KubPjf"
      },
      "source": [
        "![](https://guide.allennlp.org/part1/your-first-model/designing-a-model-4.svg)"
      ]
    },
    {
      "cell_type": "markdown",
      "metadata": {
        "id": "QFuIqAv71KTY"
      },
      "source": [
        "## Arquitectura"
      ]
    },
    {
      "cell_type": "code",
      "metadata": {
        "id": "7lj3Ytx1Cug9"
      },
      "source": [
        "class SentimentAnalisys(nn.Module):\n",
        "  def __init__(self,args):\n",
        "    super(SentimentAnalisys, self).__init__()\n",
        "    \"\"\"\n",
        "     Se llama la funcion __init__ al momento que creemos el objeto.\n",
        "     \n",
        "     Dentro de la funcion de __init__ respondemos a la pregunta:\n",
        "\n",
        "     'Que partes componen al modelo?'.\n",
        "     Es decir, inicializamos todas las variables. \n",
        "     \n",
        "     Podemos definir ademas cualquier otro tipo de variables auxiliares que \n",
        "     querramos que pertenezcan al modelo al momento de crearlo.\n",
        "\n",
        "     Por otro lado, en la funcion 'forward' vamos a responder a la pregunta;\n",
        "     'Como es el forward pass?. Es decir, indicamos de que manera va a recorrer\n",
        "     la informacion por las partes del modelo que previamente inicializamos.\n",
        "\n",
        "     #Datazo:\n",
        "     Estrictamente hablando, tanto las partes propias del modelo de NN como las \n",
        "     variables auxiliares se llaman \"atributos\", y las definimos usando el \n",
        "     prefijo \"self.nombre_de_variable\", mientras que las funciones que definimos\n",
        "     llaman \"metodos\". Finalmente, cuando creemos el modelo, lo que estaremos\n",
        "     creando en realidad es una \"instancia\" de la clase \"SentimentAnalisys\".  \n",
        "    \"\"\"\n",
        "\n",
        "    ###########################\n",
        "    # Var. Auxiliares: Inicio\n",
        "    ###########################\n",
        "    # Guardamos variables propias del modelo para usar luego.\n",
        "    self.vocab_size = args['vocab_size']\n",
        "    # el token ID del padding\n",
        "    self.pad_id = args['pad_id']\n",
        "    # El tamaño del embedding\n",
        "    self.embedding_dim = args['embedding_dim']\n",
        "    # La cantidad de labels\n",
        "    self.n_classes = args['n_classes']\n",
        "    # la cantidad de hidden dimension de la RNN\n",
        "    self.rnn1_dim = args['rnn1_dim']\n",
        "    # Si vamos a usar bidericcionalidad\n",
        "    self.bidirectional = args['bidirectional']\n",
        "    # Cantidad de capas RNN\n",
        "    self.num_layers = args['num_layers']\n",
        "    # Si es bidirectional, entonces entrada a la capa fulle conected (nn.Linear)\n",
        "    # es el doble de grande\n",
        "    self.num_directions = 2 if self.bidirectional  == True else 1\n",
        "    ###########################\n",
        "    # Variables Auxiliares: Fin\n",
        "    ###########################    \n",
        "\n",
        "    ###########################\n",
        "    # Partes del modelo: Inicio\n",
        "    ###########################\n",
        "    # 1) Definamos el embedding\n",
        "    self.embedding = nn.Embedding(num_embeddings = self.vocab_size,\n",
        "                                  embedding_dim = self.embedding_dim ,\n",
        "                                  padding_idx = self.pad_id )\n",
        "    # 2) Definimos una capa recurrente\n",
        "    self.rnn1 = nn.GRU(input_size = self.rnn1_dim[0],\n",
        "                       hidden_size = self.rnn1_dim[1],\n",
        "                       num_layers = self.num_layers,\n",
        "                       bidirectional = self.bidirectional,\n",
        "                       batch_first = True )\n",
        "    # 3)\n",
        "    #Si el modelo tiene dos direcciones, el temaño de la ultima layerse duplica!\n",
        "    self.linear_dim = [self.rnn1_dim[1]*self.num_directions,self.n_classes]\n",
        "    # Definimos una capa fully-conected de salida    \n",
        "    self.linear = nn.Linear(in_features = self.linear_dim[0],\n",
        "                            out_features = self.linear_dim[1])\n",
        "    # Definimos una capa de droput para regularizar\n",
        "    self.do = nn.Dropout(args['dropout'])\n",
        "\n",
        "    ###########################\n",
        "    # Partes del modelo: Fin\n",
        "    ###########################    \n",
        "\n",
        "  def forward(self,x,text_lengths):\n",
        "    \n",
        "    # 1) Capa Embedding\n",
        "    output = self.embedding(x)\n",
        "    \n",
        "    # Pack_Packed:\n",
        "    # Esta capa la hacemos simplemente para cortar el forward/backward pass\n",
        "    # en los indices cuyo id == 'PAD'.\n",
        "    packed_embedded = nn.utils.rnn.pack_padded_sequence(\n",
        "        output, text_lengths.to('cpu'),\n",
        "        batch_first=True, enforce_sorted=False)\n",
        "\n",
        "    # 2) Capa Recurrente\n",
        "    packed_output, h_n = self.rnn1(packed_embedded) \n",
        "    # \n",
        "    output, output_lengths = nn.utils.rnn.pad_packed_sequence(packed_output)\n",
        "    \n",
        "    #################\n",
        "    ## Bidirectional: \n",
        "    #################\n",
        "    # Doc: https://pytorch.org/docs/stable/generated/torch.nn.GRU.html\n",
        "    # h_n = [num layers * num directions, batch size, hid dim]\n",
        "    # concatenamos el hidden_state final:\n",
        "    # * forward RNN: h_n[-2,:,:] \n",
        "    # * backward RNN: h_n[-1,:,:]\n",
        "    if self.bidirectional:\n",
        "      h_n = torch.cat((h_n[-2,:,:], h_n[-1,:,:]), dim = 1)    \n",
        "    \n",
        "    # 3) Aplicamos dropout y la capa fully-conected.\n",
        "    output = self.linear(self.do(h_n))\n",
        "    return output"
      ],
      "execution_count": 35,
      "outputs": []
    },
    {
      "cell_type": "markdown",
      "metadata": {
        "id": "z9SHZJQO1mhz"
      },
      "source": [
        "## Configuracion"
      ]
    },
    {
      "cell_type": "code",
      "metadata": {
        "colab": {
          "base_uri": "https://localhost:8080/"
        },
        "id": "GjFrup7JR2rd",
        "outputId": "d015b5f9-9a46-43e2-832a-4daabffad753"
      },
      "source": [
        "# Vocab Size ---> Para el Embedding\n",
        "vocab_size = tokenizer_custom.get_vocab_size()\n",
        "# El indice del embedding que corresponde al padding\n",
        "pad_id = tokenizer_custom.token_to_id(\"[PAD]\")\n",
        "# Diumensiones del embedding\n",
        "emb_dim = 150\n",
        "# Numero de clases\n",
        "n_classes = len(name_classes)\n",
        "# Si queremos nuestra capa GRU bidireccional\n",
        "bidirectional = True\n",
        "# Dimensiones de Entrada y Saluda de nuestra capa recurrente\n",
        "rnn_dim = [emb_dim,256]\n",
        "# Numero de capas RNN\n",
        "num_layers = 2\n",
        "# % de Droput para regularizar\n",
        "dropout = 0.25\n",
        "\n",
        "# Por comodidad le vamos a pasar todos estos\n",
        "#  parametros de config en un diccionario\n",
        "args = {\n",
        "    'vocab_size' : vocab_size,\n",
        "    'pad_id' : pad_id,\n",
        "    'embedding_dim' : emb_dim,\n",
        "    'n_classes' : n_classes,\n",
        "    'rnn1_dim' : rnn_dim,\n",
        "    'bidirectional' : bidirectional,\n",
        "    'num_layers': num_layers,\n",
        "    'dropout': dropout\n",
        "}\n",
        "args"
      ],
      "execution_count": 36,
      "outputs": [
        {
          "output_type": "execute_result",
          "data": {
            "text/plain": [
              "{'bidirectional': True,\n",
              " 'dropout': 0.25,\n",
              " 'embedding_dim': 150,\n",
              " 'n_classes': 3,\n",
              " 'num_layers': 2,\n",
              " 'pad_id': 1,\n",
              " 'rnn1_dim': [150, 256],\n",
              " 'vocab_size': 12085}"
            ]
          },
          "metadata": {},
          "execution_count": 36
        }
      ]
    },
    {
      "cell_type": "code",
      "metadata": {
        "id": "MSiRWxDnCued"
      },
      "source": [
        "# Definamos el modelo, y pasemoslo a la GPU ('cuda')\n",
        "modelo = SentimentAnalisys(args).to('cuda')"
      ],
      "execution_count": 37,
      "outputs": []
    },
    {
      "cell_type": "markdown",
      "metadata": {
        "id": "e_LSdPXY1wfL"
      },
      "source": [
        "# Optimizador y Loss Function"
      ]
    },
    {
      "cell_type": "code",
      "metadata": {
        "id": "zo3B1slcdVQP"
      },
      "source": [
        "from torch.optim import Adam\n",
        "\n",
        "#################\n",
        "# Optimizador\n",
        "#################\n",
        "# Learning rate\n",
        "learning_rate=0.001\n",
        "optimizer = Adam(modelo.parameters(),\n",
        "                 lr = learning_rate,\n",
        "                 weight_decay = 0.005) # Regularizacion\n",
        "\n",
        "\n",
        "#################\n",
        "# Loss Function\n",
        "#################\n",
        "# Debido a que nuestro dataset se encuentra desbalanceado,\n",
        "# vamos a pasar un tensor indicadole como ponderaremos la loss function.\n",
        "class_weights = torch.FloatTensor([0.9,1,0.3]).to(device)\n",
        "# Definimos la loss function y le pasamos los pesos!\n",
        "loss_function = nn.CrossEntropyLoss(weight=class_weights)"
      ],
      "execution_count": 38,
      "outputs": []
    },
    {
      "cell_type": "code",
      "metadata": {
        "id": "ZPjCW2b3jdPK"
      },
      "source": [
        "# Vamos a generarnos un diccionario donde iremos guardando los resultados\n",
        "# del entrenamiento\n",
        "history = {'train':{'loss':[],'acc': []},\n",
        "           'val':{'loss': [],'acc': []}}"
      ],
      "execution_count": 39,
      "outputs": []
    },
    {
      "cell_type": "markdown",
      "metadata": {
        "id": "H0QGO5FN10xi"
      },
      "source": [
        "# Training"
      ]
    },
    {
      "cell_type": "markdown",
      "metadata": {
        "id": "fgOtDvORbk7v"
      },
      "source": [
        "![](https://drive.google.com/uc?id=1d7Rq5FsmQNWcP8T1KGi_TodL49jCEKnY)\n",
        "\n",
        "![](https://guide.allennlp.org/part1/your-first-model/designing-a-model-5.svg)"
      ]
    },
    {
      "cell_type": "code",
      "metadata": {
        "id": "DohIzJVV0WZ6"
      },
      "source": [
        "# Definimos la cantidad de epochs a entrenar\n",
        "epochs = 50\n",
        "# Cantidad de muestras que hay en cada dataset,\n",
        "# Esto lo necesitamos para que la comparacion de la loss de entrenamiento y validacion\n",
        "# sea valida\n",
        "normalizer_train = len(train_dl.dataset)\n",
        "normalizer_val = len(val_dl.dataset)\n",
        "normalizer_test = len(test_dl.dataset)"
      ],
      "execution_count": 40,
      "outputs": []
    },
    {
      "cell_type": "code",
      "metadata": {
        "id": "fNXL1CdXdVKQ"
      },
      "source": [
        "# Vamos a crear 4 variables para ir haciendo seguimiento de la loss\n",
        "# y del accuracy duante cada epoc\n",
        "epoch_loss_train = 0\n",
        "epoch_loss_val = 0\n",
        "accuracy_train = 0 \n",
        "accuracy_val = 0\n",
        "\n",
        "pbar1 = tqdm(range(epochs),unit=\" epoch\")\n",
        "for epoch in pbar1:\n",
        "  # Aqui creamos la barra y configuramos que mensajes queremos que aparezcan\n",
        "  # durante el entrenamiento\n",
        "  pbar1.set_postfix({\n",
        "      'Loss_t': epoch_loss_train,\n",
        "      'Acc_t': accuracy_train,\n",
        "      'Loss_v':epoch_loss_val,\n",
        "      'Acc_v': accuracy_val})\n",
        "  \n",
        "  # Reseteamos las variables debido al for loop\n",
        "  epoch_loss_train , epoch_loss_val = 0, 0\n",
        "  accuracy_train , accuracy_val = 0, 0 \n",
        "  ###############################  \n",
        "  # TRAINING   \n",
        "  ###############################\n",
        "  with tqdm(total=len(train_dl)+len(val_dl), unit=\" batch\",leave=False) as pbar2:\n",
        "    # Cantidad de labels acertados  \n",
        "    correct = 0\n",
        "    # Pasamos el modelo a modo 'train' (activa los dropout/batchnorm)\n",
        "    modelo.train()\n",
        "    # Para cada batch del dataloader\n",
        "    for batch in train_dl:\n",
        "      # Actualizamos el contador de batches de la barra de progreso\n",
        "      pbar2.update(1)\n",
        "      # x: nuestros ids\n",
        "      x = batch['ids']\n",
        "      x_l = batch['text_lenght']\n",
        "      # y_true: el label correcto\n",
        "      y_true = batch['label']\n",
        "      # limpiamos los gradientes que observa el optimizador\n",
        "      # si no lo hacemos, se van a ir acumulando y es incorrecto\n",
        "      optimizer.zero_grad()\n",
        "      # Generamos una prediccion\n",
        "      y_hat = modelo(x,x_l)\n",
        "      # Calculamos la loss w.r.t el true value\n",
        "      loss = loss_function(y_hat,y_true)\n",
        "      # Calculamos los gradientes del modelo w.r.t la loss\n",
        "      loss.backward()\n",
        "      # Aplicamos los gradientes\n",
        "      optimizer.step()\n",
        "      # Obtenemos el label predicho\n",
        "      _, predicted = torch.max(y_hat.data, 1)\n",
        "      # acumulamos la loss\n",
        "      epoch_loss_train += loss.item()\n",
        "      # Cantidad de labels correctamente predichos\n",
        "      correct_i = (predicted == y_true).sum().item() \n",
        "      correct += correct_i\n",
        "      pbar2.set_postfix({\n",
        "              'Loss_t:': loss.item() / x.size()[0],\n",
        "              'Acc_t': correct_i / (x.size()[0])})      \n",
        "\n",
        "    # una vez que termina una epoch de training, normalizamos loss y acc\n",
        "    # por la cantidad de samples que habia en el set de entrenamiento\n",
        "    epoch_loss_train = epoch_loss_train / normalizer_train\n",
        "    accuracy_train = 100 * correct / normalizer_train\n",
        "\n",
        "    ###############################  \n",
        "    # Validation   \n",
        "    ###############################\n",
        "    # Desactivamos los dropout/batch_norm\n",
        "    modelo.eval()\n",
        "    # volvemos a inicializar el contador para el accuracy\n",
        "    correct = 0\n",
        "    # Como ahora estamos testeando, no necesitamos computar gradiente\n",
        "    # (desactiva funciones y operaciones sobre el grafo computacional)\n",
        "    with torch.inference_mode():\n",
        "      for batch in val_dl:\n",
        "        pbar2.update(1)\n",
        "        x = batch['ids']\n",
        "        x_l = batch['text_lenght']\n",
        "        y_true = batch['label']\n",
        "        y_hat = modelo(x,x_l)\n",
        "        val_loss = loss_function(y_hat,y_true)\n",
        "        _, predicted = torch.max(y_hat.data, 1)\n",
        "        correct += (predicted == y_true).sum().item()\n",
        "        epoch_loss_val += val_loss.item()\n",
        "\n",
        "    #Estimamos la loss y el acc w.r.t el set de testeo\n",
        "    epoch_loss_val = epoch_loss_val / normalizer_val\n",
        "    accuracy_val = 100 * correct / normalizer_val\n",
        "\n",
        "    # Actualizamos nuestro historial\n",
        "    history['train']['loss'].append(epoch_loss_train)\n",
        "    history['val']['loss'].append( epoch_loss_val)\n",
        "    history['train']['acc'].append(accuracy_train)\n",
        "    history['val']['acc'].append(accuracy_val)  "
      ],
      "execution_count": null,
      "outputs": []
    },
    {
      "cell_type": "code",
      "metadata": {
        "id": "EhUWlm4zAMJr",
        "colab": {
          "base_uri": "https://localhost:8080/",
          "height": 395
        },
        "outputId": "ba6e8354-c296-4f5e-e698-0b005ae9f1b3"
      },
      "source": [
        "#Loss\n",
        "train_loss_h = history['train']['loss']\n",
        "val_loss_h = history['val']['loss']\n",
        "# Acc\n",
        "train_acc_h = history['train']['acc']\n",
        "val_acc_h = history['val']['acc']\n",
        "lepochs = range(1, len(train_loss_h) + 1)\n",
        "# Plot\n",
        "fig, axs = plt.subplots(1,2,figsize=(16,6))\n",
        "axs[0].plot(lepochs, train_loss_h, 'b', label='Train loss')\n",
        "axs[0].plot(lepochs, val_loss_h, 'r', label='Val loss')\n",
        "axs[0].set_title('Training and validation Loss',fontsize=20)\n",
        "axs[0].legend(fontsize=16)\n",
        "axs[1].plot(lepochs, train_acc_h, 'b', label='Train Accuracy')\n",
        "axs[1].plot(lepochs, val_acc_h, 'r', label='Validation Accuracy')\n",
        "axs[1].set_title('Training and validation Accuracy',fontsize=20)\n",
        "axs[1].legend(fontsize=16)\n",
        "plt.show()"
      ],
      "execution_count": 42,
      "outputs": [
        {
          "output_type": "display_data",
          "data": {
            "image/png": "[encoded data removed]",
            "text/plain": [
              "<Figure size 1152x432 with 2 Axes>"
            ]
          },
          "metadata": {
            "needs_background": "light"
          }
        }
      ]
    },
    {
      "cell_type": "markdown",
      "metadata": {
        "id": "DptvXYoKT7yF"
      },
      "source": [
        "## Ejemplos"
      ]
    },
    {
      "cell_type": "markdown",
      "metadata": {
        "id": "FcYULoLKUr_t"
      },
      "source": [
        "**Propongan por el chat ejemplos de criticas de aplicaciones en ingles y veamos los resultados.**"
      ]
    },
    {
      "cell_type": "code",
      "metadata": {
        "id": "grAOHoMJ3X-a"
      },
      "source": [
        "text_proposed = \"PROPUESTAS_DEL_CHAT\"\n",
        "input_test = tokenizer_custom.encode(text_proposed)\n",
        "input_lenght = [np.sum(np.array(input_test.special_tokens_mask)==0)+2]\n",
        "input_lenght = torch.LongTensor(input_lenght)\n",
        "input_test = torch.LongTensor(input_test.ids).to(device).unsqueeze(0)\n",
        "prediction = modelo(input_test,input_lenght).to('cpu')\n",
        "prediction_prob = softmax(prediction.detach().numpy())[0]\n",
        "prediction_id = np.flip(np.argsort(prediction_prob))\n",
        "pd.DataFrame({'Class': np.array(name_classes)[prediction_id],\n",
        "              'Probability' : prediction_prob[prediction_id]*100})"
      ],
      "execution_count": null,
      "outputs": []
    },
    {
      "cell_type": "markdown",
      "metadata": {
        "id": "ldOVyPCwU6Zl"
      },
      "source": [
        "**Veamos ejemplos aleatorios del dataset de testeo**"
      ]
    },
    {
      "cell_type": "code",
      "metadata": {
        "id": "fb6nrS1hRkH-",
        "colab": {
          "base_uri": "https://localhost:8080/"
        },
        "outputId": "277ef073-3e4a-43c1-b925-0c24fb05c8d9"
      },
      "source": [
        "rnd_idx = np.random.randint(len(test_ds))\n",
        "print(tokenizer_custom.decode(test_ds[rnd_idx]['ids'].to('cpu').numpy()))"
      ],
      "execution_count": 47,
      "outputs": [
        {
          "output_type": "stream",
          "name": "stdout",
          "text": [
            "I worst experience booking room hotel . I booked using app . But hotel management said allowing people booked only . I tried find number only . I find option talk representative . Even I tried cancel , given lost refundable . I know went finally . I lost room\n"
          ]
        }
      ]
    },
    {
      "cell_type": "code",
      "metadata": {
        "id": "Y5uAmzwNbk5F",
        "colab": {
          "base_uri": "https://localhost:8080/",
          "height": 162
        },
        "outputId": "99e24705-cbea-445e-8b32-a13463799b1d"
      },
      "source": [
        "print(name_classes[test_ds[rnd_idx]['label']])\n",
        "input_test = test_ds[rnd_idx]['ids'].unsqueeze(0)\n",
        "input_lenght = test_ds[rnd_idx]['text_lenght'].unsqueeze(0)\n",
        "prediction = modelo(input_test,input_lenght).to('cpu')\n",
        "prediction_prob = softmax(prediction.detach().numpy())[0]\n",
        "prediction_id = np.flip(np.argsort(prediction_prob))\n",
        "pd.DataFrame({'Class': np.array(name_classes)[prediction_id],\n",
        "              'Probability' : prediction_prob[prediction_id]*100})"
      ],
      "execution_count": 48,
      "outputs": [
        {
          "output_type": "stream",
          "name": "stdout",
          "text": [
            "Negative\n"
          ]
        },
        {
          "output_type": "execute_result",
          "data": {
            "text/html": [
              "<div>\n",
              "<style scoped>\n",
              "    .dataframe tbody tr th:only-of-type {\n",
              "        vertical-align: middle;\n",
              "    }\n",
              "\n",
              "    .dataframe tbody tr th {\n",
              "        vertical-align: top;\n",
              "    }\n",
              "\n",
              "    .dataframe thead th {\n",
              "        text-align: right;\n",
              "    }\n",
              "</style>\n",
              "<table border=\"1\" class=\"dataframe\">\n",
              "  <thead>\n",
              "    <tr style=\"text-align: right;\">\n",
              "      <th></th>\n",
              "      <th>Class</th>\n",
              "      <th>Probability</th>\n",
              "    </tr>\n",
              "  </thead>\n",
              "  <tbody>\n",
              "    <tr>\n",
              "      <th>0</th>\n",
              "      <td>Negative</td>\n",
              "      <td>99.613754</td>\n",
              "    </tr>\n",
              "    <tr>\n",
              "      <th>1</th>\n",
              "      <td>Neutral</td>\n",
              "      <td>0.224120</td>\n",
              "    </tr>\n",
              "    <tr>\n",
              "      <th>2</th>\n",
              "      <td>Positive</td>\n",
              "      <td>0.162150</td>\n",
              "    </tr>\n",
              "  </tbody>\n",
              "</table>\n",
              "</div>"
            ],
            "text/plain": [
              "      Class  Probability\n",
              "0  Negative    99.613754\n",
              "1   Neutral     0.224120\n",
              "2  Positive     0.162150"
            ]
          },
          "metadata": {},
          "execution_count": 48
        }
      ]
    },
    {
      "cell_type": "markdown",
      "metadata": {
        "id": "y9ybuaXeH3ES"
      },
      "source": [
        "# Evaluation"
      ]
    },
    {
      "cell_type": "markdown",
      "metadata": {
        "id": "uD1o_KGwZmud"
      },
      "source": [
        "Creamos una funcion para que evalua sobbre el test set."
      ]
    },
    {
      "cell_type": "code",
      "metadata": {
        "id": "YhJfuOLoVu54"
      },
      "source": [
        "def evaluate(modelo,dataloader):\n",
        "    # Modelo en modo evaluation\n",
        "    # Desactiva el dropout\n",
        "    modelo.eval()\n",
        "    # Variables donde guardar resultados\n",
        "    test_loss_total = 0\n",
        "    y_pred, y_true = [], []\n",
        "    correct = 0\n",
        "    with torch.inference_mode():        \n",
        "      for batch in tqdm(dataloader):\n",
        "        x = batch['ids']\n",
        "        x_l = batch['text_lenght']\n",
        "        y = batch['label']\n",
        "        y_hat = modelo(x,x_l)\n",
        "        loss = loss_function(y_hat,y)\n",
        "        test_loss_total += loss.item()\n",
        "        _, predicted = torch.max(y_hat.data, 1)\n",
        "        predicted = predicted.detach().cpu().numpy()\n",
        "        label_ids = y.cpu().numpy()\n",
        "        y_pred.append(predicted)\n",
        "        y_true.append(label_ids)\n",
        "    \n",
        "    test_loss = test_loss_total/len(dataloader) \n",
        "    y_pred = np.concatenate(y_pred, axis=0)\n",
        "    y_true = np.concatenate(y_true, axis=0)\n",
        "            \n",
        "    return test_loss, y_pred, y_true"
      ],
      "execution_count": 49,
      "outputs": []
    },
    {
      "cell_type": "code",
      "metadata": {
        "colab": {
          "base_uri": "https://localhost:8080/",
          "height": 49,
          "referenced_widgets": [
            "6aaaf26a603d4fa1b5ab83af1f6552a8",
            "7a380f86cd384374a1786f6a5487fef8",
            "892ee11ae6dc4d1cbae973789f842ed5",
            "ae629bf4be3c4f719201ac21bd3aaf4f",
            "43fa142299b14e799fac5f5ea5001a0a",
            "fb47db8424304c0fbff3458ccedf24aa",
            "8578e3402dc048949fc706f4d5f22351",
            "5dc82ddfc7db43e28a1ef13d3c1dc8cb",
            "bcaade5da4e446ac8c0c3645b10ca96d",
            "68752516c63c482c855b3948e67cac4d",
            "77a46ffb96ce46e08990d5d4d4d742ec"
          ]
        },
        "id": "9xvu_qOSHzhe",
        "outputId": "7a4bc7b9-d73a-48d4-cd9d-2bdec08030e3"
      },
      "source": [
        "test_loss, y_pred, y_true = evaluate(modelo,test_dl)"
      ],
      "execution_count": 50,
      "outputs": [
        {
          "output_type": "display_data",
          "data": {
            "application/vnd.jupyter.widget-view+json": {
              "model_id": "6aaaf26a603d4fa1b5ab83af1f6552a8",
              "version_minor": 0,
              "version_major": 2
            },
            "text/plain": [
              "  0%|          | 0/33 [00:00<?, ?it/s]"
            ]
          },
          "metadata": {}
        }
      ]
    },
    {
      "cell_type": "markdown",
      "metadata": {
        "id": "pOGS24tVZrdS"
      },
      "source": [
        "## Confusion Matrix"
      ]
    },
    {
      "cell_type": "code",
      "metadata": {
        "colab": {
          "base_uri": "https://localhost:8080/",
          "height": 447
        },
        "id": "pJbAlA8qH0Fw",
        "outputId": "25c7e3f6-2ce3-4c82-cb1d-a82bcf743a84"
      },
      "source": [
        "con_mat = confusion_matrix(y_true,y_pred)\n",
        "acc_test = accuracy_score(y_true,y_pred)\n",
        "print(acc_test)\n",
        "\n",
        "df_cm = pd.DataFrame(con_mat, index = [i for i in name_classes],\n",
        "                  columns = [i for i in name_classes])\n",
        "\n",
        "plt.figure(figsize = (10,7))\n",
        "sns.heatmap(df_cm, annot=True,fmt='g')\n",
        "plt.show()"
      ],
      "execution_count": 51,
      "outputs": [
        {
          "output_type": "stream",
          "name": "stdout",
          "text": [
            "0.8588095238095238\n"
          ]
        },
        {
          "output_type": "display_data",
          "data": {
            "image/png": "[encoded data removed]",
            "text/plain": [
              "<Figure size 720x504 with 2 Axes>"
            ]
          },
          "metadata": {
            "needs_background": "light"
          }
        }
      ]
    },
    {
      "cell_type": "markdown",
      "metadata": {
        "id": "mHcIQeCfuJyr"
      },
      "source": [
        "# Preguntas?"
      ]
    },
    {
      "cell_type": "markdown",
      "metadata": {
        "id": "6fqNNeMMuDeN"
      },
      "source": [
        "![](https://preview.redd.it/t87gswsbmnq41.jpg?width=640&crop=smart&auto=webp&s=b2777564c452e6de90edd14ef57b8740632da573)"
      ]
    }
  ]
}